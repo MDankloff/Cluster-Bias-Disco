{
  "nbformat": 4,
  "nbformat_minor": 0,
  "metadata": {
    "colab": {
      "provenance": [],
      "collapsed_sections": [
        "7-kBpl4bJH9b",
        "WX2IA38aMY6l"
      ],
      "authorship_tag": "ABX9TyMcOCB8izCtazT7ajadbzg0",
      "include_colab_link": true
    },
    "kernelspec": {
      "name": "python3",
      "display_name": "Python 3"
    },
    "language_info": {
      "name": "python"
    }
  },
  "cells": [
    {
      "cell_type": "markdown",
      "metadata": {
        "id": "view-in-github",
        "colab_type": "text"
      },
      "source": [
        "<a href=\"https://colab.research.google.com/github/MDankloff/Cluster-Bias-Disco/blob/main/BAFV2data_preprocessing.ipynb\" target=\"_parent\"><img src=\"https://colab.research.google.com/assets/colab-badge.svg\" alt=\"Open In Colab\"/></a>"
      ]
    },
    {
      "cell_type": "markdown",
      "source": [
        "# Libraries"
      ],
      "metadata": {
        "id": "7-kBpl4bJH9b"
      }
    },
    {
      "cell_type": "code",
      "execution_count": 167,
      "metadata": {
        "id": "d17HlBJaIX6e"
      },
      "outputs": [],
      "source": [
        "import pickle\n",
        "import lightgbm as lgbm\n",
        "import pandas as pd\n",
        "import numpy as np\n",
        "import matplotlib.pyplot as plt\n",
        "import seaborn as sns\n",
        "import yaml\n",
        "import glob\n",
        "import random\n",
        "import os\n",
        "import joblib\n",
        "from sklearn.preprocessing import StandardScaler, LabelEncoder\n",
        "from sklearn.model_selection import train_test_split\n",
        "from sklearn.ensemble import RandomForestClassifier\n",
        "from sklearn.metrics import accuracy_score, precision_recall_fscore_support, confusion_matrix, roc_auc_score\n",
        "from sklearn.utils import resample"
      ]
    },
    {
      "cell_type": "code",
      "source": [
        "!pip install dask[dataframe]"
      ],
      "metadata": {
        "colab": {
          "base_uri": "https://localhost:8080/"
        },
        "id": "Cr6GvrPBJrHd",
        "outputId": "0a84b51d-cd55-4533-a2af-992909d4c20f"
      },
      "execution_count": 168,
      "outputs": [
        {
          "output_type": "stream",
          "name": "stdout",
          "text": [
            "Requirement already satisfied: dask[dataframe] in /usr/local/lib/python3.10/dist-packages (2024.10.0)\n",
            "Requirement already satisfied: click>=8.1 in /usr/local/lib/python3.10/dist-packages (from dask[dataframe]) (8.1.7)\n",
            "Requirement already satisfied: cloudpickle>=3.0.0 in /usr/local/lib/python3.10/dist-packages (from dask[dataframe]) (3.1.0)\n",
            "Requirement already satisfied: fsspec>=2021.09.0 in /usr/local/lib/python3.10/dist-packages (from dask[dataframe]) (2024.10.0)\n",
            "Requirement already satisfied: packaging>=20.0 in /usr/local/lib/python3.10/dist-packages (from dask[dataframe]) (24.2)\n",
            "Requirement already satisfied: partd>=1.4.0 in /usr/local/lib/python3.10/dist-packages (from dask[dataframe]) (1.4.2)\n",
            "Requirement already satisfied: pyyaml>=5.3.1 in /usr/local/lib/python3.10/dist-packages (from dask[dataframe]) (6.0.2)\n",
            "Requirement already satisfied: toolz>=0.10.0 in /usr/local/lib/python3.10/dist-packages (from dask[dataframe]) (0.12.1)\n",
            "Requirement already satisfied: importlib-metadata>=4.13.0 in /usr/local/lib/python3.10/dist-packages (from dask[dataframe]) (8.5.0)\n",
            "Requirement already satisfied: pandas>=2.0 in /usr/local/lib/python3.10/dist-packages (from dask[dataframe]) (2.2.2)\n",
            "Requirement already satisfied: dask-expr<1.2,>=1.1 in /usr/local/lib/python3.10/dist-packages (from dask[dataframe]) (1.1.16)\n",
            "Requirement already satisfied: pyarrow>=14.0.1 in /usr/local/lib/python3.10/dist-packages (from dask-expr<1.2,>=1.1->dask[dataframe]) (17.0.0)\n",
            "Requirement already satisfied: zipp>=3.20 in /usr/local/lib/python3.10/dist-packages (from importlib-metadata>=4.13.0->dask[dataframe]) (3.21.0)\n",
            "Requirement already satisfied: numpy>=1.22.4 in /usr/local/lib/python3.10/dist-packages (from pandas>=2.0->dask[dataframe]) (1.26.4)\n",
            "Requirement already satisfied: python-dateutil>=2.8.2 in /usr/local/lib/python3.10/dist-packages (from pandas>=2.0->dask[dataframe]) (2.8.2)\n",
            "Requirement already satisfied: pytz>=2020.1 in /usr/local/lib/python3.10/dist-packages (from pandas>=2.0->dask[dataframe]) (2024.2)\n",
            "Requirement already satisfied: tzdata>=2022.7 in /usr/local/lib/python3.10/dist-packages (from pandas>=2.0->dask[dataframe]) (2024.2)\n",
            "Requirement already satisfied: locket in /usr/local/lib/python3.10/dist-packages (from partd>=1.4.0->dask[dataframe]) (1.0.0)\n",
            "Requirement already satisfied: six>=1.5 in /usr/local/lib/python3.10/dist-packages (from python-dateutil>=2.8.2->pandas>=2.0->dask[dataframe]) (1.17.0)\n"
          ]
        }
      ]
    },
    {
      "cell_type": "code",
      "source": [
        "from google.colab import drive\n",
        "drive.mount('/content/drive')\n",
        "! cd '/content/drive/MyDrive/Mirthe_Supervision /Paper#3/BAF'\n"
      ],
      "metadata": {
        "colab": {
          "base_uri": "https://localhost:8080/"
        },
        "id": "L4pLQWb0JbOa",
        "outputId": "33ec8d28-01c0-45f5-95ed-42aaa1b95dae"
      },
      "execution_count": 169,
      "outputs": [
        {
          "output_type": "stream",
          "name": "stdout",
          "text": [
            "Drive already mounted at /content/drive; to attempt to forcibly remount, call drive.mount(\"/content/drive\", force_remount=True).\n"
          ]
        }
      ]
    },
    {
      "cell_type": "markdown",
      "source": [
        "# LOAD DATA & MODEL"
      ],
      "metadata": {
        "id": "XJMqPwdAKX1j"
      }
    },
    {
      "cell_type": "code",
      "source": [
        "base_path = '/content/drive/MyDrive/Mirthe_Supervision /Paper#3/BAF/parquet data'\n",
        "\n",
        "extension = \"parquet\" #for smaller \"parquet\" depending on the downloaded file\n",
        "data_paths = glob.glob(f\"{base_path}/*.{extension}\")\n",
        "\n",
        "def read_dataset(path, ext = extension):\n",
        "    if ext == \"csv\":\n",
        "      return pd.read_csv(path)\n",
        "    elif ext == \"parquet\":\n",
        "      return pd.read_parquet(path)\n",
        "    else:\n",
        "      raise ValueError(f\"Unsupported file extension: {ext}\")\n",
        "\n",
        "# Extract variant name from the file path (without the extension)\n",
        "def get_variant(path):\n",
        "    return os.path.basename(path).split(\".\")[0]\n",
        "\n",
        "# Dictionary comprehension to read all CSV files into a dictionary of DataFrames\n",
        "dataframes = {\n",
        "    get_variant(path): read_dataset(path) for path in data_paths\n",
        "}\n",
        "print(f\"Loaded datasets: {list(dataframes.keys())}\")\n",
        "\n",
        "datasets_paths = {\n",
        "    \"Base\": base_path + \"/Base.parquet\", # sampled to best represent original dataset\n",
        "    \"Variant I\": base_path + \"/Variant I.parquet\", # higher group size disparity than base - reducing the size of the minority group from approx 20 - 10% of the dataset\n",
        "    \"Variant II\": base_path + \"/Variant II.parquet\", # higher prevalence disparity than base - one group has 5 x the fraud detection rate of the other while group sizes are equal\n",
        "    \"Variant III\": base_path + \"/Variant III.parquet\", # better separability for one of the groups -\n",
        "    \"Variant IV\": base_path + \"/Variant IV.parquet\", # higher prevalence disparity in train\n",
        "    \"Variant V\": base_path + \"/Variant V.parquet\", # better separability in train for one of the groups\n",
        "}\n"
      ],
      "metadata": {
        "colab": {
          "base_uri": "https://localhost:8080/"
        },
        "id": "neIazZ_YKW4U",
        "outputId": "088cdf16-e4a7-4446-d0e9-dde6f8179b0f"
      },
      "execution_count": 170,
      "outputs": [
        {
          "output_type": "stream",
          "name": "stdout",
          "text": [
            "Loaded datasets: ['Base', 'Variant I', 'Variant II', 'Variant III', 'Variant IV', 'Variant V']\n"
          ]
        }
      ]
    },
    {
      "cell_type": "markdown",
      "source": [
        "load best light gbm model from variant 2"
      ],
      "metadata": {
        "id": "X1FRyv0BMCa5"
      }
    },
    {
      "cell_type": "code",
      "source": [
        "# directory containing the model files\n",
        "model_dir = '/content/drive/MyDrive/Mirthe_Supervision /Paper#3/BAF/Best Model per Variant/Accuracy'\n",
        "\n",
        "# Get list of all model files in the directory\n",
        "model_files = glob.glob(os.path.join(model_dir, '*.pkl'))\n",
        "\n",
        "# Dictionary to store loaded models\n",
        "models = {}\n",
        "\n",
        "# Load all models from the directory and save them to the dictionary\n",
        "for model_file in model_files:\n",
        "    # Load the model\n",
        "    with open(model_file, 'rb') as f:\n",
        "        model = joblib.load(f)\n",
        "\n",
        "    # Extract the model name from the file path (without extension)\n",
        "    model_name = os.path.basename(model_file).split('.')[0]\n",
        "\n",
        "    # Add the model to the dictionary\n",
        "    models[model_name] = model\n",
        "\n",
        "    # Optional: Save the model back (though it seems redundant here)\n",
        "    save_path = os.path.join(model_dir, f'{model_name}.pkl')\n",
        "    joblib.dump(model, save_path)\n",
        "\n",
        "    print(f\"Model '{model_name}' loaded and saved to: {save_path}\")\n",
        "\n",
        "# Accessing the best model for variant 2\n",
        "modelv2 = models.get(\"model_Variant II_top_4\")\n",
        "\n",
        "print(modelv2)"
      ],
      "metadata": {
        "colab": {
          "base_uri": "https://localhost:8080/"
        },
        "id": "7TPNV8ABKsLt",
        "outputId": "53cb3d5d-246a-4716-e953-208dd98c24a9"
      },
      "execution_count": 171,
      "outputs": [
        {
          "output_type": "stream",
          "name": "stdout",
          "text": [
            "Model 'model_Variant II_top_4' loaded and saved to: /content/drive/MyDrive/Mirthe_Supervision /Paper#3/BAF/Best Model per Variant/Accuracy/model_Variant II_top_4.pkl\n",
            "Model 'model_Base_top_4' loaded and saved to: /content/drive/MyDrive/Mirthe_Supervision /Paper#3/BAF/Best Model per Variant/Accuracy/model_Base_top_4.pkl\n",
            "Model 'model_Variant III_top_0' loaded and saved to: /content/drive/MyDrive/Mirthe_Supervision /Paper#3/BAF/Best Model per Variant/Accuracy/model_Variant III_top_0.pkl\n",
            "Model 'model_Variant I_top_4' loaded and saved to: /content/drive/MyDrive/Mirthe_Supervision /Paper#3/BAF/Best Model per Variant/Accuracy/model_Variant I_top_4.pkl\n",
            "Model 'model_Variant V_top_0' loaded and saved to: /content/drive/MyDrive/Mirthe_Supervision /Paper#3/BAF/Best Model per Variant/Accuracy/model_Variant V_top_0.pkl\n",
            "Model 'model_Variant IV_top_6' loaded and saved to: /content/drive/MyDrive/Mirthe_Supervision /Paper#3/BAF/Best Model per Variant/Accuracy/model_Variant IV_top_6.pkl\n",
            "LGBMClassifier(boosting_type='goss', enable_bundle=True,\n",
            "               learning_rate=0.06070433398329268, max_bin=496, max_depth=30,\n",
            "               min_data_in_leaf=48, n_estimators=227, n_jobs=10, num_leaves=43)\n"
          ]
        }
      ]
    },
    {
      "cell_type": "markdown",
      "source": [
        "# Explore data"
      ],
      "metadata": {
        "id": "WX2IA38aMY6l"
      }
    },
    {
      "cell_type": "code",
      "source": [
        "#rename dataset variant 2 and create a copy\n",
        "v2 = dataframes[\"Variant II\"]\n",
        "v2_old = v2.copy()"
      ],
      "metadata": {
        "id": "_bSoNyKtMd1-"
      },
      "execution_count": 172,
      "outputs": []
    },
    {
      "cell_type": "code",
      "source": [
        "pd.set_option('display.max_columns', 50) # Increase the maximum number of columns displayed in Pandas to 50\n",
        "pd.set_option('display.max_rows', 50)\n",
        "v2.info()"
      ],
      "metadata": {
        "colab": {
          "base_uri": "https://localhost:8080/"
        },
        "id": "wUpuRlBjMebe",
        "outputId": "dded324b-5c30-47e4-8310-11fc69c1c323"
      },
      "execution_count": 173,
      "outputs": [
        {
          "output_type": "stream",
          "name": "stdout",
          "text": [
            "<class 'pandas.core.frame.DataFrame'>\n",
            "RangeIndex: 1000000 entries, 0 to 999999\n",
            "Data columns (total 32 columns):\n",
            " #   Column                            Non-Null Count    Dtype  \n",
            "---  ------                            --------------    -----  \n",
            " 0   fraud_bool                        1000000 non-null  int64  \n",
            " 1   income                            1000000 non-null  float64\n",
            " 2   name_email_similarity             1000000 non-null  float64\n",
            " 3   prev_address_months_count         1000000 non-null  int64  \n",
            " 4   current_address_months_count      1000000 non-null  int64  \n",
            " 5   customer_age                      1000000 non-null  int64  \n",
            " 6   days_since_request                1000000 non-null  float64\n",
            " 7   intended_balcon_amount            1000000 non-null  float64\n",
            " 8   payment_type                      1000000 non-null  object \n",
            " 9   zip_count_4w                      1000000 non-null  int64  \n",
            " 10  velocity_6h                       1000000 non-null  float64\n",
            " 11  velocity_24h                      1000000 non-null  float64\n",
            " 12  velocity_4w                       1000000 non-null  float64\n",
            " 13  bank_branch_count_8w              1000000 non-null  int64  \n",
            " 14  date_of_birth_distinct_emails_4w  1000000 non-null  int64  \n",
            " 15  employment_status                 1000000 non-null  object \n",
            " 16  credit_risk_score                 1000000 non-null  int64  \n",
            " 17  email_is_free                     1000000 non-null  int64  \n",
            " 18  housing_status                    1000000 non-null  object \n",
            " 19  phone_home_valid                  1000000 non-null  int64  \n",
            " 20  phone_mobile_valid                1000000 non-null  int64  \n",
            " 21  bank_months_count                 1000000 non-null  int64  \n",
            " 22  has_other_cards                   1000000 non-null  int64  \n",
            " 23  proposed_credit_limit             1000000 non-null  float64\n",
            " 24  foreign_request                   1000000 non-null  int64  \n",
            " 25  source                            1000000 non-null  object \n",
            " 26  session_length_in_minutes         1000000 non-null  float64\n",
            " 27  device_os                         1000000 non-null  object \n",
            " 28  keep_alive_session                1000000 non-null  int64  \n",
            " 29  device_distinct_emails_8w         1000000 non-null  int64  \n",
            " 30  device_fraud_count                1000000 non-null  int64  \n",
            " 31  month                             1000000 non-null  int64  \n",
            "dtypes: float64(9), int64(18), object(5)\n",
            "memory usage: 244.1+ MB\n"
          ]
        }
      ]
    },
    {
      "cell_type": "code",
      "source": [
        "v2['payment_type'].unique() #remove because anonymized\n",
        "v2['days_since_request'].unique() #remove because unclear values"
      ],
      "metadata": {
        "colab": {
          "base_uri": "https://localhost:8080/"
        },
        "id": "vsqk1Jm3Qly0",
        "outputId": "1d059844-2cf1-4834-9a0b-884647b469ee"
      },
      "execution_count": 174,
      "outputs": [
        {
          "output_type": "execute_result",
          "data": {
            "text/plain": [
              "array([0.01673985, 0.01900183, 0.04706417, ..., 0.03555377, 0.02066269,\n",
              "       0.0074784 ])"
            ]
          },
          "metadata": {},
          "execution_count": 174
        }
      ]
    },
    {
      "cell_type": "code",
      "source": [
        "print(v2['days_since_request'])"
      ],
      "metadata": {
        "colab": {
          "base_uri": "https://localhost:8080/"
        },
        "id": "jsTgORz1RPpN",
        "outputId": "09d5c755-08ac-4ee2-a355-4c170f53e3bc"
      },
      "execution_count": 175,
      "outputs": [
        {
          "output_type": "stream",
          "name": "stdout",
          "text": [
            "0         0.016740\n",
            "1         0.019002\n",
            "2         0.047064\n",
            "3         0.008007\n",
            "4         2.513544\n",
            "            ...   \n",
            "999995    0.001835\n",
            "999996    0.023952\n",
            "999997    0.035554\n",
            "999998    0.020663\n",
            "999999    0.007478\n",
            "Name: days_since_request, Length: 1000000, dtype: float64\n"
          ]
        }
      ]
    },
    {
      "cell_type": "code",
      "source": [
        "v2_old['source'].unique()\n",
        "v2_old['device_os'].unique()\n",
        "v2_old['keep_alive_session'].unique()\n",
        "#v2_old['device_fraud_count'].unique()"
      ],
      "metadata": {
        "colab": {
          "base_uri": "https://localhost:8080/"
        },
        "id": "vlhNYX2fRyMQ",
        "outputId": "4e262067-1fec-4b26-a50d-d3dd5e16a979"
      },
      "execution_count": 176,
      "outputs": [
        {
          "output_type": "execute_result",
          "data": {
            "text/plain": [
              "array([0, 1])"
            ]
          },
          "metadata": {},
          "execution_count": 176
        }
      ]
    },
    {
      "cell_type": "code",
      "source": [
        "1 in v2_old['device_fraud_count'].unique()"
      ],
      "metadata": {
        "colab": {
          "base_uri": "https://localhost:8080/"
        },
        "id": "TMJk5viqdtGL",
        "outputId": "48e0a88f-52d4-47be-925f-dbd8a3cfbe2a"
      },
      "execution_count": 177,
      "outputs": [
        {
          "output_type": "execute_result",
          "data": {
            "text/plain": [
              "False"
            ]
          },
          "metadata": {},
          "execution_count": 177
        }
      ]
    },
    {
      "cell_type": "markdown",
      "source": [
        "how to deal with missing values"
      ],
      "metadata": {
        "id": "Sgmpuc-jUXkL"
      }
    },
    {
      "cell_type": "code",
      "source": [
        "v2_old['device_os'].unique()"
      ],
      "metadata": {
        "colab": {
          "base_uri": "https://localhost:8080/"
        },
        "id": "L4WkRQ-HNf_B",
        "outputId": "6b1da678-2e4c-408a-9978-71f360433e8c"
      },
      "execution_count": 178,
      "outputs": [
        {
          "output_type": "execute_result",
          "data": {
            "text/plain": [
              "array(['other', 'macintosh', 'linux', 'windows', 'x11'], dtype=object)"
            ]
          },
          "metadata": {},
          "execution_count": 178
        }
      ]
    },
    {
      "cell_type": "markdown",
      "source": [
        "Master dataset"
      ],
      "metadata": {
        "id": "3FWW5CM7Mba0"
      }
    },
    {
      "cell_type": "code",
      "source": [
        "#FEATURES\n",
        "META = ['clusters', 'new_clusters']\n",
        "ERROR = ['errors', 'TP', 'TN', 'FN', 'FP']\n",
        "REG = ['bank_branch_count_8w', 'credit_risk_score', 'device_os','month', 'session_length_in_minutes', 'email_is_free', 'proposed_credit_limit', 'name_email_similarity',\n",
        "      'zip_count_4w', 'date_of_birth_distinct_emails_4w', 'phone_mobile_valid', 'has_other_cards', 'foreign_request']\n",
        "SEN = ['customer_age', 'income'] #protected attributes in BAF paper\n",
        "DUMMY = ['source_INTERNET', 'Source_TELEAPP', 'device_os_other', 'device_os_macintosh','device_os_linux','device_os_windows', 'device_os_x11']\n",
        "\n",
        "#FEATURES SCALED\n",
        "ERROR_scaled = ['errors_scaled']\n",
        "REG_scaled = ['bank_branch_count_8w_scaled', 'credit_risk_score_scaled', 'device_os_scaled','month_scaled', 'session_length_in_minutes_scaled',\n",
        "              'email_is_free_scaled', 'proposed_credit_limit_scaled', 'name_email_similarity_scaled', 'zip_count_4w_scaled',\n",
        "              'date_of_birth_distinct_emails_4w_scaled', 'phone_home_valid_scaled','has_other_cards_scaled', 'foreign_request_scaled']\n",
        "SEN_scaled = ['customer_age_scaled', 'income_scaled']\n",
        "DUMMY_scaled = ['source_INTERNET_scaled', 'Source_TELEAPP_scaled', 'device_os_other_scaled', 'device_os_macintosh_scaled', 'device_os_linux_scaled', 'device_os_windows_scaled', 'device_os_x11_scaled']\n",
        "\n",
        "\n",
        "#SHAP FEATURES\n",
        "SHAP_REG = ['bank_branch_count_8w_shap', 'credit_risk_score_shap', 'device_os_shap', 'month_shap', 'session_length_in_minutes_shap', 'email_is_free_shap', 'proposed_credit_limit_shap', 'name_email_similarity_shap',\n",
        " 'zip_count_4w_shap', 'date_of_birth_distinct_emails_4w_shap', 'phone_mobile_valid_shap', 'has_other_cards_shap', 'foreign_request_shap']\n",
        "SHAP_SEN = ['customer_age_shap', 'income_shap']\n",
        "SHAP_DUMMY = ['source_INTERNET_shap', 'Source_TELEAPP_shap', 'device_os_other_shap', 'device_os_macintosh_shap','device_os_linux_shap','device_os_windows_shap', 'device_os_x11_shap']\n",
        "\n",
        "#SHAP FEATURES SCALED\n",
        "SHAP_REG_scaled = ['bank_branch_count_8w_shap_scaled', 'credit_risk_score_shap_scaled', 'device_os_shap_scaled', 'month_shap_scaled', 'session_length_in_minutes_shap_scaled',\n",
        " 'email_is_free_shap_scaled', 'proposed_credit_limit_shap_scaled', 'name_email_similarity_shap_scaled', 'zip_count_4w_shap_scaled',\n",
        " 'date_of_birth_distinct_emails_4w_shap_scaled', 'phone_mobile_valid_shap_scaled', 'has_other_cards_shap_scaled', 'foreign_request_shap_scaled']\n",
        "SHAP_SEN_scaled = ['customer_age_shap_scaled', 'income_shap_scaled']\n",
        "SHAP_DUMMY_scaled = ['source_INTERNET_shap_scaled', 'Source_TELEAPP_shap_scaled', 'device_os_other_shap_scaled', 'device_os_macintosh_shap_scaled',\n",
        " 'device_os_linux_shap_scaled', 'device_os_windows_shap_scaled', 'device_os_x11_shap_scaled']\n",
        "\n",
        "'''removed features = 'device_fraud_count', 'intended_balcon_amount', 'payment_type', 'days_since_request',\n",
        "'velocity_6h', 'velocity_24h', 'velocity_4w', 'keep_alive_session', 'prev_address_months_count', 'current_address_months_count', 'phone_home_valid', 'bank_months_count', 'device_distinct_emails_8w', 'housing_status', 'employment_status' '''"
      ],
      "metadata": {
        "colab": {
          "base_uri": "https://localhost:8080/",
          "height": 1000
        },
        "id": "VMmJHJ07MqTu",
        "outputId": "afc78987-fa4b-4cc6-851b-e74ef63527fe"
      },
      "execution_count": 179,
      "outputs": [
        {
          "output_type": "execute_result",
          "data": {
            "text/plain": [
              "\"removed features = 'device_fraud_count', 'intended_balcon_amount', 'payment_type', 'days_since_request', \\n'velocity_6h', 'velocity_24h', 'velocity_4w', 'keep_alive_session', 'prev_address_months_count', 'current_address_months_count', 'phone_home_valid', 'bank_months_count', 'device_distinct_emails_8w', 'housing_status', 'employment_status' \""
            ],
            "application/vnd.google.colaboratory.intrinsic+json": {
              "type": "string"
            }
          },
          "metadata": {},
          "execution_count": 179
        }
      ]
    },
    {
      "cell_type": "code",
      "source": [
        "v2_old['housing_status'].unique()"
      ],
      "metadata": {
        "colab": {
          "base_uri": "https://localhost:8080/"
        },
        "id": "JrFheRIP3X8l",
        "outputId": "3bef46c0-e6d8-43ae-c0cf-4fa4aec17c78"
      },
      "execution_count": 180,
      "outputs": [
        {
          "output_type": "execute_result",
          "data": {
            "text/plain": [
              "array(['BC', 'BA', 'BE', 'BB', 'BD', 'BF', 'BG'], dtype=object)"
            ]
          },
          "metadata": {},
          "execution_count": 180
        }
      ]
    },
    {
      "cell_type": "code",
      "source": [
        "v2_old['employment_status'].unique()"
      ],
      "metadata": {
        "colab": {
          "base_uri": "https://localhost:8080/"
        },
        "id": "nST4zNjB3NuU",
        "outputId": "1c9403ea-1e09-4dd5-dec8-53aa1e5242ad"
      },
      "execution_count": 181,
      "outputs": [
        {
          "output_type": "execute_result",
          "data": {
            "text/plain": [
              "array(['CB', 'CA', 'CE', 'CD', 'CC', 'CF', 'CG'], dtype=object)"
            ]
          },
          "metadata": {},
          "execution_count": 181
        }
      ]
    },
    {
      "cell_type": "code",
      "source": [
        "v2_old['source'].unique()"
      ],
      "metadata": {
        "colab": {
          "base_uri": "https://localhost:8080/"
        },
        "id": "e07KliEp3mKn",
        "outputId": "dca40c30-1c8e-4575-b529-17a8d263d857"
      },
      "execution_count": 182,
      "outputs": [
        {
          "output_type": "execute_result",
          "data": {
            "text/plain": [
              "array(['INTERNET', 'TELEAPP'], dtype=object)"
            ]
          },
          "metadata": {},
          "execution_count": 182
        }
      ]
    },
    {
      "cell_type": "code",
      "source": [
        "v2_old['device_os'].unique()"
      ],
      "metadata": {
        "colab": {
          "base_uri": "https://localhost:8080/"
        },
        "id": "n_ZNnpfjMX7j",
        "outputId": "56fee860-e881-4dbd-f730-69646f0d7216"
      },
      "execution_count": 183,
      "outputs": [
        {
          "output_type": "execute_result",
          "data": {
            "text/plain": [
              "array(['other', 'macintosh', 'linux', 'windows', 'x11'], dtype=object)"
            ]
          },
          "metadata": {},
          "execution_count": 183
        }
      ]
    },
    {
      "cell_type": "markdown",
      "source": [
        "Remove features"
      ],
      "metadata": {
        "id": "MnrVb8tyMKQl"
      }
    },
    {
      "cell_type": "code",
      "source": [
        "features_to_remove = ['device_fraud_count', 'intended_balcon_amount', 'payment_type', 'days_since_request',\n",
        "'velocity_6h', 'velocity_24h', 'velocity_4w', 'keep_alive_session', 'prev_address_months_count', 'current_address_months_count', 'phone_home_valid', 'bank_months_count', 'device_distinct_emails_8w', 'housing_status', 'employment_status' ]\n",
        "\n",
        "v2 = v2.drop(columns = features_to_remove)"
      ],
      "metadata": {
        "id": "4jbrTmtZVva0"
      },
      "execution_count": 184,
      "outputs": []
    },
    {
      "cell_type": "code",
      "source": [
        "v2.info()"
      ],
      "metadata": {
        "colab": {
          "base_uri": "https://localhost:8080/"
        },
        "id": "OpjxnptjWT6Q",
        "outputId": "b6d6a081-259f-46aa-ebe6-c17f4938d213"
      },
      "execution_count": 185,
      "outputs": [
        {
          "output_type": "stream",
          "name": "stdout",
          "text": [
            "<class 'pandas.core.frame.DataFrame'>\n",
            "RangeIndex: 1000000 entries, 0 to 999999\n",
            "Data columns (total 17 columns):\n",
            " #   Column                            Non-Null Count    Dtype  \n",
            "---  ------                            --------------    -----  \n",
            " 0   fraud_bool                        1000000 non-null  int64  \n",
            " 1   income                            1000000 non-null  float64\n",
            " 2   name_email_similarity             1000000 non-null  float64\n",
            " 3   customer_age                      1000000 non-null  int64  \n",
            " 4   zip_count_4w                      1000000 non-null  int64  \n",
            " 5   bank_branch_count_8w              1000000 non-null  int64  \n",
            " 6   date_of_birth_distinct_emails_4w  1000000 non-null  int64  \n",
            " 7   credit_risk_score                 1000000 non-null  int64  \n",
            " 8   email_is_free                     1000000 non-null  int64  \n",
            " 9   phone_mobile_valid                1000000 non-null  int64  \n",
            " 10  has_other_cards                   1000000 non-null  int64  \n",
            " 11  proposed_credit_limit             1000000 non-null  float64\n",
            " 12  foreign_request                   1000000 non-null  int64  \n",
            " 13  source                            1000000 non-null  object \n",
            " 14  session_length_in_minutes         1000000 non-null  float64\n",
            " 15  device_os                         1000000 non-null  object \n",
            " 16  month                             1000000 non-null  int64  \n",
            "dtypes: float64(4), int64(11), object(2)\n",
            "memory usage: 129.7+ MB\n"
          ]
        }
      ]
    },
    {
      "cell_type": "code",
      "source": [
        "#get a smaller sample\n",
        "v2_sample = v2.sample(n= 8000, random_state = 42)"
      ],
      "metadata": {
        "id": "RC5wJD3ggjWH"
      },
      "execution_count": 186,
      "outputs": []
    },
    {
      "cell_type": "code",
      "source": [
        "v2_sample.info()"
      ],
      "metadata": {
        "colab": {
          "base_uri": "https://localhost:8080/"
        },
        "id": "2ENg1TLLgy-C",
        "outputId": "e0ce4e72-f9a1-45f0-dbbe-7106243580d0"
      },
      "execution_count": 187,
      "outputs": [
        {
          "output_type": "stream",
          "name": "stdout",
          "text": [
            "<class 'pandas.core.frame.DataFrame'>\n",
            "Index: 8000 entries, 987231 to 534950\n",
            "Data columns (total 17 columns):\n",
            " #   Column                            Non-Null Count  Dtype  \n",
            "---  ------                            --------------  -----  \n",
            " 0   fraud_bool                        8000 non-null   int64  \n",
            " 1   income                            8000 non-null   float64\n",
            " 2   name_email_similarity             8000 non-null   float64\n",
            " 3   customer_age                      8000 non-null   int64  \n",
            " 4   zip_count_4w                      8000 non-null   int64  \n",
            " 5   bank_branch_count_8w              8000 non-null   int64  \n",
            " 6   date_of_birth_distinct_emails_4w  8000 non-null   int64  \n",
            " 7   credit_risk_score                 8000 non-null   int64  \n",
            " 8   email_is_free                     8000 non-null   int64  \n",
            " 9   phone_mobile_valid                8000 non-null   int64  \n",
            " 10  has_other_cards                   8000 non-null   int64  \n",
            " 11  proposed_credit_limit             8000 non-null   float64\n",
            " 12  foreign_request                   8000 non-null   int64  \n",
            " 13  source                            8000 non-null   object \n",
            " 14  session_length_in_minutes         8000 non-null   float64\n",
            " 15  device_os                         8000 non-null   object \n",
            " 16  month                             8000 non-null   int64  \n",
            "dtypes: float64(4), int64(11), object(2)\n",
            "memory usage: 1.1+ MB\n"
          ]
        }
      ]
    },
    {
      "cell_type": "code",
      "source": [
        "'''missing_values = v2_sample.isna()\n",
        "print(missing_values)'''"
      ],
      "metadata": {
        "colab": {
          "base_uri": "https://localhost:8080/",
          "height": 956
        },
        "id": "MeQj0gG90WmU",
        "outputId": "07956874-a96b-44a1-e71a-57c0be3e8a90"
      },
      "execution_count": 188,
      "outputs": [
        {
          "output_type": "execute_result",
          "data": {
            "text/plain": [
              "'missing_values = v2_sample.isna()\\nprint(missing_values)'"
            ],
            "application/vnd.google.colaboratory.intrinsic+json": {
              "type": "string"
            }
          },
          "metadata": {},
          "execution_count": 188
        }
      ]
    },
    {
      "cell_type": "code",
      "source": [
        "#print(v2_sample.loc[534950])"
      ],
      "metadata": {
        "id": "8EhvJvf_04fk"
      },
      "execution_count": 189,
      "outputs": []
    },
    {
      "cell_type": "markdown",
      "source": [
        "Get dummies for objects"
      ],
      "metadata": {
        "id": "QNpgB08vMfUN"
      }
    },
    {
      "cell_type": "code",
      "source": [
        "dummy_cols = ['source', 'device_os']\n",
        "v2_sample = pd.get_dummies(v2_sample, columns = dummy_cols)\n",
        "v2_sample.info()"
      ],
      "metadata": {
        "colab": {
          "base_uri": "https://localhost:8080/"
        },
        "id": "8CDVUOW2MeZJ",
        "outputId": "58f1ff63-02bf-4ec6-de55-68cd8e862303"
      },
      "execution_count": 190,
      "outputs": [
        {
          "output_type": "stream",
          "name": "stdout",
          "text": [
            "<class 'pandas.core.frame.DataFrame'>\n",
            "Index: 8000 entries, 987231 to 534950\n",
            "Data columns (total 22 columns):\n",
            " #   Column                            Non-Null Count  Dtype  \n",
            "---  ------                            --------------  -----  \n",
            " 0   fraud_bool                        8000 non-null   int64  \n",
            " 1   income                            8000 non-null   float64\n",
            " 2   name_email_similarity             8000 non-null   float64\n",
            " 3   customer_age                      8000 non-null   int64  \n",
            " 4   zip_count_4w                      8000 non-null   int64  \n",
            " 5   bank_branch_count_8w              8000 non-null   int64  \n",
            " 6   date_of_birth_distinct_emails_4w  8000 non-null   int64  \n",
            " 7   credit_risk_score                 8000 non-null   int64  \n",
            " 8   email_is_free                     8000 non-null   int64  \n",
            " 9   phone_mobile_valid                8000 non-null   int64  \n",
            " 10  has_other_cards                   8000 non-null   int64  \n",
            " 11  proposed_credit_limit             8000 non-null   float64\n",
            " 12  foreign_request                   8000 non-null   int64  \n",
            " 13  session_length_in_minutes         8000 non-null   float64\n",
            " 14  month                             8000 non-null   int64  \n",
            " 15  source_INTERNET                   8000 non-null   bool   \n",
            " 16  source_TELEAPP                    8000 non-null   bool   \n",
            " 17  device_os_linux                   8000 non-null   bool   \n",
            " 18  device_os_macintosh               8000 non-null   bool   \n",
            " 19  device_os_other                   8000 non-null   bool   \n",
            " 20  device_os_windows                 8000 non-null   bool   \n",
            " 21  device_os_x11                     8000 non-null   bool   \n",
            "dtypes: bool(7), float64(4), int64(11)\n",
            "memory usage: 1.0 MB\n"
          ]
        }
      ]
    },
    {
      "cell_type": "markdown",
      "source": [
        "# Train RF"
      ],
      "metadata": {
        "id": "kdXyVF9hM5Du"
      }
    },
    {
      "cell_type": "code",
      "source": [
        "X = v2_sample.drop(columns = ['fraud_bool'], axis = 1)\n",
        "Y = v2_sample['fraud_bool']\n",
        "Y.value_counts()"
      ],
      "metadata": {
        "colab": {
          "base_uri": "https://localhost:8080/",
          "height": 178
        },
        "id": "_wMqv5NeM7N_",
        "outputId": "39e3d5ed-d6b1-458c-a49f-83827bf7101e"
      },
      "execution_count": 191,
      "outputs": [
        {
          "output_type": "execute_result",
          "data": {
            "text/plain": [
              "fraud_bool\n",
              "0    7918\n",
              "1      82\n",
              "Name: count, dtype: int64"
            ],
            "text/html": [
              "<div>\n",
              "<style scoped>\n",
              "    .dataframe tbody tr th:only-of-type {\n",
              "        vertical-align: middle;\n",
              "    }\n",
              "\n",
              "    .dataframe tbody tr th {\n",
              "        vertical-align: top;\n",
              "    }\n",
              "\n",
              "    .dataframe thead th {\n",
              "        text-align: right;\n",
              "    }\n",
              "</style>\n",
              "<table border=\"1\" class=\"dataframe\">\n",
              "  <thead>\n",
              "    <tr style=\"text-align: right;\">\n",
              "      <th></th>\n",
              "      <th>count</th>\n",
              "    </tr>\n",
              "    <tr>\n",
              "      <th>fraud_bool</th>\n",
              "      <th></th>\n",
              "    </tr>\n",
              "  </thead>\n",
              "  <tbody>\n",
              "    <tr>\n",
              "      <th>0</th>\n",
              "      <td>7918</td>\n",
              "    </tr>\n",
              "    <tr>\n",
              "      <th>1</th>\n",
              "      <td>82</td>\n",
              "    </tr>\n",
              "  </tbody>\n",
              "</table>\n",
              "</div><br><label><b>dtype:</b> int64</label>"
            ]
          },
          "metadata": {},
          "execution_count": 191
        }
      ]
    },
    {
      "cell_type": "code",
      "source": [
        "X = X.astype(int)\n",
        "Y = Y.astype(int)\n",
        "X.iloc[7]"
      ],
      "metadata": {
        "colab": {
          "base_uri": "https://localhost:8080/",
          "height": 743
        },
        "id": "ZLhjFKW7RH18",
        "outputId": "1fdd29b8-e48d-4fd7-ea4f-416196842c0f"
      },
      "execution_count": 192,
      "outputs": [
        {
          "output_type": "execute_result",
          "data": {
            "text/plain": [
              "income                                0\n",
              "name_email_similarity                 0\n",
              "customer_age                         20\n",
              "zip_count_4w                        990\n",
              "bank_branch_count_8w                  9\n",
              "date_of_birth_distinct_emails_4w      6\n",
              "credit_risk_score                   116\n",
              "email_is_free                         1\n",
              "phone_mobile_valid                    1\n",
              "has_other_cards                       1\n",
              "proposed_credit_limit               500\n",
              "foreign_request                       0\n",
              "session_length_in_minutes             2\n",
              "month                                 5\n",
              "source_INTERNET                       1\n",
              "source_TELEAPP                        0\n",
              "device_os_linux                       0\n",
              "device_os_macintosh                   0\n",
              "device_os_other                       1\n",
              "device_os_windows                     0\n",
              "device_os_x11                         0\n",
              "Name: 732057, dtype: int64"
            ],
            "text/html": [
              "<div>\n",
              "<style scoped>\n",
              "    .dataframe tbody tr th:only-of-type {\n",
              "        vertical-align: middle;\n",
              "    }\n",
              "\n",
              "    .dataframe tbody tr th {\n",
              "        vertical-align: top;\n",
              "    }\n",
              "\n",
              "    .dataframe thead th {\n",
              "        text-align: right;\n",
              "    }\n",
              "</style>\n",
              "<table border=\"1\" class=\"dataframe\">\n",
              "  <thead>\n",
              "    <tr style=\"text-align: right;\">\n",
              "      <th></th>\n",
              "      <th>732057</th>\n",
              "    </tr>\n",
              "  </thead>\n",
              "  <tbody>\n",
              "    <tr>\n",
              "      <th>income</th>\n",
              "      <td>0</td>\n",
              "    </tr>\n",
              "    <tr>\n",
              "      <th>name_email_similarity</th>\n",
              "      <td>0</td>\n",
              "    </tr>\n",
              "    <tr>\n",
              "      <th>customer_age</th>\n",
              "      <td>20</td>\n",
              "    </tr>\n",
              "    <tr>\n",
              "      <th>zip_count_4w</th>\n",
              "      <td>990</td>\n",
              "    </tr>\n",
              "    <tr>\n",
              "      <th>bank_branch_count_8w</th>\n",
              "      <td>9</td>\n",
              "    </tr>\n",
              "    <tr>\n",
              "      <th>date_of_birth_distinct_emails_4w</th>\n",
              "      <td>6</td>\n",
              "    </tr>\n",
              "    <tr>\n",
              "      <th>credit_risk_score</th>\n",
              "      <td>116</td>\n",
              "    </tr>\n",
              "    <tr>\n",
              "      <th>email_is_free</th>\n",
              "      <td>1</td>\n",
              "    </tr>\n",
              "    <tr>\n",
              "      <th>phone_mobile_valid</th>\n",
              "      <td>1</td>\n",
              "    </tr>\n",
              "    <tr>\n",
              "      <th>has_other_cards</th>\n",
              "      <td>1</td>\n",
              "    </tr>\n",
              "    <tr>\n",
              "      <th>proposed_credit_limit</th>\n",
              "      <td>500</td>\n",
              "    </tr>\n",
              "    <tr>\n",
              "      <th>foreign_request</th>\n",
              "      <td>0</td>\n",
              "    </tr>\n",
              "    <tr>\n",
              "      <th>session_length_in_minutes</th>\n",
              "      <td>2</td>\n",
              "    </tr>\n",
              "    <tr>\n",
              "      <th>month</th>\n",
              "      <td>5</td>\n",
              "    </tr>\n",
              "    <tr>\n",
              "      <th>source_INTERNET</th>\n",
              "      <td>1</td>\n",
              "    </tr>\n",
              "    <tr>\n",
              "      <th>source_TELEAPP</th>\n",
              "      <td>0</td>\n",
              "    </tr>\n",
              "    <tr>\n",
              "      <th>device_os_linux</th>\n",
              "      <td>0</td>\n",
              "    </tr>\n",
              "    <tr>\n",
              "      <th>device_os_macintosh</th>\n",
              "      <td>0</td>\n",
              "    </tr>\n",
              "    <tr>\n",
              "      <th>device_os_other</th>\n",
              "      <td>1</td>\n",
              "    </tr>\n",
              "    <tr>\n",
              "      <th>device_os_windows</th>\n",
              "      <td>0</td>\n",
              "    </tr>\n",
              "    <tr>\n",
              "      <th>device_os_x11</th>\n",
              "      <td>0</td>\n",
              "    </tr>\n",
              "  </tbody>\n",
              "</table>\n",
              "</div><br><label><b>dtype:</b> int64</label>"
            ]
          },
          "metadata": {},
          "execution_count": 192
        }
      ]
    },
    {
      "cell_type": "code",
      "source": [
        "# Split the data into train and test sets\n",
        "X_train, X_test, Y_train, Y_test = train_test_split(X, Y, test_size=0.7, shuffle=True, stratify=Y)"
      ],
      "metadata": {
        "id": "cZRXWW2reQrb"
      },
      "execution_count": 193,
      "outputs": []
    },
    {
      "cell_type": "markdown",
      "source": [
        "Have to use the different split here"
      ],
      "metadata": {
        "id": "LpF-GxIGgqpa"
      }
    },
    {
      "cell_type": "markdown",
      "source": [
        "Upsample minority class"
      ],
      "metadata": {
        "id": "bJkECGTsP08X"
      }
    },
    {
      "cell_type": "code",
      "source": [
        "df_majority = v2_sample[v2_sample['fraud_bool'] == 0]\n",
        "df_minority = v2_sample[v2_sample['fraud_bool'] == 1]\n",
        "\n",
        "#  minority_ratio (float): The desired ratio of minority samples to majority samples. Default is 0.1.\n",
        "minority_ratio = 0.1\n",
        "# Calculate the number of samples for upsampling\n",
        "n_samples = int(minority_ratio * len(df_majority) / (1 - minority_ratio)) #proportional group sizes\n",
        "#n_samples = len(df_majority) # equal class sizes\n",
        "\n",
        "df_minority_upsampled = resample(df_minority, replace=True, n_samples=n_samples, random_state=42)\n",
        "\n",
        "# Combine the upsampled minority class with the majority class\n",
        "df_upsampled = pd.concat([df_majority, df_minority_upsampled])\n",
        "\n",
        "v2_upsampled = df_upsampled"
      ],
      "metadata": {
        "id": "akPPT0KUPb-C"
      },
      "execution_count": 204,
      "outputs": []
    },
    {
      "cell_type": "markdown",
      "source": [
        "Change booleans to numeric for shap to work later"
      ],
      "metadata": {
        "id": "tZpIdTldREzM"
      }
    },
    {
      "cell_type": "markdown",
      "source": [
        "Create scaled versions of the features"
      ],
      "metadata": {
        "id": "UrYxzsJWRWIn"
      }
    },
    {
      "cell_type": "code",
      "source": [
        "scaler = StandardScaler()\n",
        "X_scaled_train = scaler.fit_transform(X_train)\n",
        "X_scaled_test = scaler.transform(X_test)\n",
        "\n",
        "#X_scaled = pd.DataFrame(X_scaled, columns = X.columns)\n",
        "\n",
        "# Name columns as '_scaled'\n",
        "#X_scaled = X_scaled.rename(columns={col: col + '_scaled' for col in X_scaled.columns})\n",
        "\n",
        "# Join the DataFrames\n",
        "#X_all = X.join(X_scaled)\n",
        "\n",
        "# Display updated dataframe\n",
        "#X.info()\n",
        "#"
      ],
      "metadata": {
        "id": "Ru8Ez_ffRat7"
      },
      "execution_count": 205,
      "outputs": []
    },
    {
      "cell_type": "code",
      "source": [
        "#X_scaled.info()"
      ],
      "metadata": {
        "id": "RzOvFCS9a6X6"
      },
      "execution_count": 196,
      "outputs": []
    },
    {
      "cell_type": "markdown",
      "source": [
        "Train on scaled X (unnecessary for RF but good for SHAP later on)"
      ],
      "metadata": {
        "id": "4odDKvjsS_J0"
      }
    },
    {
      "cell_type": "code",
      "source": [
        "#training on a scaled X unnecessary for random forest but good for shap later\n",
        "X_scaled_train, X_scaled_test, Y_train, Y_test = train_test_split(X, Y,\n",
        "                                                    #test_size = 0.3,\n",
        "                                                    test_size = 0.7,\n",
        "                                                                  shuffle = True, stratify = Y)\n",
        "\n",
        "model = RandomForestClassifier()\n",
        "#model = modelv2\n",
        "model.fit(X_scaled_train, Y_train)\n",
        "\n",
        "#predictions\n",
        "Yhat = model.predict(X_scaled_test)\n",
        "len(Yhat)"
      ],
      "metadata": {
        "colab": {
          "base_uri": "https://localhost:8080/"
        },
        "id": "A4fmY1qZStJ9",
        "outputId": "d8ce2d06-c38b-4fca-b44d-879a1023ad84"
      },
      "execution_count": 206,
      "outputs": [
        {
          "output_type": "execute_result",
          "data": {
            "text/plain": [
              "5600"
            ]
          },
          "metadata": {},
          "execution_count": 206
        }
      ]
    },
    {
      "cell_type": "code",
      "source": [
        "Y_test.info()"
      ],
      "metadata": {
        "colab": {
          "base_uri": "https://localhost:8080/"
        },
        "id": "SmLKfyeycCwc",
        "outputId": "7d66d822-bb4f-4561-97cf-81a28b4aa294"
      },
      "execution_count": 207,
      "outputs": [
        {
          "output_type": "stream",
          "name": "stdout",
          "text": [
            "<class 'pandas.core.series.Series'>\n",
            "Index: 5600 entries, 245149 to 788369\n",
            "Series name: fraud_bool\n",
            "Non-Null Count  Dtype\n",
            "--------------  -----\n",
            "5600 non-null   int64\n",
            "dtypes: int64(1)\n",
            "memory usage: 87.5 KB\n"
          ]
        }
      ]
    },
    {
      "cell_type": "markdown",
      "source": [
        "# Add Errors"
      ],
      "metadata": {
        "id": "KjDRRh5Ablwr"
      }
    },
    {
      "cell_type": "code",
      "source": [
        "#Create df for predicted and true classes - converting y_hat np to df\n",
        "predictions = pd.DataFrame()\n",
        "predictions['predicted_class'] = Yhat.tolist()\n",
        "predictions = predictions.set_index(X_scaled_test.index)\n",
        "predictions['true_class'] = Y_test.values\n",
        "\n",
        "#Calculating the errors with the absolute value\n",
        "predictions['errors'] = abs(predictions['predicted_class'] - predictions['true_class'])\n",
        "\n",
        "#adding predictions to test data\n",
        "compas_w_error = X_scaled_test.merge(predictions, how= 'outer', left_index = True, right_index = True)\n",
        "\n",
        "errors = compas_w_error['errors']\n",
        "df_out = compas_w_error.drop(['predicted_class', 'true_class', 'errors'], axis=1)\n",
        "compas_w_error[compas_w_error['errors']==1]\n",
        "\n",
        "#accuracy & confusion matrix\n",
        "accuracy = accuracy_score(predictions['true_class'], predictions['predicted_class'])\n",
        "print(f\"Accuracy: {accuracy:.4f}\")\n",
        "cm = confusion_matrix(predictions['true_class'], predictions['predicted_class'])\n",
        "print(cm)"
      ],
      "metadata": {
        "colab": {
          "base_uri": "https://localhost:8080/"
        },
        "id": "kihE8JNobor3",
        "outputId": "16399264-b2b1-4812-96b1-0426f8b9b87e"
      },
      "execution_count": 208,
      "outputs": [
        {
          "output_type": "stream",
          "name": "stdout",
          "text": [
            "Accuracy: 0.9898\n",
            "[[5543    0]\n",
            " [  57    0]]\n"
          ]
        }
      ]
    }
  ]
}