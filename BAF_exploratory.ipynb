{
  "nbformat": 4,
  "nbformat_minor": 0,
  "metadata": {
    "colab": {
      "provenance": [],
      "collapsed_sections": [
        "_OU0z3wh7tWK",
        "C9t9JHqe4_eO",
        "oZCZ8SLC7jpO",
        "HHByYzGOD3bO"
      ],
      "mount_file_id": "1F9XxSN05aDEQQ4Rm2cMI80wUJWDqhTfP",
      "authorship_tag": "ABX9TyNW09Eq0Aj3ytHVOy2cVkrn",
      "include_colab_link": true
    },
    "kernelspec": {
      "name": "python3",
      "display_name": "Python 3"
    },
    "language_info": {
      "name": "python"
    }
  },
  "cells": [
    {
      "cell_type": "markdown",
      "metadata": {
        "id": "view-in-github",
        "colab_type": "text"
      },
      "source": [
        "<a href=\"https://colab.research.google.com/github/MDankloff/Cluster-Bias-Disco/blob/main/BAF_exploratory.ipynb\" target=\"_parent\"><img src=\"https://colab.research.google.com/assets/colab-badge.svg\" alt=\"Open In Colab\"/></a>"
      ]
    },
    {
      "cell_type": "markdown",
      "source": [
        "# Libraries"
      ],
      "metadata": {
        "id": "_OU0z3wh7tWK"
      }
    },
    {
      "cell_type": "code",
      "execution_count": 73,
      "metadata": {
        "id": "i-MFm9TyVNpH"
      },
      "outputs": [],
      "source": [
        "import pandas as pd\n",
        "import numpy as np\n",
        "import matplotlib.pyplot as plt\n",
        "import seaborn as sns\n",
        "from sklearn.metrics import accuracy_score, confusion_matrix, roc_auc_score, roc_curve\n",
        "from sklearn.decomposition import PCA\n",
        "from sklearn.preprocessing import StandardScaler\n",
        "from sklearn.model_selection import train_test_split\n",
        "from sklearn.ensemble import RandomForestClassifier\n",
        "from sklearn import preprocessing\n",
        "\n",
        "import glob\n",
        "import os"
      ]
    },
    {
      "cell_type": "markdown",
      "source": [
        "# Load Bank Account Fraud (BAF) Tabular Dataset Suite"
      ],
      "metadata": {
        "id": "C9t9JHqe4_eO"
      }
    },
    {
      "cell_type": "code",
      "source": [
        "dir_path = '/content/drive/MyDrive/Mirthe Supervision Map /Paper 3a: FC Bias Disco/BAF'\n",
        "\n",
        "'''if os.path.exists(dir_path):\n",
        "    print(\"Directory exists\")\n",
        "    print(\"Files in directory:\")\n",
        "    print(os.listdir(dir_path))  # This will list all files in the directory\n",
        "else:\n",
        "    print(\"Directory does not exist\")'''\n",
        "\n",
        "extension = \"csv\"\n",
        "data_paths = glob.glob(f\"{dir_path}/*.{extension}\")\n",
        "\n",
        "'''# Check if any CSV files are found\n",
        "if not data_paths:\n",
        "    raise FileNotFoundError(f\"No files with extension '{extension}' found in the directory.\")\n",
        "else:\n",
        "    print(\"CSV files found:\")\n",
        "    print(data_paths)'''\n",
        "\n",
        "def read_dataset(path):\n",
        "    return pd.read_csv(path)\n",
        "\n",
        "# Extract variant name from the file path (without the extension)\n",
        "def get_variant(path):\n",
        "    return os.path.basename(path).split(\".\")[0]\n",
        "\n",
        "# Dictionary comprehension to read all CSV files into a dictionary of DataFrames\n",
        "dataframes = {\n",
        "    get_variant(path): read_dataset(path) for path in data_paths\n",
        "}\n",
        "print(f\"Loaded datasets: {list(dataframes.keys())}\")"
      ],
      "metadata": {
        "colab": {
          "base_uri": "https://localhost:8080/"
        },
        "id": "-wBiCCQTfpHP",
        "outputId": "bc55319c-faca-4953-dbe9-baad05243ad4"
      },
      "execution_count": 76,
      "outputs": [
        {
          "output_type": "stream",
          "name": "stdout",
          "text": [
            "Loaded datasets: ['Base', 'Variant I', 'Variant II', 'Variant III', 'Variant IV', 'Variant V']\n"
          ]
        }
      ]
    },
    {
      "cell_type": "code",
      "source": [
        "base = dataframes['Base'] # sampled to best represent original dataset\n",
        "variant1 = dataframes['Variant I'] # higher group size disparity than base\n",
        "variant2 = dataframes['Variant II'] # higher prevalance disparity than base\n",
        "variant3 = dataframes['Variant III'] # better separability of one of the groups\n",
        "variant4 = dataframes['Variant IV'] # higher prevalance disparity in train\n",
        "variant5 = dataframes['Variant V'] # better separability in train for one of the groups\n",
        "base.info()\n",
        "#variant1.info()\n",
        "#base.head()"
      ],
      "metadata": {
        "colab": {
          "base_uri": "https://localhost:8080/"
        },
        "id": "o78df7oDh7Zb",
        "outputId": "222fdeaf-c530-4ec1-c241-e4dbaf0d8135"
      },
      "execution_count": 77,
      "outputs": [
        {
          "output_type": "stream",
          "name": "stdout",
          "text": [
            "<class 'pandas.core.frame.DataFrame'>\n",
            "RangeIndex: 1000000 entries, 0 to 999999\n",
            "Data columns (total 32 columns):\n",
            " #   Column                            Non-Null Count    Dtype  \n",
            "---  ------                            --------------    -----  \n",
            " 0   fraud_bool                        1000000 non-null  int64  \n",
            " 1   income                            1000000 non-null  float64\n",
            " 2   name_email_similarity             1000000 non-null  float64\n",
            " 3   prev_address_months_count         1000000 non-null  int64  \n",
            " 4   current_address_months_count      1000000 non-null  int64  \n",
            " 5   customer_age                      1000000 non-null  int64  \n",
            " 6   days_since_request                1000000 non-null  float64\n",
            " 7   intended_balcon_amount            1000000 non-null  float64\n",
            " 8   payment_type                      1000000 non-null  object \n",
            " 9   zip_count_4w                      1000000 non-null  int64  \n",
            " 10  velocity_6h                       1000000 non-null  float64\n",
            " 11  velocity_24h                      1000000 non-null  float64\n",
            " 12  velocity_4w                       1000000 non-null  float64\n",
            " 13  bank_branch_count_8w              1000000 non-null  int64  \n",
            " 14  date_of_birth_distinct_emails_4w  1000000 non-null  int64  \n",
            " 15  employment_status                 1000000 non-null  object \n",
            " 16  credit_risk_score                 1000000 non-null  int64  \n",
            " 17  email_is_free                     1000000 non-null  int64  \n",
            " 18  housing_status                    1000000 non-null  object \n",
            " 19  phone_home_valid                  1000000 non-null  int64  \n",
            " 20  phone_mobile_valid                1000000 non-null  int64  \n",
            " 21  bank_months_count                 1000000 non-null  int64  \n",
            " 22  has_other_cards                   1000000 non-null  int64  \n",
            " 23  proposed_credit_limit             1000000 non-null  float64\n",
            " 24  foreign_request                   1000000 non-null  int64  \n",
            " 25  source                            1000000 non-null  object \n",
            " 26  session_length_in_minutes         1000000 non-null  float64\n",
            " 27  device_os                         1000000 non-null  object \n",
            " 28  keep_alive_session                1000000 non-null  int64  \n",
            " 29  device_distinct_emails_8w         1000000 non-null  int64  \n",
            " 30  device_fraud_count                1000000 non-null  int64  \n",
            " 31  month                             1000000 non-null  int64  \n",
            "dtypes: float64(9), int64(18), object(5)\n",
            "memory usage: 244.1+ MB\n"
          ]
        }
      ]
    },
    {
      "cell_type": "code",
      "source": [
        "'fraud_bool' in base.columns\n",
        "'fraud_bool' in variant1.columns\n",
        "'fraud_bool' in variant2.columns\n",
        "'fraud_bool' in variant3.columns\n",
        "'fraud_bool' in variant4.columns\n",
        "'fraud_bool' in variant5.columns"
      ],
      "metadata": {
        "colab": {
          "base_uri": "https://localhost:8080/"
        },
        "id": "gCI6Ish7-hMb",
        "outputId": "9c94cbea-cfb4-40f2-b228-75707ac18671"
      },
      "execution_count": 81,
      "outputs": [
        {
          "output_type": "execute_result",
          "data": {
            "text/plain": [
              "True"
            ]
          },
          "metadata": {},
          "execution_count": 81
        }
      ]
    },
    {
      "cell_type": "markdown",
      "source": [
        "# **Possible preprocessing steps:**\n",
        "\n",
        "-Handling missing values\n",
        "\n",
        "-Getting rid of redundant features\n",
        "\n",
        "-Converting objects to integers\n",
        "\n",
        "-Grouping aka one hot (dummy) encoding\n",
        "\n",
        "binning certain features together\n",
        "\n",
        "-Deciding on distance measures (euclidean, manhattan, gower)\n",
        "\n",
        "-Scaling\n",
        "\n",
        "-how to ‘measure’ error: variance vs mean vs accuracy, 1 vs rest, 1 vs best, 1 to 1\n",
        "\n",
        "-min points and epsilon in DBSCAN\n",
        "\n",
        "-model choice clustering\n"
      ],
      "metadata": {
        "id": "YeN1gGDY5Z0k"
      }
    },
    {
      "cell_type": "markdown",
      "source": [
        "# Handling missing values"
      ],
      "metadata": {
        "id": "oZCZ8SLC7jpO"
      }
    },
    {
      "cell_type": "markdown",
      "source": [],
      "metadata": {
        "id": "47rqvf1Y7qS5"
      }
    },
    {
      "cell_type": "code",
      "source": [
        "'''base_no_mv= base.dropna()\n",
        "#base_no_mv.info()\n",
        "\n",
        "base_no_mv = base_no_mv[base_no_mv['prev_address_months_count'] != -1]\n",
        "base_no_mv.info()\n",
        "\n",
        "print(base_no_mv['prev_address_months_count'])\n",
        "'''"
      ],
      "metadata": {
        "colab": {
          "base_uri": "https://localhost:8080/"
        },
        "id": "TDgsKl7p5ucn",
        "outputId": "86aa9e5d-8d42-4216-b2a7-5ecaa89c518c"
      },
      "execution_count": 59,
      "outputs": [
        {
          "output_type": "stream",
          "name": "stdout",
          "text": [
            "<class 'pandas.core.frame.DataFrame'>\n",
            "Index: 287080 entries, 0 to 0\n",
            "Data columns (total 31 columns):\n",
            " #   Column                            Non-Null Count   Dtype  \n",
            "---  ------                            --------------   -----  \n",
            " 0   income                            287080 non-null  float64\n",
            " 1   name_email_similarity             287080 non-null  float64\n",
            " 2   prev_address_months_count         287080 non-null  int64  \n",
            " 3   current_address_months_count      287080 non-null  int64  \n",
            " 4   customer_age                      287080 non-null  int64  \n",
            " 5   days_since_request                287080 non-null  float64\n",
            " 6   intended_balcon_amount            287080 non-null  float64\n",
            " 7   payment_type                      287080 non-null  object \n",
            " 8   zip_count_4w                      287080 non-null  int64  \n",
            " 9   velocity_6h                       287080 non-null  float64\n",
            " 10  velocity_24h                      287080 non-null  float64\n",
            " 11  velocity_4w                       287080 non-null  float64\n",
            " 12  bank_branch_count_8w              287080 non-null  int64  \n",
            " 13  date_of_birth_distinct_emails_4w  287080 non-null  int64  \n",
            " 14  employment_status                 287080 non-null  object \n",
            " 15  credit_risk_score                 287080 non-null  int64  \n",
            " 16  email_is_free                     287080 non-null  int64  \n",
            " 17  housing_status                    287080 non-null  object \n",
            " 18  phone_home_valid                  287080 non-null  int64  \n",
            " 19  phone_mobile_valid                287080 non-null  int64  \n",
            " 20  bank_months_count                 287080 non-null  int64  \n",
            " 21  has_other_cards                   287080 non-null  int64  \n",
            " 22  proposed_credit_limit             287080 non-null  float64\n",
            " 23  foreign_request                   287080 non-null  int64  \n",
            " 24  source                            287080 non-null  object \n",
            " 25  session_length_in_minutes         287080 non-null  float64\n",
            " 26  device_os                         287080 non-null  object \n",
            " 27  keep_alive_session                287080 non-null  int64  \n",
            " 28  device_distinct_emails_8w         287080 non-null  int64  \n",
            " 29  device_fraud_count                287080 non-null  int64  \n",
            " 30  month                             287080 non-null  int64  \n",
            "dtypes: float64(9), int64(17), object(5)\n",
            "memory usage: 70.1+ MB\n"
          ]
        }
      ]
    },
    {
      "cell_type": "markdown",
      "source": [
        "# One-hot-encode categorical features for collecting the errors\n",
        "scaling or one-hot-encoding"
      ],
      "metadata": {
        "id": "HHByYzGOD3bO"
      }
    },
    {
      "cell_type": "code",
      "source": [
        "Categorical_cols = base.select_dtypes(include=['object']).columns\n",
        "print(Categorical_cols)"
      ],
      "metadata": {
        "colab": {
          "base_uri": "https://localhost:8080/"
        },
        "id": "eBEbpUyMD9ZT",
        "outputId": "7446efa3-6de7-40b8-b2d0-1572f17c9596"
      },
      "execution_count": 93,
      "outputs": [
        {
          "output_type": "stream",
          "name": "stdout",
          "text": [
            "Index(['payment_type', 'employment_status', 'housing_status', 'source',\n",
            "       'device_os'],\n",
            "      dtype='object')\n"
          ]
        }
      ]
    },
    {
      "cell_type": "code",
      "source": [
        "print(base['payment_type'].unique())\n",
        "print(base['employment_status'].unique())\n",
        "print(base['housing_status'].unique())\n",
        "print(base['source'].unique())\n",
        "print(base['device_os'].unique())"
      ],
      "metadata": {
        "colab": {
          "base_uri": "https://localhost:8080/"
        },
        "id": "Gf-g7voqFflM",
        "outputId": "7aa3a071-a508-49f9-9bac-c389e49670d1"
      },
      "execution_count": 94,
      "outputs": [
        {
          "output_type": "stream",
          "name": "stdout",
          "text": [
            "['AA' 'AD' 'AB' 'AC' 'AE']\n",
            "['CB' 'CA' 'CC' 'CF' 'CD' 'CE' 'CG']\n",
            "['BC' 'BE' 'BD' 'BA' 'BB' 'BF' 'BG']\n",
            "['INTERNET' 'TELEAPP']\n",
            "['linux' 'other' 'windows' 'x11' 'macintosh']\n"
          ]
        }
      ]
    },
    {
      "cell_type": "code",
      "source": [
        "base_onehot = pd.get_dummies(base, Categorical_cols)\n",
        "print(base_onehot['payment_type_AA'].unique())"
      ],
      "metadata": {
        "colab": {
          "base_uri": "https://localhost:8080/"
        },
        "id": "9NYozmnVKBvy",
        "outputId": "9ec9ff55-d602-4b39-84aa-82d47704ae9c"
      },
      "execution_count": 97,
      "outputs": [
        {
          "output_type": "stream",
          "name": "stdout",
          "text": [
            "[ True False]\n"
          ]
        }
      ]
    },
    {
      "cell_type": "markdown",
      "source": [
        "# TRAIN"
      ],
      "metadata": {
        "id": "j7HvC0_A888e"
      }
    },
    {
      "cell_type": "code",
      "source": [
        "X_base = base_onehot.drop(['fraud_bool'], axis =1)\n",
        "Y_base = base_onehot['fraud_bool']"
      ],
      "metadata": {
        "id": "bB1kVNOP87iM"
      },
      "execution_count": 98,
      "outputs": []
    },
    {
      "cell_type": "code",
      "source": [
        "X_base_train, X_base_test, Y_base_train, Y_base_test = train_test_split(X_base, Y_base, test_size=0.2, shuffle = True, stratify = Y_base) # Corrected the order of variables returned by train_test_split\n",
        "model = RandomForestClassifier(n_estimators=100, random_state=42)\n",
        "model.fit(X_base_train, Y_base_train)\n",
        "\n",
        "Y_base_hat = model.predict(X_base_test)\n",
        "accuracy = accuracy_score(Y_base_test, Y_base_hat)\n",
        "print(\"Accuracy:\", accuracy)"
      ],
      "metadata": {
        "colab": {
          "base_uri": "https://localhost:8080/"
        },
        "id": "TL8YIjmgCfhc",
        "outputId": "087c7cd3-6bd2-4242-fea1-edd68ffcbb16"
      },
      "execution_count": 101,
      "outputs": [
        {
          "output_type": "stream",
          "name": "stdout",
          "text": [
            "Accuracy: 0.98895\n"
          ]
        }
      ]
    },
    {
      "cell_type": "markdown",
      "source": [
        "Collect errors"
      ],
      "metadata": {
        "id": "t0euzwFAO07b"
      }
    },
    {
      "cell_type": "code",
      "source": [
        "predictions = pd.DataFrame()\n",
        "predictions['predicted_class'] = Y_base_hat.tolist()\n",
        "predictions = predictions.set_index(X_base_test.index)\n",
        "predictions['true_class'] = Y_base_test\n",
        "\n",
        "#calculating the errors with the absolute value\n",
        "predictions['errors'] = abs(predictions['predicted_class'] - predictions['true_class'])\n",
        "\n",
        "#adding predictions to the test data\n",
        "base_onehot_error = X_base_test.merge(predictions, how= 'outer', left_index = True, right_index = True)\n",
        "\n",
        "errors = base_onehot_error['errors']\n",
        "df_out = base_onehot_error.drop(['predicted_class', 'true_class', 'errors'], axis=1)\n",
        "base_onehot_error[base_onehot_error['errors']==1]\n",
        "\n",
        "cm = confusion_matrix(predictions['true_class'], predictions['predicted_class'])\n",
        "print(cm)"
      ],
      "metadata": {
        "colab": {
          "base_uri": "https://localhost:8080/"
        },
        "id": "WhvyYY0vO2Xv",
        "outputId": "56c51acd-1dd6-42e7-ec75-92c479734569"
      },
      "execution_count": 102,
      "outputs": [
        {
          "output_type": "stream",
          "name": "stdout",
          "text": [
            "[[197788      6]\n",
            " [  2204      2]]\n"
          ]
        }
      ]
    }
  ]
}