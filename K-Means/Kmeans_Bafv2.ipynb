{
  "nbformat": 4,
  "nbformat_minor": 0,
  "metadata": {
    "colab": {
      "provenance": [],
      "collapsed_sections": [
        "tTn_RgT8-DRw",
        "MrCFVWz4CMiz",
        "FTFOkvQ1Cp8k",
        "_NypSKY8OM_O",
        "T4DB7lr6Op6n",
        "ot8OI3PtOvXV",
        "ghRId9HGQjne"
      ],
      "toc_visible": true,
      "authorship_tag": "ABX9TyNHirHU6j8rG+wJcvK0hEmS",
      "include_colab_link": true
    },
    "kernelspec": {
      "name": "python3",
      "display_name": "Python 3"
    },
    "language_info": {
      "name": "python"
    }
  },
  "cells": [
    {
      "cell_type": "markdown",
      "metadata": {
        "id": "view-in-github",
        "colab_type": "text"
      },
      "source": [
        "<a href=\"https://colab.research.google.com/github/MDankloff/Cluster-Bias-Disco/blob/main/K-Means/Kmeans_Bafv2.ipynb\" target=\"_parent\"><img src=\"https://colab.research.google.com/assets/colab-badge.svg\" alt=\"Open In Colab\"/></a>"
      ]
    },
    {
      "cell_type": "markdown",
      "source": [
        "## Libraries"
      ],
      "metadata": {
        "id": "1PdnCtzI9weo"
      }
    },
    {
      "cell_type": "code",
      "execution_count": 1,
      "metadata": {
        "colab": {
          "base_uri": "https://localhost:8080/"
        },
        "id": "Um3esJVD9GFd",
        "outputId": "9d59a225-6a20-486e-c2a8-6e738a173126"
      },
      "outputs": [
        {
          "output_type": "stream",
          "name": "stdout",
          "text": [
            "Mounted at /content/drive\n"
          ]
        }
      ],
      "source": [
        "from google.colab import drive\n",
        "drive.mount('/content/drive')\n",
        "! cd '/content/drive/MyDrive/Mirthe_Supervision /Paper#2/Colab Notebooks'"
      ]
    },
    {
      "cell_type": "code",
      "source": [
        "import numpy as np\n",
        "import matplotlib.pyplot as plt\n",
        "import pandas as pd\n",
        "import seaborn as sns\n",
        "import random\n",
        "random.seed(42)\n",
        "import os\n",
        "import math\n",
        "import scipy.stats as stats\n",
        "from scipy.stats import chi2_contingency\n",
        "from sklearn.cluster import KMeans, DBSCAN\n",
        "from sklearn.neighbors import NearestNeighbors\n",
        "from sklearn.cluster import MeanShift, estimate_bandwidth\n",
        "from sklearn.preprocessing import StandardScaler, MinMaxScaler\n",
        "from sklearn.decomposition import PCA\n",
        "from sklearn.manifold import TSNE\n",
        "from sklearn.metrics import silhouette_samples, silhouette_score\n",
        "from scipy import stats\n",
        "from scipy.stats import ttest_ind\n",
        "from scipy.stats import f_oneway\n",
        "from google.colab import files\n",
        "import re\n",
        "\n",
        "import warnings\n",
        "warnings.filterwarnings('ignore')"
      ],
      "metadata": {
        "id": "9Z4rfAWL90G_"
      },
      "execution_count": 2,
      "outputs": []
    },
    {
      "cell_type": "markdown",
      "source": [
        "# UTILS"
      ],
      "metadata": {
        "id": "tTn_RgT8-DRw"
      }
    },
    {
      "cell_type": "markdown",
      "source": [
        "Set of Features (aka data columns)"
      ],
      "metadata": {
        "id": "dahEhY_--FiI"
      }
    },
    {
      "cell_type": "code",
      "source": [
        "#Master dataset\n",
        "#FEATURES\n",
        "META = ['clusters', 'new_clusters']\n",
        "ERROR = ['errors', 'TP', 'TN', 'FN', 'FP']\n",
        "REG = [ 'session_length_in_minutes', 'email_is_free',\n",
        "       'proposed_credit_limit','name_email_similarity',\n",
        "      'zip_count_4w', 'date_of_birth_distinct_emails_4w',\n",
        "      'phone_mobile_valid', 'has_other_cards', 'foreign_request']\n",
        "SEN = ['customer_age', 'income'] #protected attributes in BAF paper also employment_status\n",
        "DUMMY = ['source_INTERNET', 'source_TELEAPP', 'device_os_other', 'device_os_macintosh','device_os_linux','device_os_windows', 'device_os_x11']\n",
        "\n",
        "#FEATURES SCALED\n",
        "ERROR_scaled = ['errors_scaled']\n",
        "REG_scaled = ['session_length_in_minutes_scaled',\n",
        "              'email_is_free_scaled',\n",
        "              'proposed_credit_limit_scaled',\n",
        "              'name_email_similarity_scaled',\n",
        "              'zip_count_4w_scaled',\n",
        "              'date_of_birth_distinct_emails_4w_scaled','has_other_cards_scaled', 'foreign_request_scaled']\n",
        "SEN_scaled = ['customer_age_scaled', 'income_scaled']\n",
        "DUMMY_scaled = ['source_INTERNET_scaled', 'source_TELEAPP_scaled', 'device_os_other_scaled', 'device_os_macintosh_scaled', 'device_os_linux_scaled', 'device_os_windows_scaled', 'device_os_x11_scaled']\n",
        "\n",
        "\n",
        "#SHAP FEATURES\n",
        "SHAP_REG = [\n",
        "    'Shap_session_length_in_minutes', 'Shap_email_is_free',\n",
        "    'Shap_proposed_credit_limit', 'Shap_name_email_similarity',\n",
        "    'Shap_zip_count_4w', 'Shap_date_of_birth_distinct_emails_4w',\n",
        "    'Shap_phone_mobile_valid', 'Shap_has_other_cards', 'Shap_foreign_request'\n",
        "]\n",
        "\n",
        "SHAP_SEN = ['Shap_customer_age', 'Shap_income']\n",
        "\n",
        "SHAP_DUMMY = [\n",
        "    'Shap_source_INTERNET', 'Shap_source_TELEAPP',\n",
        "    'Shap_device_os_other', 'Shap_device_os_macintosh',\n",
        "    'Shap_device_os_linux', 'Shap_device_os_windows', 'Shap_device_os_x11'\n",
        "]\n",
        "\n",
        "#SHAP FEATURES SCALED\n",
        "SHAP_REG_scaled = ['Shap_session_length_in_minutes_scaled',\n",
        "    'Shap_email_is_free_scaled', 'Shap_proposed_credit_limit_scaled',\n",
        "    'Shap_name_email_similarity_scaled', 'Shap_zip_count_4w_scaled',\n",
        "    'Shap_date_of_birth_distinct_emails_4w_scaled',\n",
        "    'Shap_phone_mobile_valid_scaled', 'Shap_has_other_cards_scaled',\n",
        "    'Shap_foreign_request_scaled'\n",
        "]\n",
        "\n",
        "SHAP_SEN_scaled = ['Shap_customer_age_scaled', 'Shap_income_scaled']\n",
        "\n",
        "SHAP_DUMMY_scaled = [\n",
        "    'Shap_source_INTERNET_scaled', 'Shap_source_TELEAPP_scaled',\n",
        "    'Shap_device_os_other_scaled', 'Shap_device_os_macintosh_scaled',\n",
        "    'Shap_device_os_linux_scaled', 'Shap_device_os_windows_scaled',\n",
        "    'Shap_device_os_x11_scaled'\n",
        "]\n",
        "\n",
        "'''removed features = 'device_fraud_count', 'intended_balcon_amount', 'payment_type', 'days_since_request',\n",
        "'velocity_6h', 'velocity_24h', 'velocity_4w', 'keep_alive_session', 'prev_address_months_count', 'current_address_months_count', 'phone_home_valid',\n",
        "'bank_months_count', 'device_distinct_emails_8w', 'housing_status', 'employment_status, 'bank_branch_count_8w', 'credit_risk_score', 'month', '''"
      ],
      "metadata": {
        "colab": {
          "base_uri": "https://localhost:8080/",
          "height": 1000
        },
        "id": "bBZBBmk8-JQ2",
        "outputId": "92584d70-13f0-4884-e603-3ce948d45ea9"
      },
      "execution_count": 3,
      "outputs": [
        {
          "output_type": "execute_result",
          "data": {
            "text/plain": [
              "\"removed features = 'device_fraud_count', 'intended_balcon_amount', 'payment_type', 'days_since_request',\\n'velocity_6h', 'velocity_24h', 'velocity_4w', 'keep_alive_session', 'prev_address_months_count', 'current_address_months_count', 'phone_home_valid',\\n'bank_months_count', 'device_distinct_emails_8w', 'housing_status', 'employment_status, 'bank_branch_count_8w', 'credit_risk_score', 'month', \""
            ],
            "application/vnd.google.colaboratory.intrinsic+json": {
              "type": "string"
            }
          },
          "metadata": {},
          "execution_count": 3
        }
      ]
    },
    {
      "cell_type": "markdown",
      "source": [
        "# Utils for Data prep"
      ],
      "metadata": {
        "id": "MrCFVWz4CMiz"
      }
    },
    {
      "cell_type": "code",
      "source": [
        "#Seperate TPFN & TNFP dataset\n",
        "'''Drop rows where both TP and FN are 0 '''\n",
        "def subset_TP_FN(data):\n",
        "    return data.loc[(data['TP'] == 1) | (data['FN'] == 1)]\n",
        "\n",
        "'''Drop rows where both TN and FP are 0'''\n",
        "def subset_TN_FP(data):\n",
        "    return data.loc[(data['TN'] == 1) | (data['FP'] == 1)]\n",
        "\n",
        "'''undo Dummy for DUMMY_source or DUMMY_device'''\n",
        "def undo_dummy(data, with_Dummy, col_label, numeric_values=True, short_label=None):\n",
        "  data[col_label] = ''\n",
        "  for i, c in enumerate(with_Dummy):\n",
        "    values = np.sort(data[c].unique())\n",
        "    if numeric_values:\n",
        "      data.loc[data[c] == values[1], col_label] = i\n",
        "    else:\n",
        "      if short_label is None:\n",
        "        raise ValueError(\"short label must be provided if numeric_values is False\")\n",
        "        data.loc[data[c] == values[1], col_label] = short_label[i]\n",
        "    data = data.drop(c, axis=1)\n",
        "  return(data)\n",
        "\n",
        "#data = undo_dummy(data, DUMMY_RACE, col_label='race', numeric_values=False, short_label=SHORT_LABEL_RACE)\n",
        "#data = undo_dummy(data, DUMMY_GENDER, col_label='gender', numeric_values=False, short_label=SHORT_LABEL_GENDER)\n"
      ],
      "metadata": {
        "id": "duYEXRK8COmm"
      },
      "execution_count": 4,
      "outputs": []
    },
    {
      "cell_type": "markdown",
      "source": [
        "# Utils for Clustering"
      ],
      "metadata": {
        "id": "FTFOkvQ1Cp8k"
      }
    },
    {
      "cell_type": "code",
      "source": [
        "# Calculate average (unscaled) Error rate by counting the amount of max values (1) and dividing them by the total nr of rows\n",
        "# Does not work on scaled (binary) error features\n",
        "def get_error_rate(data, column='errors'):\n",
        "  if len(data) == 0:\n",
        "    print ('calculating error rate on an empty set')\n",
        "    return\n",
        "  max_value = data[column].max()\n",
        "  count_max_value = (data[column] == max_value).sum()\n",
        "  average_error_rate = count_max_value / len(data)\n",
        "  return average_error_rate\n",
        "\n",
        "\n",
        "def get_next_cluster(data, cluster_col, min_size, all_cluster_ids, banned_clusters):\n",
        "  if(len(banned_clusters) != 0):\n",
        "    filter_tf = np.isin(all_cluster_ids, banned_clusters, invert=True)\n",
        "    all_cluster_ids = all_cluster_ids[filter_tf]\n",
        "\n",
        "  for candidate_cluster_id in all_cluster_ids:\n",
        "    if candidate_cluster_id == -1:\n",
        "      continue\n",
        "\n",
        "    #print ('This is the next cluster:', candidate_cluster_id)\n",
        "\n",
        "    candidate_cluster = data.loc[data[cluster_col] == candidate_cluster_id]\n",
        "\n",
        "    if len(candidate_cluster) < min_size:\n",
        "      #print('...it is too small:', len(candidate_cluster))\n",
        "      continue\n",
        "    else:\n",
        "      return(candidate_cluster_id)\n",
        "\n",
        "  #print('No suitable clusters were found!')\n",
        "  return(-1)\n"
      ],
      "metadata": {
        "id": "yx91KNqYCnXD"
      },
      "execution_count": 5,
      "outputs": []
    },
    {
      "cell_type": "markdown",
      "source": [
        "# Utils for Results"
      ],
      "metadata": {
        "id": "1Q4IY7w8DXMe"
      }
    },
    {
      "cell_type": "markdown",
      "source": [
        "make recap"
      ],
      "metadata": {
        "id": "_CnlAGCQDb16"
      }
    },
    {
      "cell_type": "code",
      "source": [
        "def make_recap(data_result, feature_set):\n",
        "    # Make recap of cluster info with error rates\n",
        "    res = data_result[['clusters', 'errors']]\n",
        "\n",
        "    # Cluster size\n",
        "    temp = data_result[['clusters']].copy()\n",
        "    temp['count'] = 1\n",
        "    recap = temp.groupby(['clusters'], as_index=False).sum()\n",
        "\n",
        "    # Number of errors\n",
        "    recap['n_error'] = res.groupby(['clusters']).sum().astype(int)\n",
        "\n",
        "    # Error rate calculation\n",
        "    recap['error_rate'] = res.groupby(['clusters']).mean()\n",
        "\n",
        "    # Quality metrics preparation\n",
        "    diff_vs_rest = []\n",
        "    diff_p = []\n",
        "\n",
        "    age_prop = []\n",
        "    age_diff = []\n",
        "    age_p = []\n",
        "\n",
        "    income_prop = []\n",
        "    income_diff = []\n",
        "    income_p = []\n",
        "\n",
        "    silhouette = []\n",
        "\n",
        "    # Calculate silhouette scores\n",
        "    clusters = data_result['clusters']\n",
        "    if len(recap['clusters'].unique()) > 1:\n",
        "        silhouette_val = silhouette_samples(data_result[feature_set], clusters)\n",
        "\n",
        "    for c in recap['clusters']:\n",
        "        # In-cluster data\n",
        "        c_data = data_result.loc[data_result['clusters'] == c]\n",
        "        c_count = recap['count'][c]\n",
        "\n",
        "        # Out-of-cluster data\n",
        "        rest_data = data_result.loc[data_result['clusters'] != c]\n",
        "        if len(rest_data) == 0:\n",
        "            diff_vs_rest.extend([np.nan] * 2)\n",
        "            age_prop.extend([np.nan] * 3)\n",
        "            income_prop.extend([np.nan] * 3)\n",
        "            silhouette.append(np.nan)\n",
        "            continue\n",
        "\n",
        "        # Add silhouette score\n",
        "        silhouette.append(silhouette_val[clusters == c].mean())\n",
        "\n",
        "        rest_recap = recap.loc[recap['clusters'] != c]\n",
        "        rest_count = rest_recap['count'].sum()\n",
        "\n",
        "        # Error rate difference\n",
        "        rest_n_error = rest_recap['n_error'].sum()\n",
        "        rest_rate = rest_n_error / rest_count\n",
        "        diff_vs_rest.append(recap['error_rate'][c] - rest_rate)\n",
        "\n",
        "        # Poisson stat test for errors\n",
        "        if any(x < 1 for x in [recap['n_error'][c], recap['count'][c], rest_n_error, rest_count]):\n",
        "            res = stats.poisson_means_test(recap['count'][c] - recap['n_error'][c], recap['count'][c],\n",
        "                                           rest_count - rest_n_error, rest_count)\n",
        "        else:\n",
        "            res = stats.poisson_means_test(recap['n_error'][c], recap['count'][c], rest_n_error, rest_count)\n",
        "        diff_p.append(round(res.pvalue, 3))\n",
        "\n",
        "        #### Sensitive features (age, income)\n",
        "        # Age feature (customer_age)\n",
        "\n",
        "        t_stat, p_val = stats.ttest_ind(c_data['customer_age'], rest_data['customer_age'], equal_var = False)\n",
        "\n",
        "        '''old for poisson\n",
        "        rest_n_age = rest_data['customer_age'].sum()\n",
        "        rest_prop_age = rest_n_age / rest_count\n",
        "        c_n_age = c_data['customer_age'].sum()\n",
        "        c_prop_age = c_n_age / c_count\n",
        "        '''\n",
        "\n",
        "        rest_mean_age = rest_data['customer_age'].mean()\n",
        "        rest_prop_age = rest_mean_age / rest_count\n",
        "        c_mean_age = c_data['customer_age'].mean()\n",
        "        c_prop_age = c_mean_age / c_count\n",
        "\n",
        "        '''if any(x < 1 for x in [c_mean_age, c_count, rest_mean_age, rest_count]):\n",
        "            res = stats.poisson_means_test(c_count - c_mean_age, c_count, rest_count - rest_mean_age, rest_count)\n",
        "        else:\n",
        "            res = stats.poisson_means_test(c_mean_age, c_count, rest_mean_age, rest_count)\n",
        "        age_p.append(round(res.pvalue, 3))'''\n",
        "\n",
        "        if c_data['customer_age'].size > 1 and rest_data['customer_age'].size > 1:\n",
        "          t_stat, p_val = ttest_ind(c_data['customer_age'], rest_data['customer_age'], equal_var = False)\n",
        "          age_p.append(round(p_val, 3))\n",
        "        else:\n",
        "            age_p.append(np.nan)\n",
        "\n",
        "        age_prop.append(c_prop_age)\n",
        "        age_diff.append(c_prop_age - rest_prop_age)\n",
        "\n",
        "\n",
        "        # Income feature (income)\n",
        "\n",
        "        t_stat, p_val = stats.ttest_ind(c_data['income'], rest_data['income'], equal_var = False)\n",
        "\n",
        "        '''old for poisson\n",
        "        rest_n_income = rest_data['income'].sum()\n",
        "        rest_prop_income = rest_n_income / rest_count\n",
        "        c_n_income = c_data['income'].sum()\n",
        "        c_prop_income = c_n_income / c_count\n",
        "        '''\n",
        "\n",
        "        rest_mean_income = rest_data['income'].mean()\n",
        "        rest_prop_income = rest_mean_income / rest_count\n",
        "        c_mean_income = c_data['income'].mean()\n",
        "        c_prop_income = c_mean_income / c_count\n",
        "\n",
        "        print('c_n_income:', c_mean_income)\n",
        "        print('c_count:', c_count)\n",
        "        print('rest_n_income:', rest_mean_income)\n",
        "        print('rest_count:', rest_count)\n",
        "\n",
        "        if c_data['income'].size > 1 and rest_data['income'].size > 1:\n",
        "          t_stat, p_val = ttest_ind(c_data['income'], rest_data['income'], equal_var = False)\n",
        "          income_p.append(round(p_val, 3))\n",
        "        else:\n",
        "          income_p.append(np.nan)\n",
        "\n",
        "        income_prop.append(c_prop_income)\n",
        "        income_diff.append(c_prop_income - rest_prop_income)\n",
        "\n",
        "        '''if any(x < 1 for x in [c_mean_income, c_count, rest_mean_income, rest_count]):\n",
        "            res = stats.poisson_means_test(c_count - c_mean_income, c_count, rest_count - rest_mean_income, rest_count)\n",
        "            #res = stats.ttest_ind()\n",
        "        else:\n",
        "            res = stats.poisson_means_test(c_mean_income, c_count, rest_mean_income, rest_count)\n",
        "        income_p.append(round(res.pvalue, 3))'''\n",
        "\n",
        "\n",
        "    # Populate recap DataFrame with results\n",
        "    recap['diff_vs_rest'] = np.around(diff_vs_rest, 3)\n",
        "    recap['diff_p'] = diff_p\n",
        "    recap['age_prop'] = np.around(age_prop, 3)\n",
        "    recap['age_diff'] = np.around(age_diff, 3)\n",
        "    recap['age_p'] = age_p\n",
        "    recap['income_prop'] = np.around(income_prop, 3)\n",
        "    recap['income_diff'] = np.around(income_diff, 3)\n",
        "    recap['income_p'] = income_p\n",
        "    recap['silhouette'] = silhouette\n",
        "    recap['error_rate'] = np.around(recap['error_rate'], 3)\n",
        "\n",
        "    # Rename columns for clarity\n",
        "    recap.rename(columns={'clusters': 'c'}, inplace=True)\n",
        "\n",
        "    return recap\n"
      ],
      "metadata": {
        "id": "fUzX1WJpDZx-"
      },
      "execution_count": 6,
      "outputs": []
    },
    {
      "cell_type": "markdown",
      "source": [
        "## Chi-Square Tests"
      ],
      "metadata": {
        "id": "E8eom7jtHfqo"
      }
    },
    {
      "cell_type": "code",
      "source": [
        "def make_chi_tests(results):\n",
        "  chi_res = {'cond_descr': [],\n",
        "            'cond_name': [],\n",
        "            'error': [],\n",
        "            'age': [],\n",
        "            'income': []}\n",
        "\n",
        "  for i in range(0, len(results['cond_name'])):\n",
        "    chi_res['cond_descr'].append(results['cond_descr'][i])\n",
        "    chi_res['cond_name'].append(results['cond_name'][i])\n",
        "    data = results['cond_res'][i]\n",
        "    recap = results['cond_recap'][i]\n",
        "\n",
        "    if(len(recap['diff_p']) == 1):\n",
        "      chi_res['error'].append(np.nan)\n",
        "      chi_res['age'].append(np.nan)\n",
        "      chi_res['income'].append(np.nan)\n",
        "      continue\n",
        "\n",
        "    # Test error differences\n",
        "    test_data = recap[['count', 'n_error']].copy(deep=True)\n",
        "\n",
        "    test_data['count'] = test_data['count'] - test_data['n_error']\n",
        "    test_data = test_data.rename(columns={\"count\": \"n_correct\"})\n",
        "\n",
        "    test_data = test_data.transpose()\n",
        "    test_res = chi2_contingency(test_data)\n",
        "    chi_res['error'].append(round(test_res.pvalue, 6))\n",
        "\n",
        "    #print(test_data)\n",
        "    # print(round(test_res.pvalue, 6))\n",
        "\n",
        "    # Test income differences\n",
        "    test_data = recap[['count', 'income_prop']].copy(deep=True)\n",
        "\n",
        "    test_data['income_prop'] = round(test_data['count'] * test_data['income_prop'])\n",
        "    test_data = test_data.rename(columns={\"income_prop\": \"income_n\"}).astype(int)\n",
        "\n",
        "    test_data['count'] = test_data['count'] - test_data['income_n']\n",
        "    test_data = test_data.rename(columns={\"count\": \"income_n\"})\n",
        "\n",
        "    test_data = test_data.transpose()\n",
        "    test_res = chi2_contingency(test_data)\n",
        "    chi_res['income'].append(round(test_res.pvalue, 6))\n",
        "\n",
        "    # print(test_data)\n",
        "    # print(round(test_res.pvalue, 6))\n",
        "\n",
        "    # Test age differences\n",
        "    test_data = recap[['count', 'age_prop']].copy(deep=True)\n",
        "\n",
        "    test_data['age_prop'] = round(test_data['count'] * test_data['age_prop'])\n",
        "    test_data = test_data.rename(columns={\"age_prop\": \"age_n\"}).astype(int)\n",
        "\n",
        "    test_data['count'] = test_data['count'] - test_data['age_n']\n",
        "    test_data = test_data.rename(columns={\"count\": \"age_n\"})\n",
        "\n",
        "    test_data = test_data.transpose()\n",
        "    test_res = chi2_contingency(test_data)\n",
        "    chi_res['age'].append(round(test_res.pvalue, 6))\n",
        "\n",
        "  return(pd.DataFrame(chi_res))\n"
      ],
      "metadata": {
        "id": "sTsR15R6HQfJ"
      },
      "execution_count": 7,
      "outputs": []
    },
    {
      "source": [
        "from scipy.stats import f_oneway\n",
        "\n",
        "def make_anova_tests(results):\n",
        "  anova_res = {'cond_descr': [],\n",
        "               'cond_name': [],\n",
        "               'error': [],\n",
        "               'age': [],\n",
        "               'income': []}\n",
        "\n",
        "  for i in range(0, len(results['cond_name'])):\n",
        "    anova_res['cond_descr'].append(results['cond_descr'][i])\n",
        "    anova_res['cond_name'].append(results['cond_name'][i])\n",
        "    data = results['cond_res'][i]\n",
        "    recap = results['cond_recap'][i]\n",
        "\n",
        "    if len(recap['diff_p']) == 1:  # Check if only one cluster\n",
        "      anova_res['error'].append(np.nan)\n",
        "      anova_res['age'].append(np.nan)\n",
        "      anova_res['income'].append(np.nan)\n",
        "      continue\n",
        "\n",
        "    # Test error differences (ANOVA)\n",
        "    groups = [data['errors'][data['clusters'] == c] for c in recap['c']]\n",
        "    fvalue, pvalue = f_oneway(*groups)  # Perform ANOVA\n",
        "    anova_res['error'].append(round(pvalue, 6))\n",
        "\n",
        "    # Test age differences (ANOVA)\n",
        "    groups = [data['customer_age'][data['clusters'] == c] for c in recap['c']]\n",
        "    fvalue, pvalue = f_oneway(*groups)  # Perform ANOVA\n",
        "    anova_res['age'].append(round(pvalue, 6))\n",
        "\n",
        "    # Test income differences (ANOVA)\n",
        "    groups = [data['income'][data['clusters'] == c] for c in recap['c']]\n",
        "    fvalue, pvalue = f_oneway(*groups)  # Perform ANOVA\n",
        "    anova_res['income'].append(round(pvalue, 6))\n",
        "\n",
        "  return pd.DataFrame(anova_res)"
      ],
      "cell_type": "code",
      "metadata": {
        "id": "MoRYb02weqjR"
      },
      "execution_count": 8,
      "outputs": []
    },
    {
      "cell_type": "markdown",
      "source": [
        "## All Quality Metrics"
      ],
      "metadata": {
        "id": "_NypSKY8OM_O"
      }
    },
    {
      "cell_type": "code",
      "source": [
        "def recap_quali_metrics(chi_res, results, exp_condition):\n",
        "  all_quali = {'cond_descr': chi_res['cond_descr'],\n",
        "            'cond_name': chi_res['cond_name'],\n",
        "            'error': chi_res['error'],\n",
        "            'age': anova_res['age'],\n",
        "            'income': anova_res['income'],\n",
        "            'silhouette': []}\n",
        "\n",
        "  for i in range(0, len(chi_res['cond_name'])):\n",
        "    data = results['cond_res'][i]\n",
        "    feature_set = exp_condition['feature_set'][i]\n",
        "    clusters = data['clusters']\n",
        "    recap = results['cond_recap'][i]\n",
        "    if(len(recap['diff_p']) == 1):\n",
        "      all_quali['silhouette'].append(np.nan)\n",
        "      continue\n",
        "    silhouette_indiv = silhouette_samples(data[feature_set], clusters)\n",
        "    silhouette_avg = silhouette_indiv.mean()\n",
        "    all_quali['silhouette'].append(silhouette_avg)\n",
        "\n",
        "  return(pd.DataFrame(all_quali))"
      ],
      "metadata": {
        "id": "IQefKTk3OQEV"
      },
      "execution_count": 9,
      "outputs": []
    },
    {
      "cell_type": "markdown",
      "source": [
        "## Utils for VIZ"
      ],
      "metadata": {
        "id": "T4DB7lr6Op6n"
      }
    },
    {
      "cell_type": "code",
      "source": [
        "def tsne_plot_wClusters(data, title, perplexity, learning_rate, n_iter, alpha, size, tsne_columns, fig_prefix):\n",
        "  # Extract features for t-SNE and drop other_columns\n",
        "  tsne_features = data[tsne_columns]\n",
        "  other_columns = [col for col in data.columns if col not in tsne_features]\n",
        "  other_features = data[other_columns]\n",
        "\n",
        "  tsne = TSNE(n_components=2, perplexity=perplexity, learning_rate=learning_rate, n_iter=n_iter)\n",
        "  tsne_result = tsne.fit_transform(tsne_features)\n",
        "  tsne_df = pd.DataFrame(tsne_result, index = tsne_features.index, columns=['t-SNE Component 1', 't-SNE Component 2'])\n",
        "\n",
        "  temp_dataset = tsne_df.join(other_features, how='left')\n",
        "\n",
        "  # Create scatterplot using seaborn\n",
        "  scatterplot = sns.scatterplot(data=temp_dataset, x='t-SNE Component 1', y='t-SNE Component 2', alpha=alpha, s=size,\n",
        "                                hue=\"clusters\", palette='tab10', style='Error_Type')\n",
        "  scatterplot.set_title(title)\n",
        "  scatterplot.legend(loc='center left', bbox_to_anchor=(1.0, 0.5), ncol=1)\n",
        "\n",
        "  plt.savefig(fig_prefix+re.sub(' +', '', title)+'.png', bbox_inches='tight', pad_inches=0)\n",
        "  plt.show()"
      ],
      "metadata": {
        "id": "XsHEidlPOsWg"
      },
      "execution_count": 10,
      "outputs": []
    },
    {
      "cell_type": "markdown",
      "source": [
        "# K-Means Clustering"
      ],
      "metadata": {
        "id": "ot8OI3PtOvXV"
      }
    },
    {
      "cell_type": "code",
      "source": [
        "def hbac_kmeans(data, columns_to_use=[], error='errors',\n",
        "                min_splittable_cluster_prop = 0.05,\n",
        "                min_acceptable_cluster_prop = 0.03,\n",
        "                min_acceptable_error_diff = 0.01,\n",
        "                max_iter=300,\n",
        "                random_state=None):\n",
        "    clus_model_kwargs = {\n",
        "        \"n_clusters\": 2,  # Number of clusters to form\n",
        "        \"init\": \"k-means++\",  # Centroids initialization method\n",
        "        \"n_init\": 10,  # Number of initializations\n",
        "        \"max_iter\": max_iter,  # Maximum iterations for a single run\n",
        "    }\n",
        "\n",
        "    min_splittable_cluster_size = round(min_splittable_cluster_prop * len(data))  # Minimum size of cluster to be split\n",
        "    min_acceptable_cluster_size = round(min_acceptable_cluster_prop * len(data))  # Minimum acceptable size of cluster after split\n",
        "\n",
        "    # Initialize loop's variables\n",
        "    data['clusters'] = 0\n",
        "    banned_clusters = []\n",
        "\n",
        "    #### CLUSTERING LOOP\n",
        "    for i in range(1, max_iter):\n",
        "      # Init temporary cluster\n",
        "      data['new_clusters'] = None\n",
        "\n",
        "      ### Select the cluster to split in 2\n",
        "      x = get_next_cluster(data, 'clusters', min_splittable_cluster_size, data['clusters'].unique(), banned_clusters)\n",
        "      if(x == -1):\n",
        "        break\n",
        "\n",
        "      candidate_cluster = data.copy(deep=True)\n",
        "      candidate_cluster = candidate_cluster.loc[candidate_cluster['clusters'] == x]\n",
        "\n",
        "      #### SPLIT IN 2 SUB-CLUSTERS\n",
        "      kmeans = KMeans(**clus_model_kwargs, random_state=42).fit(candidate_cluster[columns_to_use])\n",
        "      candidate_cluster['new_clusters'] = kmeans.labels_\n",
        "\n",
        "      # KEEP CLUSTER OR NOT\n",
        "      # ...are cluster size large enough?\n",
        "      l0 = len(candidate_cluster.loc[candidate_cluster['new_clusters'] == 0])\n",
        "      l1 = len(candidate_cluster.loc[candidate_cluster['new_clusters'] == 1])\n",
        "\n",
        "      if((l0 < min_acceptable_cluster_size) | (l1 < min_acceptable_cluster_size)):\n",
        "        #print('Bad split: too small')\n",
        "        banned_clusters.append(x)\n",
        "        continue\n",
        "\n",
        "      # ...is error rate difference large enough?\n",
        "      e0 = get_error_rate(candidate_cluster.loc[candidate_cluster['new_clusters'] == 0])\n",
        "      e1 = get_error_rate(candidate_cluster.loc[candidate_cluster['new_clusters'] == 1])\n",
        "\n",
        "      if(abs(e0 - e1) < min_acceptable_error_diff):\n",
        "        #print('Bad split: same error')\n",
        "        banned_clusters.append(x)\n",
        "        continue\n",
        "\n",
        "      ### Re-integrate to main data\n",
        "      data['new_clusters'] = candidate_cluster['new_clusters'].combine_first(data['new_clusters'])\n",
        "\n",
        "      # Make new Cluster IDs\n",
        "      new_id = data['clusters'].unique().max() + 1\n",
        "      data.loc[((data.clusters == x) & (data.new_clusters == 1)), 'clusters'] = new_id\n",
        "\n",
        "    #print('Max iterations reached:', i)\n",
        "    return data"
      ],
      "metadata": {
        "id": "tMIkBd8VOurn"
      },
      "execution_count": 11,
      "outputs": []
    },
    {
      "cell_type": "markdown",
      "source": [
        "# SETUP EXPERIMENTS"
      ],
      "metadata": {
        "id": "_MXFx6AUP4Wy"
      }
    },
    {
      "cell_type": "markdown",
      "source": [
        "### Prepare Data"
      ],
      "metadata": {
        "id": "CaUgZzHeP9ic"
      }
    },
    {
      "cell_type": "code",
      "source": [
        "v2_all = pd.read_csv('/content/drive/MyDrive/Mirthe_Supervision /Paper#3/BAF/v2_all.csv')\n",
        "\n",
        "#split into TP/FN and TN/FP\n",
        "TPFN_data = subset_TP_FN(v2_all)\n",
        "TNFP_data = subset_TN_FP(v2_all)\n",
        "\n",
        "# Drop NA's\n",
        "TPFN_data = TPFN_data.dropna()\n",
        "TNFP_data = TNFP_data.dropna()\n"
      ],
      "metadata": {
        "id": "PxI5az1TP8Ka"
      },
      "execution_count": 12,
      "outputs": []
    },
    {
      "cell_type": "code",
      "source": [
        "TPFN_data.iloc[3]"
      ],
      "metadata": {
        "colab": {
          "base_uri": "https://localhost:8080/",
          "height": 565
        },
        "id": "D1IhytmKTjB2",
        "outputId": "b03f2955-22db-4316-bf7a-1829e266af6a"
      },
      "execution_count": 13,
      "outputs": [
        {
          "output_type": "execute_result",
          "data": {
            "text/plain": [
              "income                              0.000000e+00\n",
              "name_email_similarity               0.000000e+00\n",
              "customer_age                        6.000000e+01\n",
              "zip_count_4w                        1.096000e+03\n",
              "date_of_birth_distinct_emails_4w    5.000000e+00\n",
              "                                        ...     \n",
              "Shap_device_os_linux_scaled         6.519139e-01\n",
              "Shap_device_os_macintosh_scaled     1.030578e+00\n",
              "Shap_device_os_other_scaled         5.631505e-01\n",
              "Shap_device_os_windows_scaled       1.047444e+00\n",
              "Shap_device_os_x11_scaled          -7.826584e-19\n",
              "Name: 6, Length: 82, dtype: float64"
            ],
            "text/html": [
              "<div>\n",
              "<style scoped>\n",
              "    .dataframe tbody tr th:only-of-type {\n",
              "        vertical-align: middle;\n",
              "    }\n",
              "\n",
              "    .dataframe tbody tr th {\n",
              "        vertical-align: top;\n",
              "    }\n",
              "\n",
              "    .dataframe thead th {\n",
              "        text-align: right;\n",
              "    }\n",
              "</style>\n",
              "<table border=\"1\" class=\"dataframe\">\n",
              "  <thead>\n",
              "    <tr style=\"text-align: right;\">\n",
              "      <th></th>\n",
              "      <th>6</th>\n",
              "    </tr>\n",
              "  </thead>\n",
              "  <tbody>\n",
              "    <tr>\n",
              "      <th>income</th>\n",
              "      <td>0.000000e+00</td>\n",
              "    </tr>\n",
              "    <tr>\n",
              "      <th>name_email_similarity</th>\n",
              "      <td>0.000000e+00</td>\n",
              "    </tr>\n",
              "    <tr>\n",
              "      <th>customer_age</th>\n",
              "      <td>6.000000e+01</td>\n",
              "    </tr>\n",
              "    <tr>\n",
              "      <th>zip_count_4w</th>\n",
              "      <td>1.096000e+03</td>\n",
              "    </tr>\n",
              "    <tr>\n",
              "      <th>date_of_birth_distinct_emails_4w</th>\n",
              "      <td>5.000000e+00</td>\n",
              "    </tr>\n",
              "    <tr>\n",
              "      <th>...</th>\n",
              "      <td>...</td>\n",
              "    </tr>\n",
              "    <tr>\n",
              "      <th>Shap_device_os_linux_scaled</th>\n",
              "      <td>6.519139e-01</td>\n",
              "    </tr>\n",
              "    <tr>\n",
              "      <th>Shap_device_os_macintosh_scaled</th>\n",
              "      <td>1.030578e+00</td>\n",
              "    </tr>\n",
              "    <tr>\n",
              "      <th>Shap_device_os_other_scaled</th>\n",
              "      <td>5.631505e-01</td>\n",
              "    </tr>\n",
              "    <tr>\n",
              "      <th>Shap_device_os_windows_scaled</th>\n",
              "      <td>1.047444e+00</td>\n",
              "    </tr>\n",
              "    <tr>\n",
              "      <th>Shap_device_os_x11_scaled</th>\n",
              "      <td>-7.826584e-19</td>\n",
              "    </tr>\n",
              "  </tbody>\n",
              "</table>\n",
              "<p>82 rows × 1 columns</p>\n",
              "</div><br><label><b>dtype:</b> float64</label>"
            ]
          },
          "metadata": {},
          "execution_count": 13
        }
      ]
    },
    {
      "cell_type": "code",
      "source": [
        "TNFP_data.iloc[3]"
      ],
      "metadata": {
        "id": "X9q2e1xjp92q",
        "outputId": "db27836d-df19-4771-d861-39372ff67e44",
        "colab": {
          "base_uri": "https://localhost:8080/",
          "height": 565
        }
      },
      "execution_count": 14,
      "outputs": [
        {
          "output_type": "execute_result",
          "data": {
            "text/plain": [
              "income                              0.000000e+00\n",
              "name_email_similarity               0.000000e+00\n",
              "customer_age                        5.000000e+01\n",
              "zip_count_4w                        1.124000e+03\n",
              "date_of_birth_distinct_emails_4w    6.000000e+00\n",
              "                                        ...     \n",
              "Shap_device_os_linux_scaled         3.509148e-01\n",
              "Shap_device_os_macintosh_scaled    -8.769903e-01\n",
              "Shap_device_os_other_scaled        -2.017010e+00\n",
              "Shap_device_os_windows_scaled      -1.060143e+00\n",
              "Shap_device_os_x11_scaled          -7.826584e-19\n",
              "Name: 7, Length: 82, dtype: float64"
            ],
            "text/html": [
              "<div>\n",
              "<style scoped>\n",
              "    .dataframe tbody tr th:only-of-type {\n",
              "        vertical-align: middle;\n",
              "    }\n",
              "\n",
              "    .dataframe tbody tr th {\n",
              "        vertical-align: top;\n",
              "    }\n",
              "\n",
              "    .dataframe thead th {\n",
              "        text-align: right;\n",
              "    }\n",
              "</style>\n",
              "<table border=\"1\" class=\"dataframe\">\n",
              "  <thead>\n",
              "    <tr style=\"text-align: right;\">\n",
              "      <th></th>\n",
              "      <th>7</th>\n",
              "    </tr>\n",
              "  </thead>\n",
              "  <tbody>\n",
              "    <tr>\n",
              "      <th>income</th>\n",
              "      <td>0.000000e+00</td>\n",
              "    </tr>\n",
              "    <tr>\n",
              "      <th>name_email_similarity</th>\n",
              "      <td>0.000000e+00</td>\n",
              "    </tr>\n",
              "    <tr>\n",
              "      <th>customer_age</th>\n",
              "      <td>5.000000e+01</td>\n",
              "    </tr>\n",
              "    <tr>\n",
              "      <th>zip_count_4w</th>\n",
              "      <td>1.124000e+03</td>\n",
              "    </tr>\n",
              "    <tr>\n",
              "      <th>date_of_birth_distinct_emails_4w</th>\n",
              "      <td>6.000000e+00</td>\n",
              "    </tr>\n",
              "    <tr>\n",
              "      <th>...</th>\n",
              "      <td>...</td>\n",
              "    </tr>\n",
              "    <tr>\n",
              "      <th>Shap_device_os_linux_scaled</th>\n",
              "      <td>3.509148e-01</td>\n",
              "    </tr>\n",
              "    <tr>\n",
              "      <th>Shap_device_os_macintosh_scaled</th>\n",
              "      <td>-8.769903e-01</td>\n",
              "    </tr>\n",
              "    <tr>\n",
              "      <th>Shap_device_os_other_scaled</th>\n",
              "      <td>-2.017010e+00</td>\n",
              "    </tr>\n",
              "    <tr>\n",
              "      <th>Shap_device_os_windows_scaled</th>\n",
              "      <td>-1.060143e+00</td>\n",
              "    </tr>\n",
              "    <tr>\n",
              "      <th>Shap_device_os_x11_scaled</th>\n",
              "      <td>-7.826584e-19</td>\n",
              "    </tr>\n",
              "  </tbody>\n",
              "</table>\n",
              "<p>82 rows × 1 columns</p>\n",
              "</div><br><label><b>dtype:</b> float64</label>"
            ]
          },
          "metadata": {},
          "execution_count": 14
        }
      ]
    },
    {
      "cell_type": "markdown",
      "source": [
        "### Set experimental conditions"
      ],
      "metadata": {
        "id": "ghRId9HGQjne"
      }
    },
    {
      "cell_type": "code",
      "source": [
        "##### HBAC parameters\n",
        "min_splittable_cluster_prop = 0.05\n",
        "min_acceptable_cluster_prop = 0.05\n",
        "min_acceptable_error_diff = 0.005\n",
        "\n",
        "##### Make and name the sets of features to experiment with\n",
        "feature_set_name = []\n",
        "feature_set_descr = []\n",
        "feature_set = []\n",
        "\n",
        "######### BASELINE HBAC\n",
        "### Does adding SHAP help the clustering?\n",
        "# Baseline (Mitzal-Radheka)\n",
        "feature_set_name.append(f'+REG +SEN  -err     -shap')\n",
        "feature_set_descr.append('Baseline')\n",
        "feature_set.append(REG_scaled + DUMMY_scaled + SEN_scaled)\n",
        "\n",
        "# Baseline with Error (Selma)\n",
        "feature_set_name.append('+REG +SEN +ERR  -shap')\n",
        "feature_set_descr.append('Baseline with Error')\n",
        "feature_set.append(REG_scaled + DUMMY_scaled + SEN_scaled + ERROR_scaled)\n",
        "\n",
        "# Adding SHAP values to Baseline (Mirthe;)\n",
        "feature_set_name.append('+REG +SEN  -err    +SHAP')\n",
        "feature_set_descr.append('Baseline with SHAP')\n",
        "feature_set.append(REG_scaled + DUMMY_scaled + SEN_scaled + SHAP_REG_scaled + SHAP_DUMMY_scaled + SHAP_SEN_scaled)\n",
        "\n",
        "feature_set_name.append('+REG +SEN +ERR  +SHAP')\n",
        "feature_set_descr.append('Baseline with SHAP & Error')\n",
        "feature_set.append(REG_scaled + DUMMY_scaled + SEN_scaled + ERROR_scaled + SHAP_REG_scaled + SHAP_DUMMY_scaled + SHAP_SEN_scaled)\n",
        "\n",
        "\n",
        "############ SHAP-ONLY HBAC\n",
        "### Does SHAP alone allow to identify clusters?\n",
        "# Using only SHAP values\n",
        "feature_set_name.append('-reg    -sen    -err     +SHAP')\n",
        "feature_set_descr.append('SHAP only')\n",
        "feature_set.append(SHAP_REG_scaled + SHAP_DUMMY_scaled)\n",
        "\n",
        "feature_set_name.append('-reg    -sen    +ERR  +SHAP')\n",
        "feature_set_descr.append('SHAP only with Error')\n",
        "feature_set.append(SHAP_REG_scaled + SHAP_DUMMY_scaled + ERROR_scaled)\n",
        "\n",
        "\n",
        "############ ONLY SENSITIVE FEATURES\n",
        "### Do sensitive features alone allow to identify clusters?\n",
        "# Using only Sensitive features\n",
        "feature_set_name.append('-reg    +SEN  -err     -shap')\n",
        "feature_set_descr.append('Sensitive features only')\n",
        "feature_set.append(SEN_scaled)\n",
        "\n",
        "feature_set_name.append('-reg    +SEN +ERR   -shap')\n",
        "feature_set_descr.append('Sensitive features with Error')\n",
        "feature_set.append(SEN_scaled + ERROR_scaled)\n",
        "\n",
        "### Does adding SHAP help the clustering based on sensitive features?\n",
        "# Using Sensitive features with SHAP values\n",
        "feature_set_name.append('-reg    +SEN  -err     +SHAP_S')\n",
        "feature_set_descr.append('Sensitive features with SHAP')\n",
        "feature_set.append(SEN_scaled + SHAP_SEN_scaled)\n",
        "\n",
        "feature_set_name.append('-reg    +SEN +ERR  +SHAP_S')\n",
        "feature_set_descr.append('Sensitive features with SHAP & Error')\n",
        "feature_set.append(SEN_scaled + SHAP_SEN_scaled + ERROR_scaled)\n",
        "\n",
        "# Using only SHAP of Sensitive features\n",
        "feature_set_name.append('-reg    -sen    -err     +SHAP_S')\n",
        "feature_set_descr.append('Only SHAP of Sensitive features')\n",
        "feature_set.append(SHAP_SEN_scaled)\n",
        "\n",
        "feature_set_name.append('-reg    -sen    +ERR  +SHAP_S')\n",
        "feature_set_descr.append('Only SHAP of Sensitive features')\n",
        "feature_set.append(SHAP_SEN_scaled + ERROR_scaled)\n",
        "\n",
        "\n",
        "############ ONLY REGULAR FEATURES\n",
        "#conditons without sensitive to check how much it explains the results\n",
        "feature_set_name.append('+REG -sen    -err     -shap')\n",
        "feature_set_descr.append('REG Only')\n",
        "feature_set.append(REG_scaled + DUMMY_scaled)\n",
        "\n",
        "feature_set_name.append('+REG -sen    +ERR  -shap')\n",
        "feature_set_descr.append('REG & ERROR')\n",
        "feature_set.append(REG_scaled + DUMMY_scaled + ERROR_scaled)\n",
        "\n",
        "feature_set_name.append('+REG -sen    -err     +SHAP_R')\n",
        "feature_set_descr.append('REG & SHAP')\n",
        "feature_set.append(REG_scaled + DUMMY_scaled + SHAP_REG_scaled) # ERROR FIXED\n",
        "\n",
        "feature_set_name.append('+REG -sen    +ERR  +SHAP_R')\n",
        "feature_set_descr.append('REG, ERROR & SHAP')\n",
        "feature_set.append(REG_scaled + DUMMY_scaled + ERROR_scaled + SHAP_REG_scaled) # ERROR FIXED\n",
        "\n",
        "# Using only SHAP of Regular features\n",
        "feature_set_name.append('-reg    -sen    -err     +SHAP_R')\n",
        "feature_set_descr.append('Only SHAP of Regular features')\n",
        "feature_set.append(SHAP_REG_scaled)\n",
        "\n",
        "feature_set_name.append('-reg    -sen    +ERR  +SHAP_R')\n",
        "feature_set_descr.append('Only SHAP of Regular features + Error')\n",
        "feature_set.append(SHAP_REG_scaled + ERROR_scaled)\n",
        "\n",
        "exp_condition = pd.DataFrame({'feature_set_descr': feature_set_descr,\n",
        "                              'feature_set_name': feature_set_name,\n",
        "                              'feature_set': feature_set})\n",
        "exp_condition\n"
      ],
      "metadata": {
        "colab": {
          "base_uri": "https://localhost:8080/",
          "height": 929
        },
        "id": "xG1RKfVsQmP7",
        "outputId": "6558fda6-c2dc-401d-db9a-f3586b90f079"
      },
      "execution_count": 15,
      "outputs": [
        {
          "output_type": "execute_result",
          "data": {
            "text/plain": [
              "                        feature_set_descr                  feature_set_name  \\\n",
              "0                                Baseline         +REG +SEN  -err     -shap   \n",
              "1                     Baseline with Error             +REG +SEN +ERR  -shap   \n",
              "2                      Baseline with SHAP          +REG +SEN  -err    +SHAP   \n",
              "3              Baseline with SHAP & Error             +REG +SEN +ERR  +SHAP   \n",
              "4                               SHAP only    -reg    -sen    -err     +SHAP   \n",
              "5                    SHAP only with Error       -reg    -sen    +ERR  +SHAP   \n",
              "6                 Sensitive features only      -reg    +SEN  -err     -shap   \n",
              "7           Sensitive features with Error         -reg    +SEN +ERR   -shap   \n",
              "8            Sensitive features with SHAP    -reg    +SEN  -err     +SHAP_S   \n",
              "9    Sensitive features with SHAP & Error        -reg    +SEN +ERR  +SHAP_S   \n",
              "10        Only SHAP of Sensitive features  -reg    -sen    -err     +SHAP_S   \n",
              "11        Only SHAP of Sensitive features     -reg    -sen    +ERR  +SHAP_S   \n",
              "12                               REG Only       +REG -sen    -err     -shap   \n",
              "13                            REG & ERROR          +REG -sen    +ERR  -shap   \n",
              "14                             REG & SHAP     +REG -sen    -err     +SHAP_R   \n",
              "15                      REG, ERROR & SHAP        +REG -sen    +ERR  +SHAP_R   \n",
              "16          Only SHAP of Regular features  -reg    -sen    -err     +SHAP_R   \n",
              "17  Only SHAP of Regular features + Error     -reg    -sen    +ERR  +SHAP_R   \n",
              "\n",
              "                                          feature_set  \n",
              "0   [session_length_in_minutes_scaled, email_is_fr...  \n",
              "1   [session_length_in_minutes_scaled, email_is_fr...  \n",
              "2   [session_length_in_minutes_scaled, email_is_fr...  \n",
              "3   [session_length_in_minutes_scaled, email_is_fr...  \n",
              "4   [Shap_session_length_in_minutes_scaled, Shap_e...  \n",
              "5   [Shap_session_length_in_minutes_scaled, Shap_e...  \n",
              "6                [customer_age_scaled, income_scaled]  \n",
              "7   [customer_age_scaled, income_scaled, errors_sc...  \n",
              "8   [customer_age_scaled, income_scaled, Shap_cust...  \n",
              "9   [customer_age_scaled, income_scaled, Shap_cust...  \n",
              "10     [Shap_customer_age_scaled, Shap_income_scaled]  \n",
              "11  [Shap_customer_age_scaled, Shap_income_scaled,...  \n",
              "12  [session_length_in_minutes_scaled, email_is_fr...  \n",
              "13  [session_length_in_minutes_scaled, email_is_fr...  \n",
              "14  [session_length_in_minutes_scaled, email_is_fr...  \n",
              "15  [session_length_in_minutes_scaled, email_is_fr...  \n",
              "16  [Shap_session_length_in_minutes_scaled, Shap_e...  \n",
              "17  [Shap_session_length_in_minutes_scaled, Shap_e...  "
            ],
            "text/html": [
              "\n",
              "  <div id=\"df-f3318f73-0a0f-4006-bef7-e8b90067618c\" class=\"colab-df-container\">\n",
              "    <div>\n",
              "<style scoped>\n",
              "    .dataframe tbody tr th:only-of-type {\n",
              "        vertical-align: middle;\n",
              "    }\n",
              "\n",
              "    .dataframe tbody tr th {\n",
              "        vertical-align: top;\n",
              "    }\n",
              "\n",
              "    .dataframe thead th {\n",
              "        text-align: right;\n",
              "    }\n",
              "</style>\n",
              "<table border=\"1\" class=\"dataframe\">\n",
              "  <thead>\n",
              "    <tr style=\"text-align: right;\">\n",
              "      <th></th>\n",
              "      <th>feature_set_descr</th>\n",
              "      <th>feature_set_name</th>\n",
              "      <th>feature_set</th>\n",
              "    </tr>\n",
              "  </thead>\n",
              "  <tbody>\n",
              "    <tr>\n",
              "      <th>0</th>\n",
              "      <td>Baseline</td>\n",
              "      <td>+REG +SEN  -err     -shap</td>\n",
              "      <td>[session_length_in_minutes_scaled, email_is_fr...</td>\n",
              "    </tr>\n",
              "    <tr>\n",
              "      <th>1</th>\n",
              "      <td>Baseline with Error</td>\n",
              "      <td>+REG +SEN +ERR  -shap</td>\n",
              "      <td>[session_length_in_minutes_scaled, email_is_fr...</td>\n",
              "    </tr>\n",
              "    <tr>\n",
              "      <th>2</th>\n",
              "      <td>Baseline with SHAP</td>\n",
              "      <td>+REG +SEN  -err    +SHAP</td>\n",
              "      <td>[session_length_in_minutes_scaled, email_is_fr...</td>\n",
              "    </tr>\n",
              "    <tr>\n",
              "      <th>3</th>\n",
              "      <td>Baseline with SHAP &amp; Error</td>\n",
              "      <td>+REG +SEN +ERR  +SHAP</td>\n",
              "      <td>[session_length_in_minutes_scaled, email_is_fr...</td>\n",
              "    </tr>\n",
              "    <tr>\n",
              "      <th>4</th>\n",
              "      <td>SHAP only</td>\n",
              "      <td>-reg    -sen    -err     +SHAP</td>\n",
              "      <td>[Shap_session_length_in_minutes_scaled, Shap_e...</td>\n",
              "    </tr>\n",
              "    <tr>\n",
              "      <th>5</th>\n",
              "      <td>SHAP only with Error</td>\n",
              "      <td>-reg    -sen    +ERR  +SHAP</td>\n",
              "      <td>[Shap_session_length_in_minutes_scaled, Shap_e...</td>\n",
              "    </tr>\n",
              "    <tr>\n",
              "      <th>6</th>\n",
              "      <td>Sensitive features only</td>\n",
              "      <td>-reg    +SEN  -err     -shap</td>\n",
              "      <td>[customer_age_scaled, income_scaled]</td>\n",
              "    </tr>\n",
              "    <tr>\n",
              "      <th>7</th>\n",
              "      <td>Sensitive features with Error</td>\n",
              "      <td>-reg    +SEN +ERR   -shap</td>\n",
              "      <td>[customer_age_scaled, income_scaled, errors_sc...</td>\n",
              "    </tr>\n",
              "    <tr>\n",
              "      <th>8</th>\n",
              "      <td>Sensitive features with SHAP</td>\n",
              "      <td>-reg    +SEN  -err     +SHAP_S</td>\n",
              "      <td>[customer_age_scaled, income_scaled, Shap_cust...</td>\n",
              "    </tr>\n",
              "    <tr>\n",
              "      <th>9</th>\n",
              "      <td>Sensitive features with SHAP &amp; Error</td>\n",
              "      <td>-reg    +SEN +ERR  +SHAP_S</td>\n",
              "      <td>[customer_age_scaled, income_scaled, Shap_cust...</td>\n",
              "    </tr>\n",
              "    <tr>\n",
              "      <th>10</th>\n",
              "      <td>Only SHAP of Sensitive features</td>\n",
              "      <td>-reg    -sen    -err     +SHAP_S</td>\n",
              "      <td>[Shap_customer_age_scaled, Shap_income_scaled]</td>\n",
              "    </tr>\n",
              "    <tr>\n",
              "      <th>11</th>\n",
              "      <td>Only SHAP of Sensitive features</td>\n",
              "      <td>-reg    -sen    +ERR  +SHAP_S</td>\n",
              "      <td>[Shap_customer_age_scaled, Shap_income_scaled,...</td>\n",
              "    </tr>\n",
              "    <tr>\n",
              "      <th>12</th>\n",
              "      <td>REG Only</td>\n",
              "      <td>+REG -sen    -err     -shap</td>\n",
              "      <td>[session_length_in_minutes_scaled, email_is_fr...</td>\n",
              "    </tr>\n",
              "    <tr>\n",
              "      <th>13</th>\n",
              "      <td>REG &amp; ERROR</td>\n",
              "      <td>+REG -sen    +ERR  -shap</td>\n",
              "      <td>[session_length_in_minutes_scaled, email_is_fr...</td>\n",
              "    </tr>\n",
              "    <tr>\n",
              "      <th>14</th>\n",
              "      <td>REG &amp; SHAP</td>\n",
              "      <td>+REG -sen    -err     +SHAP_R</td>\n",
              "      <td>[session_length_in_minutes_scaled, email_is_fr...</td>\n",
              "    </tr>\n",
              "    <tr>\n",
              "      <th>15</th>\n",
              "      <td>REG, ERROR &amp; SHAP</td>\n",
              "      <td>+REG -sen    +ERR  +SHAP_R</td>\n",
              "      <td>[session_length_in_minutes_scaled, email_is_fr...</td>\n",
              "    </tr>\n",
              "    <tr>\n",
              "      <th>16</th>\n",
              "      <td>Only SHAP of Regular features</td>\n",
              "      <td>-reg    -sen    -err     +SHAP_R</td>\n",
              "      <td>[Shap_session_length_in_minutes_scaled, Shap_e...</td>\n",
              "    </tr>\n",
              "    <tr>\n",
              "      <th>17</th>\n",
              "      <td>Only SHAP of Regular features + Error</td>\n",
              "      <td>-reg    -sen    +ERR  +SHAP_R</td>\n",
              "      <td>[Shap_session_length_in_minutes_scaled, Shap_e...</td>\n",
              "    </tr>\n",
              "  </tbody>\n",
              "</table>\n",
              "</div>\n",
              "    <div class=\"colab-df-buttons\">\n",
              "\n",
              "  <div class=\"colab-df-container\">\n",
              "    <button class=\"colab-df-convert\" onclick=\"convertToInteractive('df-f3318f73-0a0f-4006-bef7-e8b90067618c')\"\n",
              "            title=\"Convert this dataframe to an interactive table.\"\n",
              "            style=\"display:none;\">\n",
              "\n",
              "  <svg xmlns=\"http://www.w3.org/2000/svg\" height=\"24px\" viewBox=\"0 -960 960 960\">\n",
              "    <path d=\"M120-120v-720h720v720H120Zm60-500h600v-160H180v160Zm220 220h160v-160H400v160Zm0 220h160v-160H400v160ZM180-400h160v-160H180v160Zm440 0h160v-160H620v160ZM180-180h160v-160H180v160Zm440 0h160v-160H620v160Z\"/>\n",
              "  </svg>\n",
              "    </button>\n",
              "\n",
              "  <style>\n",
              "    .colab-df-container {\n",
              "      display:flex;\n",
              "      gap: 12px;\n",
              "    }\n",
              "\n",
              "    .colab-df-convert {\n",
              "      background-color: #E8F0FE;\n",
              "      border: none;\n",
              "      border-radius: 50%;\n",
              "      cursor: pointer;\n",
              "      display: none;\n",
              "      fill: #1967D2;\n",
              "      height: 32px;\n",
              "      padding: 0 0 0 0;\n",
              "      width: 32px;\n",
              "    }\n",
              "\n",
              "    .colab-df-convert:hover {\n",
              "      background-color: #E2EBFA;\n",
              "      box-shadow: 0px 1px 2px rgba(60, 64, 67, 0.3), 0px 1px 3px 1px rgba(60, 64, 67, 0.15);\n",
              "      fill: #174EA6;\n",
              "    }\n",
              "\n",
              "    .colab-df-buttons div {\n",
              "      margin-bottom: 4px;\n",
              "    }\n",
              "\n",
              "    [theme=dark] .colab-df-convert {\n",
              "      background-color: #3B4455;\n",
              "      fill: #D2E3FC;\n",
              "    }\n",
              "\n",
              "    [theme=dark] .colab-df-convert:hover {\n",
              "      background-color: #434B5C;\n",
              "      box-shadow: 0px 1px 3px 1px rgba(0, 0, 0, 0.15);\n",
              "      filter: drop-shadow(0px 1px 2px rgba(0, 0, 0, 0.3));\n",
              "      fill: #FFFFFF;\n",
              "    }\n",
              "  </style>\n",
              "\n",
              "    <script>\n",
              "      const buttonEl =\n",
              "        document.querySelector('#df-f3318f73-0a0f-4006-bef7-e8b90067618c button.colab-df-convert');\n",
              "      buttonEl.style.display =\n",
              "        google.colab.kernel.accessAllowed ? 'block' : 'none';\n",
              "\n",
              "      async function convertToInteractive(key) {\n",
              "        const element = document.querySelector('#df-f3318f73-0a0f-4006-bef7-e8b90067618c');\n",
              "        const dataTable =\n",
              "          await google.colab.kernel.invokeFunction('convertToInteractive',\n",
              "                                                    [key], {});\n",
              "        if (!dataTable) return;\n",
              "\n",
              "        const docLinkHtml = 'Like what you see? Visit the ' +\n",
              "          '<a target=\"_blank\" href=https://colab.research.google.com/notebooks/data_table.ipynb>data table notebook</a>'\n",
              "          + ' to learn more about interactive tables.';\n",
              "        element.innerHTML = '';\n",
              "        dataTable['output_type'] = 'display_data';\n",
              "        await google.colab.output.renderOutput(dataTable, element);\n",
              "        const docLink = document.createElement('div');\n",
              "        docLink.innerHTML = docLinkHtml;\n",
              "        element.appendChild(docLink);\n",
              "      }\n",
              "    </script>\n",
              "  </div>\n",
              "\n",
              "\n",
              "<div id=\"df-a81091f8-c9bc-4341-b595-50baa5cafcf1\">\n",
              "  <button class=\"colab-df-quickchart\" onclick=\"quickchart('df-a81091f8-c9bc-4341-b595-50baa5cafcf1')\"\n",
              "            title=\"Suggest charts\"\n",
              "            style=\"display:none;\">\n",
              "\n",
              "<svg xmlns=\"http://www.w3.org/2000/svg\" height=\"24px\"viewBox=\"0 0 24 24\"\n",
              "     width=\"24px\">\n",
              "    <g>\n",
              "        <path d=\"M19 3H5c-1.1 0-2 .9-2 2v14c0 1.1.9 2 2 2h14c1.1 0 2-.9 2-2V5c0-1.1-.9-2-2-2zM9 17H7v-7h2v7zm4 0h-2V7h2v10zm4 0h-2v-4h2v4z\"/>\n",
              "    </g>\n",
              "</svg>\n",
              "  </button>\n",
              "\n",
              "<style>\n",
              "  .colab-df-quickchart {\n",
              "      --bg-color: #E8F0FE;\n",
              "      --fill-color: #1967D2;\n",
              "      --hover-bg-color: #E2EBFA;\n",
              "      --hover-fill-color: #174EA6;\n",
              "      --disabled-fill-color: #AAA;\n",
              "      --disabled-bg-color: #DDD;\n",
              "  }\n",
              "\n",
              "  [theme=dark] .colab-df-quickchart {\n",
              "      --bg-color: #3B4455;\n",
              "      --fill-color: #D2E3FC;\n",
              "      --hover-bg-color: #434B5C;\n",
              "      --hover-fill-color: #FFFFFF;\n",
              "      --disabled-bg-color: #3B4455;\n",
              "      --disabled-fill-color: #666;\n",
              "  }\n",
              "\n",
              "  .colab-df-quickchart {\n",
              "    background-color: var(--bg-color);\n",
              "    border: none;\n",
              "    border-radius: 50%;\n",
              "    cursor: pointer;\n",
              "    display: none;\n",
              "    fill: var(--fill-color);\n",
              "    height: 32px;\n",
              "    padding: 0;\n",
              "    width: 32px;\n",
              "  }\n",
              "\n",
              "  .colab-df-quickchart:hover {\n",
              "    background-color: var(--hover-bg-color);\n",
              "    box-shadow: 0 1px 2px rgba(60, 64, 67, 0.3), 0 1px 3px 1px rgba(60, 64, 67, 0.15);\n",
              "    fill: var(--button-hover-fill-color);\n",
              "  }\n",
              "\n",
              "  .colab-df-quickchart-complete:disabled,\n",
              "  .colab-df-quickchart-complete:disabled:hover {\n",
              "    background-color: var(--disabled-bg-color);\n",
              "    fill: var(--disabled-fill-color);\n",
              "    box-shadow: none;\n",
              "  }\n",
              "\n",
              "  .colab-df-spinner {\n",
              "    border: 2px solid var(--fill-color);\n",
              "    border-color: transparent;\n",
              "    border-bottom-color: var(--fill-color);\n",
              "    animation:\n",
              "      spin 1s steps(1) infinite;\n",
              "  }\n",
              "\n",
              "  @keyframes spin {\n",
              "    0% {\n",
              "      border-color: transparent;\n",
              "      border-bottom-color: var(--fill-color);\n",
              "      border-left-color: var(--fill-color);\n",
              "    }\n",
              "    20% {\n",
              "      border-color: transparent;\n",
              "      border-left-color: var(--fill-color);\n",
              "      border-top-color: var(--fill-color);\n",
              "    }\n",
              "    30% {\n",
              "      border-color: transparent;\n",
              "      border-left-color: var(--fill-color);\n",
              "      border-top-color: var(--fill-color);\n",
              "      border-right-color: var(--fill-color);\n",
              "    }\n",
              "    40% {\n",
              "      border-color: transparent;\n",
              "      border-right-color: var(--fill-color);\n",
              "      border-top-color: var(--fill-color);\n",
              "    }\n",
              "    60% {\n",
              "      border-color: transparent;\n",
              "      border-right-color: var(--fill-color);\n",
              "    }\n",
              "    80% {\n",
              "      border-color: transparent;\n",
              "      border-right-color: var(--fill-color);\n",
              "      border-bottom-color: var(--fill-color);\n",
              "    }\n",
              "    90% {\n",
              "      border-color: transparent;\n",
              "      border-bottom-color: var(--fill-color);\n",
              "    }\n",
              "  }\n",
              "</style>\n",
              "\n",
              "  <script>\n",
              "    async function quickchart(key) {\n",
              "      const quickchartButtonEl =\n",
              "        document.querySelector('#' + key + ' button');\n",
              "      quickchartButtonEl.disabled = true;  // To prevent multiple clicks.\n",
              "      quickchartButtonEl.classList.add('colab-df-spinner');\n",
              "      try {\n",
              "        const charts = await google.colab.kernel.invokeFunction(\n",
              "            'suggestCharts', [key], {});\n",
              "      } catch (error) {\n",
              "        console.error('Error during call to suggestCharts:', error);\n",
              "      }\n",
              "      quickchartButtonEl.classList.remove('colab-df-spinner');\n",
              "      quickchartButtonEl.classList.add('colab-df-quickchart-complete');\n",
              "    }\n",
              "    (() => {\n",
              "      let quickchartButtonEl =\n",
              "        document.querySelector('#df-a81091f8-c9bc-4341-b595-50baa5cafcf1 button');\n",
              "      quickchartButtonEl.style.display =\n",
              "        google.colab.kernel.accessAllowed ? 'block' : 'none';\n",
              "    })();\n",
              "  </script>\n",
              "</div>\n",
              "\n",
              "  <div id=\"id_7950ab77-e6f4-400c-a882-b0612eb6f9d1\">\n",
              "    <style>\n",
              "      .colab-df-generate {\n",
              "        background-color: #E8F0FE;\n",
              "        border: none;\n",
              "        border-radius: 50%;\n",
              "        cursor: pointer;\n",
              "        display: none;\n",
              "        fill: #1967D2;\n",
              "        height: 32px;\n",
              "        padding: 0 0 0 0;\n",
              "        width: 32px;\n",
              "      }\n",
              "\n",
              "      .colab-df-generate:hover {\n",
              "        background-color: #E2EBFA;\n",
              "        box-shadow: 0px 1px 2px rgba(60, 64, 67, 0.3), 0px 1px 3px 1px rgba(60, 64, 67, 0.15);\n",
              "        fill: #174EA6;\n",
              "      }\n",
              "\n",
              "      [theme=dark] .colab-df-generate {\n",
              "        background-color: #3B4455;\n",
              "        fill: #D2E3FC;\n",
              "      }\n",
              "\n",
              "      [theme=dark] .colab-df-generate:hover {\n",
              "        background-color: #434B5C;\n",
              "        box-shadow: 0px 1px 3px 1px rgba(0, 0, 0, 0.15);\n",
              "        filter: drop-shadow(0px 1px 2px rgba(0, 0, 0, 0.3));\n",
              "        fill: #FFFFFF;\n",
              "      }\n",
              "    </style>\n",
              "    <button class=\"colab-df-generate\" onclick=\"generateWithVariable('exp_condition')\"\n",
              "            title=\"Generate code using this dataframe.\"\n",
              "            style=\"display:none;\">\n",
              "\n",
              "  <svg xmlns=\"http://www.w3.org/2000/svg\" height=\"24px\"viewBox=\"0 0 24 24\"\n",
              "       width=\"24px\">\n",
              "    <path d=\"M7,19H8.4L18.45,9,17,7.55,7,17.6ZM5,21V16.75L18.45,3.32a2,2,0,0,1,2.83,0l1.4,1.43a1.91,1.91,0,0,1,.58,1.4,1.91,1.91,0,0,1-.58,1.4L9.25,21ZM18.45,9,17,7.55Zm-12,3A5.31,5.31,0,0,0,4.9,8.1,5.31,5.31,0,0,0,1,6.5,5.31,5.31,0,0,0,4.9,4.9,5.31,5.31,0,0,0,6.5,1,5.31,5.31,0,0,0,8.1,4.9,5.31,5.31,0,0,0,12,6.5,5.46,5.46,0,0,0,6.5,12Z\"/>\n",
              "  </svg>\n",
              "    </button>\n",
              "    <script>\n",
              "      (() => {\n",
              "      const buttonEl =\n",
              "        document.querySelector('#id_7950ab77-e6f4-400c-a882-b0612eb6f9d1 button.colab-df-generate');\n",
              "      buttonEl.style.display =\n",
              "        google.colab.kernel.accessAllowed ? 'block' : 'none';\n",
              "\n",
              "      buttonEl.onclick = () => {\n",
              "        google.colab.notebook.generateWithVariable('exp_condition');\n",
              "      }\n",
              "      })();\n",
              "    </script>\n",
              "  </div>\n",
              "\n",
              "    </div>\n",
              "  </div>\n"
            ],
            "application/vnd.google.colaboratory.intrinsic+json": {
              "type": "dataframe",
              "variable_name": "exp_condition",
              "summary": "{\n  \"name\": \"exp_condition\",\n  \"rows\": 18,\n  \"fields\": [\n    {\n      \"column\": \"feature_set_descr\",\n      \"properties\": {\n        \"dtype\": \"string\",\n        \"num_unique_values\": 17,\n        \"samples\": [\n          \"Baseline\",\n          \"Baseline with Error\",\n          \"SHAP only with Error\"\n        ],\n        \"semantic_type\": \"\",\n        \"description\": \"\"\n      }\n    },\n    {\n      \"column\": \"feature_set_name\",\n      \"properties\": {\n        \"dtype\": \"string\",\n        \"num_unique_values\": 18,\n        \"samples\": [\n          \"+REG +SEN  -err     -shap\",\n          \"+REG +SEN +ERR  -shap\",\n          \"-reg    +SEN  -err     +SHAP_S\"\n        ],\n        \"semantic_type\": \"\",\n        \"description\": \"\"\n      }\n    },\n    {\n      \"column\": \"feature_set\",\n      \"properties\": {\n        \"dtype\": \"object\",\n        \"semantic_type\": \"\",\n        \"description\": \"\"\n      }\n    }\n  ]\n}"
            }
          },
          "metadata": {},
          "execution_count": 15
        }
      ]
    },
    {
      "cell_type": "markdown",
      "source": [
        "#TNFP RESULTS"
      ],
      "metadata": {
        "id": "GSeOiRdSTuRm"
      }
    },
    {
      "cell_type": "code",
      "source": [
        "#TNFP_data.info()"
      ],
      "metadata": {
        "id": "WUfrSlGWMOen"
      },
      "execution_count": 16,
      "outputs": []
    },
    {
      "cell_type": "markdown",
      "source": [
        "## Execute experiments"
      ],
      "metadata": {
        "id": "DPFyVTgsPtc_"
      }
    },
    {
      "cell_type": "code",
      "source": [
        "# Set global seed\n",
        "seed_value = 42\n",
        "np.random.seed(seed_value)\n",
        "random.seed(seed_value)\n",
        "\n",
        "results = {'cond_name': [],\n",
        "           'cond_descr': [],\n",
        "           'cond_res': [],\n",
        "           'cond_recap': []}\n",
        "\n",
        "for i in range(0, len(exp_condition)):\n",
        "    # Pass seed to ensure reproducibility\n",
        "    res = hbac_kmeans(TNFP_data.copy(deep=True),\n",
        "                      columns_to_use=exp_condition['feature_set'][i],\n",
        "                      error='errors',\n",
        "                      min_splittable_cluster_prop=min_splittable_cluster_prop,\n",
        "                      min_acceptable_cluster_prop=min_acceptable_cluster_prop,\n",
        "                      min_acceptable_error_diff=min_acceptable_error_diff,\n",
        "                      max_iter=100,\n",
        "                      random_state=seed_value)  # Assuming hbac_kmeans accepts random_state\n",
        "\n",
        "    recap = make_recap(res, exp_condition['feature_set'][i])\n",
        "\n",
        "    results['cond_name'].append(exp_condition['feature_set_name'][i])\n",
        "    results['cond_descr'].append(exp_condition['feature_set_descr'][i])\n",
        "    results['cond_res'].append(res)\n",
        "    results['cond_recap'].append(recap)\n"
      ],
      "metadata": {
        "colab": {
          "base_uri": "https://localhost:8080/",
          "height": 1000
        },
        "id": "UjgafyONPtI9",
        "outputId": "73d3e036-6f42-47a4-eb03-fe09fa6e7fcf"
      },
      "execution_count": 17,
      "outputs": [
        {
          "output_type": "stream",
          "name": "stdout",
          "text": [
            "c_n_income: 0.0\n",
            "c_count: 392\n",
            "rest_n_income: 0.0\n",
            "rest_count: 5151\n",
            "c_n_income: 0.0\n",
            "c_count: 1676\n",
            "rest_n_income: 0.0\n",
            "rest_count: 3867\n",
            "c_n_income: 0.0\n",
            "c_count: 500\n",
            "rest_n_income: 0.0\n",
            "rest_count: 5043\n",
            "c_n_income: 0.0\n",
            "c_count: 308\n",
            "rest_n_income: 0.0\n",
            "rest_count: 5235\n",
            "c_n_income: 0.0\n",
            "c_count: 459\n",
            "rest_n_income: 0.0\n",
            "rest_count: 5084\n",
            "c_n_income: 0.0\n",
            "c_count: 395\n",
            "rest_n_income: 0.0\n",
            "rest_count: 5148\n",
            "c_n_income: 0.0\n",
            "c_count: 410\n",
            "rest_n_income: 0.0\n",
            "rest_count: 5133\n",
            "c_n_income: 0.0\n",
            "c_count: 496\n",
            "rest_n_income: 0.0\n",
            "rest_count: 5047\n",
            "c_n_income: 0.0\n",
            "c_count: 559\n",
            "rest_n_income: 0.0\n",
            "rest_count: 4984\n",
            "c_n_income: 0.0\n",
            "c_count: 348\n",
            "rest_n_income: 0.0\n",
            "rest_count: 5195\n"
          ]
        },
        {
          "output_type": "error",
          "ename": "ValueError",
          "evalue": "Length of values (2) does not match length of index (1)",
          "traceback": [
            "\u001b[0;31m---------------------------------------------------------------------------\u001b[0m",
            "\u001b[0;31mValueError\u001b[0m                                Traceback (most recent call last)",
            "\u001b[0;32m<ipython-input-17-0342b9818404>\u001b[0m in \u001b[0;36m<cell line: 0>\u001b[0;34m()\u001b[0m\n\u001b[1;32m     20\u001b[0m                       random_state=seed_value)  # Assuming hbac_kmeans accepts random_state\n\u001b[1;32m     21\u001b[0m \u001b[0;34m\u001b[0m\u001b[0m\n\u001b[0;32m---> 22\u001b[0;31m     \u001b[0mrecap\u001b[0m \u001b[0;34m=\u001b[0m \u001b[0mmake_recap\u001b[0m\u001b[0;34m(\u001b[0m\u001b[0mres\u001b[0m\u001b[0;34m,\u001b[0m \u001b[0mexp_condition\u001b[0m\u001b[0;34m[\u001b[0m\u001b[0;34m'feature_set'\u001b[0m\u001b[0;34m]\u001b[0m\u001b[0;34m[\u001b[0m\u001b[0mi\u001b[0m\u001b[0;34m]\u001b[0m\u001b[0;34m)\u001b[0m\u001b[0;34m\u001b[0m\u001b[0;34m\u001b[0m\u001b[0m\n\u001b[0m\u001b[1;32m     23\u001b[0m \u001b[0;34m\u001b[0m\u001b[0m\n\u001b[1;32m     24\u001b[0m     \u001b[0mresults\u001b[0m\u001b[0;34m[\u001b[0m\u001b[0;34m'cond_name'\u001b[0m\u001b[0;34m]\u001b[0m\u001b[0;34m.\u001b[0m\u001b[0mappend\u001b[0m\u001b[0;34m(\u001b[0m\u001b[0mexp_condition\u001b[0m\u001b[0;34m[\u001b[0m\u001b[0;34m'feature_set_name'\u001b[0m\u001b[0;34m]\u001b[0m\u001b[0;34m[\u001b[0m\u001b[0mi\u001b[0m\u001b[0;34m]\u001b[0m\u001b[0;34m)\u001b[0m\u001b[0;34m\u001b[0m\u001b[0;34m\u001b[0m\u001b[0m\n",
            "\u001b[0;32m<ipython-input-6-cc177f944384>\u001b[0m in \u001b[0;36mmake_recap\u001b[0;34m(data_result, feature_set)\u001b[0m\n\u001b[1;32m    138\u001b[0m \u001b[0;34m\u001b[0m\u001b[0m\n\u001b[1;32m    139\u001b[0m     \u001b[0;31m# Populate recap DataFrame with results\u001b[0m\u001b[0;34m\u001b[0m\u001b[0;34m\u001b[0m\u001b[0m\n\u001b[0;32m--> 140\u001b[0;31m     \u001b[0mrecap\u001b[0m\u001b[0;34m[\u001b[0m\u001b[0;34m'diff_vs_rest'\u001b[0m\u001b[0;34m]\u001b[0m \u001b[0;34m=\u001b[0m \u001b[0mnp\u001b[0m\u001b[0;34m.\u001b[0m\u001b[0maround\u001b[0m\u001b[0;34m(\u001b[0m\u001b[0mdiff_vs_rest\u001b[0m\u001b[0;34m,\u001b[0m \u001b[0;36m3\u001b[0m\u001b[0;34m)\u001b[0m\u001b[0;34m\u001b[0m\u001b[0;34m\u001b[0m\u001b[0m\n\u001b[0m\u001b[1;32m    141\u001b[0m     \u001b[0mrecap\u001b[0m\u001b[0;34m[\u001b[0m\u001b[0;34m'diff_p'\u001b[0m\u001b[0;34m]\u001b[0m \u001b[0;34m=\u001b[0m \u001b[0mdiff_p\u001b[0m\u001b[0;34m\u001b[0m\u001b[0;34m\u001b[0m\u001b[0m\n\u001b[1;32m    142\u001b[0m     \u001b[0mrecap\u001b[0m\u001b[0;34m[\u001b[0m\u001b[0;34m'age_prop'\u001b[0m\u001b[0;34m]\u001b[0m \u001b[0;34m=\u001b[0m \u001b[0mnp\u001b[0m\u001b[0;34m.\u001b[0m\u001b[0maround\u001b[0m\u001b[0;34m(\u001b[0m\u001b[0mage_prop\u001b[0m\u001b[0;34m,\u001b[0m \u001b[0;36m3\u001b[0m\u001b[0;34m)\u001b[0m\u001b[0;34m\u001b[0m\u001b[0;34m\u001b[0m\u001b[0m\n",
            "\u001b[0;32m/usr/local/lib/python3.11/dist-packages/pandas/core/frame.py\u001b[0m in \u001b[0;36m__setitem__\u001b[0;34m(self, key, value)\u001b[0m\n\u001b[1;32m   4309\u001b[0m         \u001b[0;32melse\u001b[0m\u001b[0;34m:\u001b[0m\u001b[0;34m\u001b[0m\u001b[0;34m\u001b[0m\u001b[0m\n\u001b[1;32m   4310\u001b[0m             \u001b[0;31m# set column\u001b[0m\u001b[0;34m\u001b[0m\u001b[0;34m\u001b[0m\u001b[0m\n\u001b[0;32m-> 4311\u001b[0;31m             \u001b[0mself\u001b[0m\u001b[0;34m.\u001b[0m\u001b[0m_set_item\u001b[0m\u001b[0;34m(\u001b[0m\u001b[0mkey\u001b[0m\u001b[0;34m,\u001b[0m \u001b[0mvalue\u001b[0m\u001b[0;34m)\u001b[0m\u001b[0;34m\u001b[0m\u001b[0;34m\u001b[0m\u001b[0m\n\u001b[0m\u001b[1;32m   4312\u001b[0m \u001b[0;34m\u001b[0m\u001b[0m\n\u001b[1;32m   4313\u001b[0m     \u001b[0;32mdef\u001b[0m \u001b[0m_setitem_slice\u001b[0m\u001b[0;34m(\u001b[0m\u001b[0mself\u001b[0m\u001b[0;34m,\u001b[0m \u001b[0mkey\u001b[0m\u001b[0;34m:\u001b[0m \u001b[0mslice\u001b[0m\u001b[0;34m,\u001b[0m \u001b[0mvalue\u001b[0m\u001b[0;34m)\u001b[0m \u001b[0;34m->\u001b[0m \u001b[0;32mNone\u001b[0m\u001b[0;34m:\u001b[0m\u001b[0;34m\u001b[0m\u001b[0;34m\u001b[0m\u001b[0m\n",
            "\u001b[0;32m/usr/local/lib/python3.11/dist-packages/pandas/core/frame.py\u001b[0m in \u001b[0;36m_set_item\u001b[0;34m(self, key, value)\u001b[0m\n\u001b[1;32m   4522\u001b[0m         \u001b[0mensure\u001b[0m \u001b[0mhomogeneity\u001b[0m\u001b[0;34m.\u001b[0m\u001b[0;34m\u001b[0m\u001b[0;34m\u001b[0m\u001b[0m\n\u001b[1;32m   4523\u001b[0m         \"\"\"\n\u001b[0;32m-> 4524\u001b[0;31m         \u001b[0mvalue\u001b[0m\u001b[0;34m,\u001b[0m \u001b[0mrefs\u001b[0m \u001b[0;34m=\u001b[0m \u001b[0mself\u001b[0m\u001b[0;34m.\u001b[0m\u001b[0m_sanitize_column\u001b[0m\u001b[0;34m(\u001b[0m\u001b[0mvalue\u001b[0m\u001b[0;34m)\u001b[0m\u001b[0;34m\u001b[0m\u001b[0;34m\u001b[0m\u001b[0m\n\u001b[0m\u001b[1;32m   4525\u001b[0m \u001b[0;34m\u001b[0m\u001b[0m\n\u001b[1;32m   4526\u001b[0m         if (\n",
            "\u001b[0;32m/usr/local/lib/python3.11/dist-packages/pandas/core/frame.py\u001b[0m in \u001b[0;36m_sanitize_column\u001b[0;34m(self, value)\u001b[0m\n\u001b[1;32m   5264\u001b[0m \u001b[0;34m\u001b[0m\u001b[0m\n\u001b[1;32m   5265\u001b[0m         \u001b[0;32mif\u001b[0m \u001b[0mis_list_like\u001b[0m\u001b[0;34m(\u001b[0m\u001b[0mvalue\u001b[0m\u001b[0;34m)\u001b[0m\u001b[0;34m:\u001b[0m\u001b[0;34m\u001b[0m\u001b[0;34m\u001b[0m\u001b[0m\n\u001b[0;32m-> 5266\u001b[0;31m             \u001b[0mcom\u001b[0m\u001b[0;34m.\u001b[0m\u001b[0mrequire_length_match\u001b[0m\u001b[0;34m(\u001b[0m\u001b[0mvalue\u001b[0m\u001b[0;34m,\u001b[0m \u001b[0mself\u001b[0m\u001b[0;34m.\u001b[0m\u001b[0mindex\u001b[0m\u001b[0;34m)\u001b[0m\u001b[0;34m\u001b[0m\u001b[0;34m\u001b[0m\u001b[0m\n\u001b[0m\u001b[1;32m   5267\u001b[0m         \u001b[0marr\u001b[0m \u001b[0;34m=\u001b[0m \u001b[0msanitize_array\u001b[0m\u001b[0;34m(\u001b[0m\u001b[0mvalue\u001b[0m\u001b[0;34m,\u001b[0m \u001b[0mself\u001b[0m\u001b[0;34m.\u001b[0m\u001b[0mindex\u001b[0m\u001b[0;34m,\u001b[0m \u001b[0mcopy\u001b[0m\u001b[0;34m=\u001b[0m\u001b[0;32mTrue\u001b[0m\u001b[0;34m,\u001b[0m \u001b[0mallow_2d\u001b[0m\u001b[0;34m=\u001b[0m\u001b[0;32mTrue\u001b[0m\u001b[0;34m)\u001b[0m\u001b[0;34m\u001b[0m\u001b[0;34m\u001b[0m\u001b[0m\n\u001b[1;32m   5268\u001b[0m         if (\n",
            "\u001b[0;32m/usr/local/lib/python3.11/dist-packages/pandas/core/common.py\u001b[0m in \u001b[0;36mrequire_length_match\u001b[0;34m(data, index)\u001b[0m\n\u001b[1;32m    571\u001b[0m     \"\"\"\n\u001b[1;32m    572\u001b[0m     \u001b[0;32mif\u001b[0m \u001b[0mlen\u001b[0m\u001b[0;34m(\u001b[0m\u001b[0mdata\u001b[0m\u001b[0;34m)\u001b[0m \u001b[0;34m!=\u001b[0m \u001b[0mlen\u001b[0m\u001b[0;34m(\u001b[0m\u001b[0mindex\u001b[0m\u001b[0;34m)\u001b[0m\u001b[0;34m:\u001b[0m\u001b[0;34m\u001b[0m\u001b[0;34m\u001b[0m\u001b[0m\n\u001b[0;32m--> 573\u001b[0;31m         raise ValueError(\n\u001b[0m\u001b[1;32m    574\u001b[0m             \u001b[0;34m\"Length of values \"\u001b[0m\u001b[0;34m\u001b[0m\u001b[0;34m\u001b[0m\u001b[0m\n\u001b[1;32m    575\u001b[0m             \u001b[0;34mf\"({len(data)}) \"\u001b[0m\u001b[0;34m\u001b[0m\u001b[0;34m\u001b[0m\u001b[0m\n",
            "\u001b[0;31mValueError\u001b[0m: Length of values (2) does not match length of index (1)"
          ]
        }
      ]
    },
    {
      "cell_type": "code",
      "source": [
        "# Count the number of missing values in each column\n",
        "missing_counts = TNFP_data.isnull().sum(axis=0)\n",
        "\n",
        "# Print the result\n",
        "print(missing_counts)"
      ],
      "metadata": {
        "id": "RgAS3ptFWf64"
      },
      "execution_count": null,
      "outputs": []
    },
    {
      "cell_type": "code",
      "source": [
        "#print(TNFP_data.columns)"
      ],
      "metadata": {
        "id": "8t2OOEkoYiWw"
      },
      "execution_count": null,
      "outputs": []
    },
    {
      "cell_type": "code",
      "source": [
        "print(DUMMY_scaled)"
      ],
      "metadata": {
        "id": "KPMqt02KXQG8"
      },
      "execution_count": null,
      "outputs": []
    },
    {
      "cell_type": "markdown",
      "source": [
        "### CHI-Square/ ANOVA Tests TNFP data"
      ],
      "metadata": {
        "id": "iW8gJmKLT6CM"
      }
    },
    {
      "cell_type": "code",
      "source": [
        "'''chi_res = make_chi_tests(results)\n",
        "chi_res_viz = chi_res.set_index('cond_name').drop('cond_descr', axis=1)\n",
        "chi_res_viz = round(chi_res_viz, 6)\n",
        "chi_res_viz'''"
      ],
      "metadata": {
        "id": "XsYyy1jnT5dP"
      },
      "execution_count": null,
      "outputs": []
    },
    {
      "cell_type": "code",
      "source": [
        "anova_res = make_anova_tests(results)\n",
        "anova_res_viz = anova_res.set_index('cond_name').drop('cond_descr', axis=1)\n",
        "anova_res_viz = round(anova_res_viz, 6)\n",
        "anova_res_viz"
      ],
      "metadata": {
        "id": "cjNRtOGpe6nR"
      },
      "execution_count": null,
      "outputs": []
    },
    {
      "cell_type": "code",
      "source": [
        "plt.figure(figsize=(10,6))\n",
        "ax = sns.heatmap(#chi_res_viz,\n",
        "                 anova_res_viz,annot=True, center=0,\n",
        "                cmap=sns.color_palette(\"vlag\", as_cmap=True), robust=False)\n",
        "ax.xaxis.tick_top()\n",
        "plt.yticks(rotation='horizontal')\n",
        "plt.show()"
      ],
      "metadata": {
        "id": "flLG1XfjUAz1"
      },
      "execution_count": null,
      "outputs": []
    },
    {
      "cell_type": "markdown",
      "source": [
        "### ALL quality metrics TNFP data"
      ],
      "metadata": {
        "id": "rP8_6QDHUHgt"
      }
    },
    {
      "cell_type": "code",
      "source": [
        "all_quali = recap_quali_metrics(#chi_res,\n",
        "                                anova_res, results, exp_condition)\n",
        "all_quali_viz = all_quali.set_index('cond_name').drop('cond_descr', axis=1)\n",
        "all_quali_viz = round(all_quali_viz, 6)\n",
        "# all_quali_viz"
      ],
      "metadata": {
        "id": "efxep25xUDZM"
      },
      "execution_count": null,
      "outputs": []
    },
    {
      "cell_type": "code",
      "source": [
        "plt.figure(figsize=(4,4))\n",
        "ax = sns.heatmap(all_quali_viz, annot=True, center=0, cbar=False,\n",
        "                cmap=sns.color_palette(\"vlag\", as_cmap=True), robust=True)\n",
        "ax.set(xlabel=\"\", ylabel=\"\")\n",
        "ax.xaxis.tick_top()\n",
        "ax.tick_params(axis='x', which='major', length=0)\n",
        "ax.tick_params(axis='y', which='major', pad=150, length=0)\n",
        "plt.yticks(ha='left')\n",
        "plt.savefig('TNFP_Kmeans_BAF.png', bbox_inches='tight', pad_inches=0)\n",
        "files.download('TNFP_Kmeans_BAF.png')\n",
        "plt.show()\n"
      ],
      "metadata": {
        "id": "0ul4KVDEUFDt"
      },
      "execution_count": null,
      "outputs": []
    },
    {
      "cell_type": "markdown",
      "source": [
        "# Detailed TNFP results"
      ],
      "metadata": {
        "id": "Em40SmMGUO-n"
      }
    },
    {
      "cell_type": "markdown",
      "source": [
        "### One-vs-All cluster comparison TNFP data"
      ],
      "metadata": {
        "id": "c5PT0mM7UV5G"
      }
    },
    {
      "cell_type": "code",
      "source": [
        "for i in range(0, len(exp_condition)):\n",
        "  print(i)\n",
        "  recap = results['cond_recap'][i].sort_values(by=['diff_vs_rest'], ascending=False)\n",
        "  recap['count'] = recap['count']/recap['count'].sum()\n",
        "  recap = recap.rename(columns={\"count\": \"size_prop\"})\n",
        "  recap = recap.drop(['n_error','c'], axis=1)\n",
        "\n",
        "  plt.figure(figsize=(10,4))\n",
        "  ax = sns.heatmap(recap, annot=True, center=0, cbar=False,\n",
        "                   cmap=sns.color_palette(\"vlag\", as_cmap=True), robust=True)\n",
        "  ax.set_title(re.sub(' +', ' ', results['cond_name'][i]))\n",
        "  ax.xaxis.tick_top()\n",
        "  ax.set(xlabel=\"\", ylabel=\"\")\n",
        "  ax.tick_params(axis='x', which='major', length=0)\n",
        "  ax.tick_params(axis='y', which='major', length=0)\n",
        "  ax.set_xticklabels(ax.get_xticklabels(), rotation=45, ha='left', rotation_mode='anchor')\n",
        "  plt.yticks(rotation='horizontal')\n",
        "  plt.savefig('TNFP_Kmeans_'+re.sub(' +', '', results['cond_name'][i])+'.png', bbox_inches='tight', pad_inches=0)\n",
        "  plt.show()"
      ],
      "metadata": {
        "id": "LMexenbIURp-"
      },
      "execution_count": null,
      "outputs": []
    },
    {
      "cell_type": "markdown",
      "source": [
        "t-SNE TNFP data"
      ],
      "metadata": {
        "id": "BlX-YOScUdpg"
      }
    },
    {
      "cell_type": "code",
      "source": [
        "'''for i in range(0, len(exp_condition)):\n",
        "  plt.figure(figsize=(10,7))\n",
        "  tsne_plot_wClusters(results['cond_res'][i], title = re.sub(' +', ' ', results['cond_name'][i]),\n",
        "                      alpha = 0.7, size = 50,\n",
        "          tsne_columns = REG_scaled + DUMMY_scaled + SHAP_REG_scaled + SHAP_DUMMY_scaled,\n",
        "          perplexity = 30, learning_rate = 200, n_iter = 250, fig_prefix='TNFP_Kmeans_tSNE_')'''"
      ],
      "metadata": {
        "id": "LPsn3n-zUf5f"
      },
      "execution_count": null,
      "outputs": []
    },
    {
      "cell_type": "markdown",
      "source": [
        "# TPFN RESULTS"
      ],
      "metadata": {
        "id": "e1hRSai_Utwn"
      }
    },
    {
      "cell_type": "code",
      "source": [
        "# Set global seed\n",
        "seed_value = 42\n",
        "np.random.seed(seed_value)\n",
        "random.seed(seed_value)\n",
        "\n",
        "results = {'cond_name': [],\n",
        "           'cond_descr': [],\n",
        "           'cond_res': [],\n",
        "           'cond_recap': []}\n",
        "\n",
        "for i in range(0, len(exp_condition)):\n",
        "    # Pass seed to ensure reproducibility\n",
        "    res = hbac_kmeans(TPFN_data.copy(deep=True),\n",
        "                      columns_to_use=exp_condition['feature_set'][i],\n",
        "                      error='errors',\n",
        "                      min_splittable_cluster_prop=min_splittable_cluster_prop,\n",
        "                      min_acceptable_cluster_prop=min_acceptable_cluster_prop,\n",
        "                      min_acceptable_error_diff=min_acceptable_error_diff,\n",
        "                      max_iter=100,\n",
        "                      random_state=seed_value)  # Assuming hbac_kmeans accepts random_state\n",
        "\n",
        "    recap = make_recap(res, exp_condition['feature_set'][i])\n",
        "\n",
        "    results['cond_name'].append(exp_condition['feature_set_name'][i])\n",
        "    results['cond_descr'].append(exp_condition['feature_set_descr'][i])\n",
        "    results['cond_res'].append(res)\n",
        "    results['cond_recap'].append(recap)"
      ],
      "metadata": {
        "id": "YrNXbYvTp09x"
      },
      "execution_count": null,
      "outputs": []
    },
    {
      "cell_type": "markdown",
      "source": [
        "Anova"
      ],
      "metadata": {
        "id": "vzwk5wh9qbnu"
      }
    },
    {
      "cell_type": "code",
      "source": [
        "anova_res = make_anova_tests(results)\n",
        "anova_res_viz = anova_res.set_index('cond_name').drop('cond_descr', axis=1)\n",
        "anova_res_viz = round(anova_res_viz, 6)\n",
        "anova_res_viz"
      ],
      "metadata": {
        "id": "RzRy_Ibsqat7"
      },
      "execution_count": null,
      "outputs": []
    },
    {
      "cell_type": "code",
      "source": [
        "plt.figure(figsize=(10,6))\n",
        "ax = sns.heatmap(#chi_res_viz,\n",
        "                 anova_res_viz,annot=True, center=0,\n",
        "                cmap=sns.color_palette(\"vlag\", as_cmap=True), robust=False)\n",
        "ax.xaxis.tick_top()\n",
        "plt.yticks(rotation='horizontal')\n",
        "plt.show()"
      ],
      "metadata": {
        "id": "FpgIo2e6qrqr"
      },
      "execution_count": null,
      "outputs": []
    },
    {
      "cell_type": "markdown",
      "source": [
        "## All quality metrics TPFN data"
      ],
      "metadata": {
        "id": "tPrfY61pq1O5"
      }
    },
    {
      "cell_type": "code",
      "source": [
        "anova_res = make_anova_tests(results)\n",
        "anova_res_viz = anova_res.set_index('cond_name').drop('cond_descr', axis=1)\n",
        "anova_res_viz = round(anova_res_viz, 6)\n",
        "anova_res_viz\n",
        "\n",
        "all_quali = recap_quali_metrics(#chi_res,\n",
        "                                anova_res, results, exp_condition)\n",
        "all_quali_viz = all_quali.set_index('cond_name').drop('cond_descr', axis=1)\n",
        "all_quali_viz = round(all_quali_viz, 6)\n",
        "# all_quali_viz\n",
        "plt.figure(figsize=(4,4))\n",
        "ax = sns.heatmap(all_quali_viz, annot=True, center=0, cbar=False,\n",
        "                cmap=sns.color_palette(\"vlag\", as_cmap=True), robust=True)\n",
        "ax.set(xlabel=\"\", ylabel=\"\")\n",
        "ax.xaxis.tick_top()\n",
        "ax.tick_params(axis='x', which='major', length=0)\n",
        "ax.tick_params(axis='y', which='major', pad=150, length=0)\n",
        "plt.yticks(ha='left')\n",
        "plt.savefig('TPFN_Kmeans_BAF.png', bbox_inches='tight', pad_inches=0)\n",
        "files.download('TPFN_Kmeans_BAF.png')\n",
        "plt.show()\n"
      ],
      "metadata": {
        "id": "gKeLjUhXquO1"
      },
      "execution_count": null,
      "outputs": []
    },
    {
      "cell_type": "markdown",
      "source": [],
      "metadata": {
        "id": "Bp5x6NSWpikA"
      }
    }
  ]
}