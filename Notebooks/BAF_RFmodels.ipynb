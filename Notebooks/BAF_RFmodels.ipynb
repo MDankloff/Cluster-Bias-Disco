{
  "nbformat": 4,
  "nbformat_minor": 0,
  "metadata": {
    "colab": {
      "provenance": [],
      "authorship_tag": "ABX9TyMc52Jwo4ywLVDm0iac7GYv",
      "include_colab_link": true
    },
    "kernelspec": {
      "name": "python3",
      "display_name": "Python 3"
    },
    "language_info": {
      "name": "python"
    }
  },
  "cells": [
    {
      "cell_type": "markdown",
      "metadata": {
        "id": "view-in-github",
        "colab_type": "text"
      },
      "source": [
        "<a href=\"https://colab.research.google.com/github/MDankloff/Cluster-Bias-Disco/blob/main/BAF_RFmodels.ipynb\" target=\"_parent\"><img src=\"https://colab.research.google.com/assets/colab-badge.svg\" alt=\"Open In Colab\"/></a>"
      ]
    },
    {
      "cell_type": "markdown",
      "source": [
        "# Libraries"
      ],
      "metadata": {
        "id": "56rsBm-HsJ2v"
      }
    },
    {
      "cell_type": "code",
      "source": [
        "!pip install google-colab\n",
        "!pip install dask[dataframe]\n",
        "!pip install pyarrow\n",
        "!pip install aequitas\n",
        "!pip install optuna"
      ],
      "metadata": {
        "collapsed": true,
        "id": "i1p4IrsrrsAG"
      },
      "execution_count": null,
      "outputs": []
    },
    {
      "cell_type": "code",
      "execution_count": 9,
      "metadata": {
        "colab": {
          "base_uri": "https://localhost:8080/"
        },
        "id": "vN_5zzQWrQ4D",
        "outputId": "1b8bbf3d-4058-42ee-a553-7a5e841b8011"
      },
      "outputs": [
        {
          "output_type": "stream",
          "name": "stdout",
          "text": [
            "Drive already mounted at /content/drive; to attempt to forcibly remount, call drive.mount(\"/content/drive\", force_remount=True).\n",
            "fatal: destination path 'bank-account-fraud' already exists and is not an empty directory.\n"
          ]
        }
      ],
      "source": [
        "from google.colab import drive\n",
        "drive.mount('/content/drive')\n",
        "\n",
        "!git clone https://github.com/feedzai/bank-account-fraud.git"
      ]
    },
    {
      "cell_type": "code",
      "source": [
        "import pandas as pd\n",
        "import numpy as np\n",
        "import matplotlib.pyplot as plt\n",
        "import seaborn as sns\n",
        "import lightgbm as lgbm\n",
        "import yaml              # Read hyperparameter space configuration\n",
        "import glob\n",
        "import os\n",
        "import logging\n",
        "import sys\n",
        "import joblib\n",
        "\n",
        "from sklearn.metrics import accuracy_score, confusion_matrix, ConfusionMatrixDisplay, roc_auc_score, roc_curve, f1_score\n",
        "from sklearn.decomposition import PCA\n",
        "from sklearn.preprocessing import StandardScaler, LabelEncoder # Categorical encoding for LGBM models\n",
        "from sklearn.model_selection import train_test_split\n",
        "from sklearn.ensemble import RandomForestClassifier\n",
        "from sklearn import preprocessing\n",
        "from sklearn import metrics\n",
        "from aequitas.group import Group    # Fairness metrics\n",
        "from lightgbm import LGBMClassifier"
      ],
      "metadata": {
        "id": "mvlMKSgYrngm"
      },
      "execution_count": 10,
      "outputs": []
    },
    {
      "cell_type": "markdown",
      "source": [
        "# Load Data"
      ],
      "metadata": {
        "id": "HyvZgmmDsUEY"
      }
    },
    {
      "cell_type": "code",
      "source": [
        "base_path = '/content/drive/MyDrive/Mirthe_Supervision /Paper#3/BAF/parquet data'\n",
        "\n",
        "extension = \"parquet\" #for smaller \"parquet\" depending on the downloaded file\n",
        "data_paths = glob.glob(f\"{base_path}/*.{extension}\")\n",
        "\n",
        "def read_dataset(path, ext = extension):\n",
        "    if ext == \"csv\":\n",
        "      return pd.read_csv(path)\n",
        "    elif ext == \"parquet\":\n",
        "      return pd.read_parquet(path)\n",
        "    else:\n",
        "      raise ValueError(f\"Unsupported file extension: {ext}\")\n",
        "\n",
        "# Extract variant name from the file path (without the extension)\n",
        "def get_variant(path):\n",
        "    return os.path.basename(path).split(\".\")[0]\n",
        "\n",
        "# Dictionary comprehension to read all CSV files into a dictionary of DataFrames\n",
        "dataframes = {\n",
        "    get_variant(path): read_dataset(path) for path in data_paths\n",
        "}\n",
        "print(f\"Loaded datasets: {list(dataframes.keys())}\")\n",
        "\n",
        "datasets_paths = {\n",
        "    \"Base\": base_path + \"/Base.parquet\", # sampled to best represent original dataset\n",
        "    \"Variant I\": base_path + \"/Variant I.parquet\", # higher group size disparity than base - reducing the size of the minority group from approx 20 - 10% of the dataset\n",
        "    \"Variant II\": base_path + \"/Variant II.parquet\", # higher prevalence disparity than base - one group has 5 x the fraud detection rate of the other while group sizes are equal\n",
        "    \"Variant III\": base_path + \"/Variant III.parquet\", # better separability for one of the groups -\n",
        "    \"Variant IV\": base_path + \"/Variant IV.parquet\", # higher prevalence disparity in train\n",
        "    \"Variant V\": base_path + \"/Variant V.parquet\", # better separability in train for one of the groups\n",
        "}"
      ],
      "metadata": {
        "colab": {
          "base_uri": "https://localhost:8080/"
        },
        "id": "dVKt5oD2sIsG",
        "outputId": "955fffc7-7b4c-4e45-a686-78e69e9663d2"
      },
      "execution_count": 12,
      "outputs": [
        {
          "output_type": "stream",
          "name": "stdout",
          "text": [
            "Loaded datasets: ['Base', 'Variant I', 'Variant II', 'Variant III', 'Variant IV', 'Variant V']\n"
          ]
        }
      ]
    },
    {
      "cell_type": "code",
      "source": [
        "datasets = {key: read_dataset(path) for key, path in datasets_paths.items()}"
      ],
      "metadata": {
        "id": "U2bnLzLis1y6"
      },
      "execution_count": 13,
      "outputs": []
    },
    {
      "cell_type": "markdown",
      "source": [
        "# Train RF Models"
      ],
      "metadata": {
        "id": "wnuGEnT9tNok"
      }
    },
    {
      "cell_type": "code",
      "source": [
        "# Define the label field and categorical columns.\n",
        "label = \"fraud_bool\"\n",
        "\n",
        "categorical_features = [\n",
        "    \"payment_type\",\n",
        "    \"employment_status\",\n",
        "    \"housing_status\",\n",
        "    \"source\",\n",
        "    \"device_os\",\n",
        "]"
      ],
      "metadata": {
        "id": "3RZoTShpwobB"
      },
      "execution_count": 19,
      "outputs": []
    },
    {
      "cell_type": "code",
      "source": [
        "# Create the train and test sets. Shuffle data with `sample` method.\n",
        "# The split was done by month. The first 6 months as the train, the last 2 months as test.\n",
        "train_dfs = {key: df[df[\"month\"]<6].sample(frac=1, replace=False) for key, df in datasets.items()}\n",
        "test_dfs = {key: df[df[\"month\"]>=6].sample(frac=1, replace=False) for key, df in datasets.items()}"
      ],
      "metadata": {
        "id": "2qFw_dqnwQ4i"
      },
      "execution_count": 20,
      "outputs": []
    },
    {
      "cell_type": "code",
      "source": [
        "# Encode the categorical variables in the datasets to integers.\n",
        "# This is expected by LGBM (or columns with the `categorical` data type).\n",
        "\n",
        "for name in datasets.keys():  # For each dataset in the suite\n",
        "    train = train_dfs[name]\n",
        "    test = test_dfs[name]\n",
        "\n",
        "    for feat in categorical_features:\n",
        "        encoder = LabelEncoder()\n",
        "        encoder.fit(train[feat])  # Fit an encoder to the train set.\n",
        "        train[feat] = encoder.transform(train[feat])  # Transform train set.\n",
        "        test[feat] = encoder.transform(test[feat])    # Transform test set."
      ],
      "metadata": {
        "id": "WzYYD4I3wgxM"
      },
      "execution_count": 21,
      "outputs": []
    },
    {
      "cell_type": "code",
      "source": [
        "# Define path to save the models\n",
        "rfmodels_path = \"saved_rfmodels\"\n",
        "if not os.path.exists(rfmodels_path):\n",
        "    os.makedirs(rfmodels_path)\n",
        "\n",
        "# initialize dictionary to store the results\n",
        "runs = {}\n",
        "\n",
        "# iterate through each dataset to train an RF model\n",
        "for dataset_name in datasets.keys():\n",
        "  # create and fit the model\n",
        "  model = RandomForestClassifier(random_state = 42, n_jobs=-1)\n",
        "  X_train = train_dfs[dataset_name].drop(columns=[\"fraud_bool\"])\n",
        "  y_train = train_dfs[dataset_name][\"fraud_bool\"]\n",
        "  X_test = test_dfs[dataset_name].drop(columns=[\"fraud_bool\"])\n",
        "  y_test = test_dfs[dataset_name][\"fraud_bool\"]\n",
        "\n",
        "# Fit model to training data\n",
        "  model.fit(X_train, y_train) # , categorical_feature=categorical_features)\n",
        "\n",
        "# save the model to training data\n",
        "  model_filename= os.path.join(rfmodels_path, f\"{dataset_name}_rf_model.pkl\")\n",
        "  joblib.dump(model, model_filename)\n",
        "\n",
        "# predict\n",
        "  predictions = model.predict_proba(X_test)[:, 1]\n",
        "  fprs, tprs, thresholds = roc_curve(y_test, predictions)\n",
        "  threshold = np.min(thresholds[fprs == max(fprs[fprs < 0.05])])\n",
        "  recall = np.max(tprs[fprs == max(fprs[fprs < 0.05])])\n",
        "\n",
        "# Binarize predictions for Aequitas\n",
        "  preds_binary = (predictions > threshold).astype(int)\n",
        "\n",
        "# Create a dataframe for evaluation\n",
        "  aequitas_df = pd.DataFrame(\n",
        "      {\n",
        "          \"age\": (X_test[\"customer_age\"] >= 50).map({True: \"Older\", False: \"Younger\"}),\n",
        "          \"preds\": preds_binary,\n",
        "          \"y\": y_test.values\n",
        "      }\n",
        "  )\n",
        "\n",
        "  # Aequitas evaluation\n",
        "  g = Group()\n",
        "  aequitas_results = g.get_crosstabs(aequitas_df, attr_cols=[\"age\"], score_col=\"preds\", label_col=\"y\")[0]\n",
        "\n",
        "  # Compute F1 score\n",
        "  f1 = f1_score(y_test, preds_binary)\n",
        "\n",
        "  # Store results in a dictionary\n",
        "  results = {}\n",
        "  results[\"recall\"] = recall\n",
        "  results[\"recall Older\"] = aequitas_results[aequitas_results[\"attribute_value\"] == \"Older\"][[\"tpr\"]].values[0][0]\n",
        "  results[\"recall Younger\"] = aequitas_results[aequitas_results[\"attribute_value\"] == \"Younger\"][[\"tpr\"]].values[0][0]\n",
        "  results[\"fpr Older\"] = aequitas_results[aequitas_results[\"attribute_value\"] == \"Older\"][[\"fpr\"]].values[0][0]\n",
        "  results[\"fpr Younger\"] = aequitas_results[aequitas_results[\"attribute_value\"] == \"Younger\"][[\"fpr\"]].values[0][0]\n",
        "  results['f1'] = f1\n",
        "\n",
        "  # Save the metrics in the runs dictionary\n",
        "  prev_runs = runs.get(dataset_name, [])\n",
        "  prev_runs.append(results)\n",
        "  runs[dataset_name] = prev_runs\n"
      ],
      "metadata": {
        "id": "H_uXeO2uyC1-"
      },
      "execution_count": 24,
      "outputs": []
    },
    {
      "cell_type": "code",
      "source": [
        "# Create a dataframe with the results for each model in each dataset.\n",
        "rs_results = pd.DataFrame(runs)\n",
        "#rs_results.info()"
      ],
      "metadata": {
        "colab": {
          "base_uri": "https://localhost:8080/"
        },
        "id": "XIDbbjEtAAHI",
        "outputId": "738a0bd9-6533-4577-c9d6-016db3edd6d9"
      },
      "execution_count": 25,
      "outputs": [
        {
          "output_type": "stream",
          "name": "stdout",
          "text": [
            "<class 'pandas.core.frame.DataFrame'>\n",
            "RangeIndex: 1 entries, 0 to 0\n",
            "Data columns (total 6 columns):\n",
            " #   Column       Non-Null Count  Dtype \n",
            "---  ------       --------------  ----- \n",
            " 0   Base         1 non-null      object\n",
            " 1   Variant I    1 non-null      object\n",
            " 2   Variant II   1 non-null      object\n",
            " 3   Variant III  1 non-null      object\n",
            " 4   Variant IV   1 non-null      object\n",
            " 5   Variant V    1 non-null      object\n",
            "dtypes: object(6)\n",
            "memory usage: 176.0+ bytes\n"
          ]
        }
      ]
    },
    {
      "cell_type": "code",
      "source": [
        "# Helper method to obtain the metric values for a given model.\n",
        "def get_results(results, variant, metric):\n",
        "    col = results[variant]\n",
        "    values = []\n",
        "    for idx, val in col.items():#iteritems():\n",
        "        values.append(val[metric])\n",
        "    return values"
      ],
      "metadata": {
        "id": "4tgGfvzYAYxJ"
      },
      "execution_count": 26,
      "outputs": []
    },
    {
      "cell_type": "code",
      "source": [
        "# Obtain the relevant metrics to plots from the dataframe.\n",
        "variants = list(datasets_paths.keys())\n",
        "\n",
        "plot_results = {\"Variant\": [], \"Recall\": [], \"FPR Ratio\": []}\n",
        "\n",
        "for variant in variants:\n",
        "    plot_results[\"Recall\"] += get_results(rs_results, variant, \"recall\")\n",
        "    # Obtain the FPR if both groups.\n",
        "    for fpr_younger, fpr_older in zip(get_results(rs_results, variant, \"fpr Younger\"), get_results(rs_results, variant, \"fpr Older\")):\n",
        "        # Calculate FPR ratio as higher fpr / lower fpr\n",
        "        if fpr_younger > fpr_older:\n",
        "            plot_results[\"FPR Ratio\"] += [fpr_older/fpr_younger]\n",
        "        else:\n",
        "            plot_results[\"FPR Ratio\"] += [fpr_younger/fpr_older]\n",
        "    plot_results[\"Variant\"] += [variant] * len(get_results(rs_results, variant, \"recall\"))\n",
        "\n",
        "# Create a dataframe for easier plots.\n",
        "plot_results = pd.DataFrame(plot_results)"
      ],
      "metadata": {
        "id": "z7Q5LOyKAdUf"
      },
      "execution_count": 27,
      "outputs": []
    },
    {
      "cell_type": "code",
      "source": [
        "# Create a plot with the full results of the random search algorithm.\n",
        "sns.set()\n",
        "sns.set_style(\"whitegrid\", {\"grid.linestyle\": \"--\"})\n",
        "\n",
        "sns.jointplot(data=plot_results, x=\"Recall\", y=\"FPR Ratio\", hue=\"Variant\")\n",
        "plt.ylim((0,1));"
      ],
      "metadata": {
        "colab": {
          "base_uri": "https://localhost:8080/",
          "height": 601
        },
        "id": "cRF9rtkHAhdn",
        "outputId": "27fbbe1d-9980-47d0-9935-a16496aae11f"
      },
      "execution_count": 28,
      "outputs": [
        {
          "output_type": "display_data",
          "data": {
            "text/plain": [
              "<Figure size 600x600 with 3 Axes>"
            ],
            "image/png": "[encoded data removed]"
          },
          "metadata": {}
        }
      ]
    },
    {
      "cell_type": "code",
      "source": [
        "# Extract F1 scores for each variant\n",
        "def get_f1_scores(results, variant):\n",
        "    return [trial[\"f1\"] for trial in results[variant]]\n",
        "\n",
        "# Prepare a summary dataframe\n",
        "f1_summary = {\n",
        "    \"Variant\": [],\n",
        "    \"Trial\": [],\n",
        "    \"F1 Score\": [],\n",
        "}\n",
        "\n",
        "for variant in datasets.keys():\n",
        "    f1_scores = get_f1_scores(runs, variant)\n",
        "    for trial_idx, f1 in enumerate(f1_scores):\n",
        "        f1_summary[\"Variant\"].append(variant)\n",
        "        f1_summary[\"Trial\"].append(trial_idx)\n",
        "        f1_summary[\"F1 Score\"].append(f1)\n",
        "\n",
        "f1_summary_df = pd.DataFrame(f1_summary)"
      ],
      "metadata": {
        "id": "uHXRUzUEAyL8"
      },
      "execution_count": 29,
      "outputs": []
    },
    {
      "cell_type": "code",
      "source": [
        "# Get the top models based on F1 score\n",
        "top_f1_models = f1_summary_df.sort_values(\"F1 Score\", ascending=False).groupby(\"Variant\").head(1)\n",
        "print(top_f1_models)"
      ],
      "metadata": {
        "colab": {
          "base_uri": "https://localhost:8080/"
        },
        "id": "TIbuLp2pA09W",
        "outputId": "240371ab-f89c-4a35-836b-09c67bf30f7f"
      },
      "execution_count": 30,
      "outputs": [
        {
          "output_type": "stream",
          "name": "stdout",
          "text": [
            "       Variant  Trial  F1 Score\n",
            "3  Variant III      0  0.260601\n",
            "2   Variant II      0  0.201824\n",
            "0         Base      0  0.199951\n",
            "1    Variant I      0  0.188857\n",
            "4   Variant IV      0  0.133375\n",
            "5    Variant V      0  0.120753\n"
          ]
        }
      ]
    },
    {
      "cell_type": "code",
      "source": [
        "import joblib\n",
        "\n",
        "modelbase_path = '/content/saved_rfmodels/Variant III_rf_model.pkl'\n",
        "modelb = joblib.load(modelbase_path)\n",
        "\n",
        "feature_importances = modelb.feature_importances_\n",
        "print(\"Feature Importances:\", feature_importances)"
      ],
      "metadata": {
        "colab": {
          "base_uri": "https://localhost:8080/"
        },
        "id": "1dI9R8SWBP82",
        "outputId": "18d668a2-0cff-449e-e37d-34f6d60d6668"
      },
      "execution_count": 32,
      "outputs": [
        {
          "output_type": "stream",
          "name": "stdout",
          "text": [
            "Feature Importances: [0.01766892 0.04895816 0.00579901 0.03859424 0.03561972 0.04451407\n",
            " 0.04219304 0.0095442  0.04294734 0.04189732 0.04150965 0.04358138\n",
            " 0.02818694 0.02763593 0.0093551  0.04522024 0.00644218 0.01527744\n",
            " 0.00823555 0.00520568 0.01938572 0.00454443 0.01852382 0.00332037\n",
            " 0.0011004  0.04334526 0.01152941 0.0058634  0.00685135 0.\n",
            " 0.01551397 0.15455831 0.15707747]\n"
          ]
        }
      ]
    },
    {
      "source": [
        "# Load the model\n",
        "modelb = joblib.load(modelbase_path)\n",
        "\n",
        "# Assuming train_dfs and test_dfs are already loaded as described in your example\n",
        "\n",
        "# Get the dataset name (make sure it's available in your dataset context)\n",
        "dataset_name = \"Variant III\"  # Replace with the actual dataset name used during training\n",
        "\n",
        "# Prepare test data\n",
        "X_test = test_dfs[dataset_name].drop(columns=[\"fraud_bool\"])\n",
        "y_test = test_dfs[dataset_name][\"fraud_bool\"]\n",
        "\n",
        "# Predict with the loaded model\n",
        "y_pred = modelb.predict(X_test)\n",
        "y_prob = modelb.predict_proba(X_test)[:, 1]  # Get probabilities for ROC AUC (for class 1)\n",
        "\n",
        "# Calculate and print error metrics\n",
        "accuracy = accuracy_score(y_test, y_pred)\n",
        "# Import precision_recall_fscore_support directly\n",
        "from sklearn.metrics import precision_recall_fscore_support\n",
        "precision, recall, f1, _ = precision_recall_fscore_support(y_test, y_pred, average='binary')\n",
        "conf_matrix = confusion_matrix(y_test, y_pred)\n",
        "roc_auc = roc_auc_score(y_test, y_prob)\n",
        "\n",
        "# Print the results\n",
        "print(f\"Accuracy: {accuracy:.4f}\")\n",
        "print(f\"Precision: {precision:.4f}\")\n",
        "print(f\"Recall: {recall:.4f}\")\n",
        "print(f\"F1-Score: {f1:.4f}\")\n",
        "print(f\"ROC AUC: {roc_auc:.4f}\")\n",
        "\n",
        "# Print Confusion Matrix\n",
        "print(\"Confusion Matrix:\")\n",
        "print(conf_matrix)\n",
        "\n",
        "# Plot Confusion Matrix\n",
        "plt.figure(figsize=(6, 6))\n",
        "sns.heatmap(conf_matrix, annot=True, fmt=\"d\", cmap=\"Blues\", xticklabels=[\"Non-Fraud\", \"Fraud\"], yticklabels=[\"Non-Fraud\", \"Fraud\"])\n",
        "plt.xlabel('Predicted')\n",
        "plt.ylabel('True')\n",
        "plt.title('Confusion Matrix')\n",
        "plt.show()"
      ],
      "cell_type": "code",
      "metadata": {
        "colab": {
          "base_uri": "https://localhost:8080/",
          "height": 720
        },
        "id": "LpFEPXTCBq9j",
        "outputId": "57b29379-024b-42d2-8d1e-406410b2c980"
      },
      "execution_count": 34,
      "outputs": [
        {
          "output_type": "stream",
          "name": "stdout",
          "text": [
            "Accuracy: 0.9917\n",
            "Precision: 0.9540\n",
            "Recall: 0.2579\n",
            "F1-Score: 0.4061\n",
            "ROC AUC: 0.9075\n",
            "Confusion Matrix:\n",
            "[[238987     33]\n",
            " [  1968    684]]\n"
          ]
        },
        {
          "output_type": "display_data",
          "data": {
            "text/plain": [
              "<Figure size 600x600 with 2 Axes>"
            ],
            "image/png": "[encoded data removed]"
          },
          "metadata": {}
        }
      ]
    },
    {
      "cell_type": "markdown",
      "source": [
        "# Exploring class imbalance"
      ],
      "metadata": {
        "id": "znmEdh4uDfSL"
      }
    },
    {
      "cell_type": "code",
      "source": [
        "Variant3 = datasets['Variant III']\n",
        "print(Variant3.columns)"
      ],
      "metadata": {
        "colab": {
          "base_uri": "https://localhost:8080/"
        },
        "id": "vQecccIZDKTX",
        "outputId": "a057f527-eb1c-459f-c864-949a59955766"
      },
      "execution_count": 37,
      "outputs": [
        {
          "output_type": "stream",
          "name": "stdout",
          "text": [
            "Index(['fraud_bool', 'income', 'name_email_similarity',\n",
            "       'prev_address_months_count', 'current_address_months_count',\n",
            "       'customer_age', 'days_since_request', 'intended_balcon_amount',\n",
            "       'payment_type', 'zip_count_4w', 'velocity_6h', 'velocity_24h',\n",
            "       'velocity_4w', 'bank_branch_count_8w',\n",
            "       'date_of_birth_distinct_emails_4w', 'employment_status',\n",
            "       'credit_risk_score', 'email_is_free', 'housing_status',\n",
            "       'phone_home_valid', 'phone_mobile_valid', 'bank_months_count',\n",
            "       'has_other_cards', 'proposed_credit_limit', 'foreign_request', 'source',\n",
            "       'session_length_in_minutes', 'device_os', 'keep_alive_session',\n",
            "       'device_distinct_emails_8w', 'device_fraud_count', 'month', 'x1', 'x2'],\n",
            "      dtype='object')\n"
          ]
        }
      ]
    },
    {
      "cell_type": "code",
      "source": [
        "Variant3['customer_age'].value_counts()"
      ],
      "metadata": {
        "colab": {
          "base_uri": "https://localhost:8080/",
          "height": 398
        },
        "id": "6-MzXiu8EEfx",
        "outputId": "9b1e8316-1f6e-4adb-8e2f-cd3caf6d9547"
      },
      "execution_count": 39,
      "outputs": [
        {
          "output_type": "execute_result",
          "data": {
            "text/plain": [
              "customer_age\n",
              "50    383161\n",
              "30    188523\n",
              "20    146955\n",
              "40    145665\n",
              "60     99828\n",
              "70     18690\n",
              "10     12996\n",
              "80      3910\n",
              "90       272\n",
              "Name: count, dtype: int64"
            ],
            "text/html": [
              "<div>\n",
              "<style scoped>\n",
              "    .dataframe tbody tr th:only-of-type {\n",
              "        vertical-align: middle;\n",
              "    }\n",
              "\n",
              "    .dataframe tbody tr th {\n",
              "        vertical-align: top;\n",
              "    }\n",
              "\n",
              "    .dataframe thead th {\n",
              "        text-align: right;\n",
              "    }\n",
              "</style>\n",
              "<table border=\"1\" class=\"dataframe\">\n",
              "  <thead>\n",
              "    <tr style=\"text-align: right;\">\n",
              "      <th></th>\n",
              "      <th>count</th>\n",
              "    </tr>\n",
              "    <tr>\n",
              "      <th>customer_age</th>\n",
              "      <th></th>\n",
              "    </tr>\n",
              "  </thead>\n",
              "  <tbody>\n",
              "    <tr>\n",
              "      <th>50</th>\n",
              "      <td>383161</td>\n",
              "    </tr>\n",
              "    <tr>\n",
              "      <th>30</th>\n",
              "      <td>188523</td>\n",
              "    </tr>\n",
              "    <tr>\n",
              "      <th>20</th>\n",
              "      <td>146955</td>\n",
              "    </tr>\n",
              "    <tr>\n",
              "      <th>40</th>\n",
              "      <td>145665</td>\n",
              "    </tr>\n",
              "    <tr>\n",
              "      <th>60</th>\n",
              "      <td>99828</td>\n",
              "    </tr>\n",
              "    <tr>\n",
              "      <th>70</th>\n",
              "      <td>18690</td>\n",
              "    </tr>\n",
              "    <tr>\n",
              "      <th>10</th>\n",
              "      <td>12996</td>\n",
              "    </tr>\n",
              "    <tr>\n",
              "      <th>80</th>\n",
              "      <td>3910</td>\n",
              "    </tr>\n",
              "    <tr>\n",
              "      <th>90</th>\n",
              "      <td>272</td>\n",
              "    </tr>\n",
              "  </tbody>\n",
              "</table>\n",
              "</div><br><label><b>dtype:</b> int64</label>"
            ]
          },
          "metadata": {},
          "execution_count": 39
        }
      ]
    }
  ]
}
