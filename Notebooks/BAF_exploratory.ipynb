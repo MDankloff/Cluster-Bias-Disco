{
  "nbformat": 4,
  "nbformat_minor": 0,
  "metadata": {
    "colab": {
      "provenance": [],
      "mount_file_id": "1F9XxSN05aDEQQ4Rm2cMI80wUJWDqhTfP",
      "authorship_tag": "ABX9TyPeTkkDpUs2H/dyvybfpHTG",
      "include_colab_link": true
    },
    "kernelspec": {
      "name": "python3",
      "display_name": "Python 3"
    },
    "language_info": {
      "name": "python"
    }
  },
  "cells": [
    {
      "cell_type": "markdown",
      "metadata": {
        "id": "view-in-github",
        "colab_type": "text"
      },
      "source": [
        "<a href=\"https://colab.research.google.com/github/MDankloff/Cluster-Bias-Disco/blob/main/Notebooks/BAF_exploratory.ipynb\" target=\"_parent\"><img src=\"https://colab.research.google.com/assets/colab-badge.svg\" alt=\"Open In Colab\"/></a>"
      ]
    },
    {
      "cell_type": "markdown",
      "source": [
        "# Load Libraries"
      ],
      "metadata": {
        "id": "t3gmpDbsrhEl"
      }
    },
    {
      "cell_type": "code",
      "source": [
        "#!git clone https://github.com/MDankloff/Cluster-Bias-Disco.git\n",
        "#!cd Cluster-Bias-Disco/\n",
        "from google.colab import drive\n",
        "drive.mount('/content/drive')\n",
        "! cd '/content/drive/MyDrive/Mirthe_Supervision /Paper#3/BAF'"
      ],
      "metadata": {
        "colab": {
          "base_uri": "https://localhost:8080/"
        },
        "id": "bvLZyz_LKAEF",
        "outputId": "1d2d0355-c391-4d46-8ae4-a187f4fbcf7f"
      },
      "execution_count": 2,
      "outputs": [
        {
          "output_type": "stream",
          "name": "stdout",
          "text": [
            "Drive already mounted at /content/drive; to attempt to forcibly remount, call drive.mount(\"/content/drive\", force_remount=True).\n"
          ]
        }
      ]
    },
    {
      "cell_type": "code",
      "source": [
        "!pip install dask[dataframe]"
      ],
      "metadata": {
        "id": "dytoES6UqSOi"
      },
      "execution_count": null,
      "outputs": []
    },
    {
      "cell_type": "code",
      "source": [
        "import pickle\n",
        "import lightgbm as lgbm\n",
        "import pandas as pd\n",
        "import numpy as np\n",
        "import matplotlib.pyplot as plt\n",
        "import seaborn as sns\n",
        "import yaml\n",
        "import glob\n",
        "import os\n",
        "import joblib\n",
        "from sklearn.preprocessing import StandardScaler\n",
        "from sklearn.model_selection import train_test_split\n",
        "from sklearn.ensemble import RandomForestClassifier\n",
        "from sklearn.metrics import accuracy_score, precision_recall_fscore_support, confusion_matrix, roc_auc_score"
      ],
      "metadata": {
        "id": "FGODOIzkMzL0"
      },
      "execution_count": 9,
      "outputs": []
    },
    {
      "cell_type": "markdown",
      "source": [
        "# Load data and Best LightGBM Models"
      ],
      "metadata": {
        "id": "TVC8T9ABrl_v"
      }
    },
    {
      "cell_type": "code",
      "source": [
        "base_path = '/content/drive/MyDrive/Mirthe_Supervision /Paper#3/BAF/parquet data'\n",
        "\n",
        "extension = \"parquet\" #for smaller \"parquet\" depending on the downloaded file\n",
        "data_paths = glob.glob(f\"{base_path}/*.{extension}\")\n",
        "\n",
        "def read_dataset(path, ext = extension):\n",
        "    if ext == \"csv\":\n",
        "      return pd.read_csv(path)\n",
        "    elif ext == \"parquet\":\n",
        "      return pd.read_parquet(path)\n",
        "    else:\n",
        "      raise ValueError(f\"Unsupported file extension: {ext}\")\n",
        "\n",
        "# Extract variant name from the file path (without the extension)\n",
        "def get_variant(path):\n",
        "    return os.path.basename(path).split(\".\")[0]\n",
        "\n",
        "# Dictionary comprehension to read all CSV files into a dictionary of DataFrames\n",
        "dataframes = {\n",
        "    get_variant(path): read_dataset(path) for path in data_paths\n",
        "}\n",
        "print(f\"Loaded datasets: {list(dataframes.keys())}\")\n",
        "\n",
        "datasets_paths = {\n",
        "    \"Base\": base_path + \"/Base.parquet\", # sampled to best represent original dataset\n",
        "    \"Variant I\": base_path + \"/Variant I.parquet\", # higher group size disparity than base - reducing the size of the minority group from approx 20 - 10% of the dataset\n",
        "    \"Variant II\": base_path + \"/Variant II.parquet\", # higher prevalence disparity than base - one group has 5 x the fraud detection rate of the other while group sizes are equal\n",
        "    \"Variant III\": base_path + \"/Variant III.parquet\", # better separability for one of the groups -\n",
        "    \"Variant IV\": base_path + \"/Variant IV.parquet\", # higher prevalence disparity in train\n",
        "    \"Variant V\": base_path + \"/Variant V.parquet\", # better separability in train for one of the groups\n",
        "}"
      ],
      "metadata": {
        "colab": {
          "base_uri": "https://localhost:8080/"
        },
        "id": "-wBiCCQTfpHP",
        "outputId": "680858ac-5d15-4e93-febc-5e7a27010e64"
      },
      "execution_count": 36,
      "outputs": [
        {
          "output_type": "stream",
          "name": "stdout",
          "text": [
            "Loaded datasets: ['Base', 'Variant I', 'Variant II', 'Variant III', 'Variant IV', 'Variant V']\n"
          ]
        }
      ]
    },
    {
      "cell_type": "code",
      "source": [
        "#Rename datasets\n",
        "base = dataframes['Base']\n",
        "variant1 = dataframes['Variant I']\n",
        "variant2 = dataframes['Variant II']\n",
        "variant3 = dataframes['Variant III']\n",
        "variant4 = dataframes['Variant IV']\n",
        "variant5 = dataframes['Variant V']"
      ],
      "metadata": {
        "id": "o78df7oDh7Zb"
      },
      "execution_count": 34,
      "outputs": []
    },
    {
      "cell_type": "code",
      "source": [
        "# directory containing the model files\n",
        "model_dir = '/content/drive/MyDrive/Mirthe_Supervision /Paper#3/BAF/Best Model per Variant'\n",
        "\n",
        "# Get list of all model files in the directory\n",
        "model_files = glob.glob(os.path.join(model_dir, '*.pkl'))\n",
        "\n",
        "# Dictionary to store loaded models\n",
        "models = {}\n",
        "\n",
        "# Load all models from the directory and save them to the dictionary\n",
        "for model_file in model_files:\n",
        "    # Load the model\n",
        "    with open(model_file, 'rb') as f:\n",
        "        model = joblib.load(f)\n",
        "\n",
        "    # Extract the model name from the file path (without extension)\n",
        "    model_name = os.path.basename(model_file).split('.')[0]\n",
        "\n",
        "    # Add the model to the dictionary\n",
        "    models[model_name] = model\n",
        "\n",
        "    # Optional: Save the model back (though it seems redundant here)\n",
        "    save_path = os.path.join(model_dir, f'{model_name}.pkl')\n",
        "    joblib.dump(model, save_path)\n",
        "\n",
        "    print(f\"Model '{model_name}' loaded and saved to: {save_path}\")\n",
        "\n",
        "# Accessing the best model per variant\n",
        "modelb = models.get(\"model_Base_top_4\")\n",
        "modelv1 = models.get(\"model_Variant I_top_4\")\n",
        "modelv2 = models.get(\"model_Variant II_top_4\")\n",
        "modelv3 = models.get(\"model_Variant III_top_0\")\n",
        "modelv4 = models.get(\"model_Variant IV_top_6\")\n",
        "modelv5 = models.get(\"model_Variant V_top_0\")"
      ],
      "metadata": {
        "colab": {
          "base_uri": "https://localhost:8080/"
        },
        "id": "Z3xBfZhIITLa",
        "outputId": "33c57b4a-b284-4395-ef25-c6778ba9f2b7"
      },
      "execution_count": 33,
      "outputs": [
        {
          "output_type": "stream",
          "name": "stdout",
          "text": [
            "Model 'model_Base_top_4' loaded and saved to: /content/drive/MyDrive/Mirthe_Supervision /Paper#3/BAF/Best Model per Variant/model_Base_top_4.pkl\n",
            "Model 'model_Variant II_top_4' loaded and saved to: /content/drive/MyDrive/Mirthe_Supervision /Paper#3/BAF/Best Model per Variant/model_Variant II_top_4.pkl\n",
            "Model 'model_Variant III_top_0' loaded and saved to: /content/drive/MyDrive/Mirthe_Supervision /Paper#3/BAF/Best Model per Variant/model_Variant III_top_0.pkl\n",
            "Model 'model_Variant IV_top_6' loaded and saved to: /content/drive/MyDrive/Mirthe_Supervision /Paper#3/BAF/Best Model per Variant/model_Variant IV_top_6.pkl\n",
            "Model 'model_Variant V_top_0' loaded and saved to: /content/drive/MyDrive/Mirthe_Supervision /Paper#3/BAF/Best Model per Variant/model_Variant V_top_0.pkl\n",
            "Model 'model_Variant I_top_4' loaded and saved to: /content/drive/MyDrive/Mirthe_Supervision /Paper#3/BAF/Best Model per Variant/model_Variant I_top_4.pkl\n"
          ]
        }
      ]
    },
    {
      "cell_type": "markdown",
      "source": [
        "# Pre-process"
      ],
      "metadata": {
        "id": "xfWgwJf52iks"
      }
    },
    {
      "cell_type": "code",
      "source": [
        "base.info()"
      ],
      "metadata": {
        "colab": {
          "base_uri": "https://localhost:8080/"
        },
        "id": "83JdDCwX1LcR",
        "outputId": "9c6e7349-65b4-4df5-fb40-ec8908fbac4f"
      },
      "execution_count": 37,
      "outputs": [
        {
          "output_type": "stream",
          "name": "stdout",
          "text": [
            "<class 'pandas.core.frame.DataFrame'>\n",
            "RangeIndex: 1000000 entries, 0 to 999999\n",
            "Data columns (total 32 columns):\n",
            " #   Column                            Non-Null Count    Dtype  \n",
            "---  ------                            --------------    -----  \n",
            " 0   fraud_bool                        1000000 non-null  int64  \n",
            " 1   income                            1000000 non-null  float64\n",
            " 2   name_email_similarity             1000000 non-null  float64\n",
            " 3   prev_address_months_count         1000000 non-null  int64  \n",
            " 4   current_address_months_count      1000000 non-null  int64  \n",
            " 5   customer_age                      1000000 non-null  int64  \n",
            " 6   days_since_request                1000000 non-null  float64\n",
            " 7   intended_balcon_amount            1000000 non-null  float64\n",
            " 8   payment_type                      0 non-null        float64\n",
            " 9   zip_count_4w                      1000000 non-null  int64  \n",
            " 10  velocity_6h                       1000000 non-null  float64\n",
            " 11  velocity_24h                      1000000 non-null  float64\n",
            " 12  velocity_4w                       1000000 non-null  float64\n",
            " 13  bank_branch_count_8w              1000000 non-null  int64  \n",
            " 14  date_of_birth_distinct_emails_4w  1000000 non-null  int64  \n",
            " 15  employment_status                 0 non-null        float64\n",
            " 16  credit_risk_score                 1000000 non-null  int64  \n",
            " 17  email_is_free                     1000000 non-null  int64  \n",
            " 18  housing_status                    0 non-null        float64\n",
            " 19  phone_home_valid                  1000000 non-null  int64  \n",
            " 20  phone_mobile_valid                1000000 non-null  int64  \n",
            " 21  bank_months_count                 1000000 non-null  int64  \n",
            " 22  has_other_cards                   1000000 non-null  int64  \n",
            " 23  proposed_credit_limit             1000000 non-null  float64\n",
            " 24  foreign_request                   1000000 non-null  int64  \n",
            " 25  source                            0 non-null        float64\n",
            " 26  session_length_in_minutes         1000000 non-null  float64\n",
            " 27  device_os                         0 non-null        float64\n",
            " 28  keep_alive_session                1000000 non-null  int64  \n",
            " 29  device_distinct_emails_8w         1000000 non-null  int64  \n",
            " 30  device_fraud_count                1000000 non-null  int64  \n",
            " 31  month                             1000000 non-null  int64  \n",
            "dtypes: float64(14), int64(18)\n",
            "memory usage: 244.1 MB\n"
          ]
        }
      ]
    },
    {
      "cell_type": "code",
      "source": [
        "train_dfs = {key: df[df[\"month\"] < 6].sample(frac=1, replace=False) for key, df in dataframes.items()}\n",
        "test_dfs = {key: df[df[\"month\"] >= 6].sample(frac=1, replace=False) for key, df in dataframes.items()}"
      ],
      "metadata": {
        "id": "yqXlP2hCxQav"
      },
      "execution_count": 54,
      "outputs": []
    },
    {
      "cell_type": "code",
      "source": [
        "def convert_object_to_num(data):\n",
        "    for column in data.select_dtypes(include=['object']).columns:\n",
        "        # Convert object to boolean if the values are binary (0/1)\n",
        "        if data[column].isin([0, 1]).all():  # Checks if the column contains only 0s and 1s\n",
        "            data[column] = data[column].astype(bool)  # Convert to boolean (True/False)\n",
        "\n",
        "        # Otherwise, convert to numeric (int or float)\n",
        "        else:\n",
        "            try:\n",
        "                data[column] = pd.to_numeric(data[column], errors='raise', downcast='integer')\n",
        "            except ValueError:\n",
        "                # If conversion fails to int, try float\n",
        "                try:\n",
        "                    data[column] = pd.to_numeric(data[column], errors='raise', downcast='float')\n",
        "                except ValueError:\n",
        "                    # If numeric conversion fails, coerce errors to NaN (handle invalid strings)\n",
        "                    data[column] = pd.to_numeric(data[column], errors='coerce')\n",
        "    return data"
      ],
      "metadata": {
        "id": "hY7ZDW9l2mfv"
      },
      "execution_count": 55,
      "outputs": []
    },
    {
      "cell_type": "code",
      "source": [
        "base_df_cleaned = convert_object_to_num(test_dfs['Base'])\n",
        "variant1_df_cleaned = convert_object_to_num(test_dfs['Variant I'])\n",
        "variant2_df_cleaned = convert_object_to_num(test_dfs['Variant II'])\n",
        "variant3_df_cleaned = convert_object_to_num(test_dfs['Variant III'])\n",
        "variant4_df_cleaned = convert_object_to_num(test_dfs['Variant IV'])\n",
        "variant5_df_cleaned = convert_object_to_num(test_dfs['Variant V'])\n",
        "#base_df_cleaned.info()"
      ],
      "metadata": {
        "id": "-sGr9-q-4B7y"
      },
      "execution_count": 60,
      "outputs": []
    },
    {
      "cell_type": "markdown",
      "source": [
        "# Get the Errors"
      ],
      "metadata": {
        "id": "d_L6ywour2jW"
      }
    },
    {
      "cell_type": "code",
      "source": [
        "def get_errors (model, data, test_dfs):\n",
        "    \"\"\"\n",
        "    Evaluate trained model on test data and compute metrics and errors.\n",
        "    - model: Trained model (Best LightGBM model)\n",
        "    - X_test: Feature matrix for the test data\n",
        "    - Y_test: True labels for the test data\n",
        "\n",
        "    Returns:\n",
        "    - metrics: Dictionary containing calculated metrics (accuracy, precision, recall, f1, ROC AUC)\n",
        "    - predictions: DataFrame containing the true and predicted classes along with errors\n",
        "    \"\"\"\n",
        "    #get test data\n",
        "    X_test = test_dfs[data].drop(columns=[\"fraud_bool\"])\n",
        "    Y_test = test_dfs[data][\"fraud_bool\"]\n",
        "\n",
        "    #predict\n",
        "    Y_pred = model.predict(X_test)\n",
        "    Y_prob = model.predict_proba(X_test)[:, 1]  # Get probabilities for ROC AUC (for class 1)\n",
        "\n",
        "    # Convert predictions and true labels to integers if they are not already\n",
        "    Y_pred = Y_pred.astype(int)  # Ensure predictions are integers (0 or 1)\n",
        "    Y_test = Y_test.astype(int)  # Ensure true labels are integers (0 or 1)\n",
        "\n",
        "   #get evaluation metrics\n",
        "    accuracy = accuracy_score(Y_test, Y_pred)\n",
        "    precision, recall, f1, _ = precision_recall_fscore_support(Y_test, Y_pred, average='binary')\n",
        "    conf_matrix = confusion_matrix(Y_test, Y_pred)\n",
        "    roc_auc = roc_auc_score(Y_test, Y_prob)\n",
        "\n",
        "    #Print the evaluation metrics & confusion matrix\n",
        "    print(f\"Accuracy: {accuracy:.4f}\")\n",
        "    print(f\"Precision: {precision:.4f}\")\n",
        "    print(f\"Recall: {recall:.4f}\")\n",
        "    print(f\"F1-Score: {f1:.4f}\")\n",
        "    print(f\"ROC AUC: {roc_auc:.4f}\")\n",
        "    print(\"Confusion Matrix:\")\n",
        "    print(conf_matrix)\n",
        "\n",
        "    # Plot Confusion Matrix\n",
        "    plt.figure(figsize=(6, 6))\n",
        "    sns.heatmap(conf_matrix, annot=True, fmt=\"d\", cmap=\"Blues\", xticklabels=[\"Non-Fraud\", \"Fraud\"], yticklabels=[\"Non-Fraud\", \"Fraud\"])\n",
        "    plt.xlabel('Predicted')\n",
        "    plt.ylabel('True')\n",
        "    plt.title('Confusion Matrix')\n",
        "    plt.show()\n",
        "\n",
        "    #get errors\n",
        "    predictions = pd.DataFrame()\n",
        "    predictions['predicted_class'] = Y_pred.tolist()  # Convert np.array to list if needed\n",
        "    predictions = predictions.set_index(X_test.index)  # Set index to match X_test\n",
        "    predictions['true_class'] = Y_test  # Add true classes\n",
        "\n",
        "    #Calculate the errors by taking the absolute difference\n",
        "    predictions['errors'] = abs(predictions['predicted_class'] - predictions['true_class'])\n",
        "\n",
        "    return {\n",
        "    'accuracy': accuracy,\n",
        "    'precision': precision,\n",
        "    'recall': recall,\n",
        "    'f1': f1,\n",
        "    'roc_auc': roc_auc\n",
        "    }, predictions"
      ],
      "metadata": {
        "id": "Q3TdatkTrfYG"
      },
      "execution_count": 43,
      "outputs": []
    },
    {
      "cell_type": "code",
      "source": [
        "get_errors(modelb, 'Base', test_dfs)"
      ],
      "metadata": {
        "colab": {
          "base_uri": "https://localhost:8080/",
          "height": 1000
        },
        "id": "MSsL7scq0xJT",
        "outputId": "16cd53ed-996d-4e00-c121-166bbc6c43b4"
      },
      "execution_count": 57,
      "outputs": [
        {
          "output_type": "stream",
          "name": "stdout",
          "text": [
            "[LightGBM] [Warning] min_data_in_leaf is set=48, min_child_samples=20 will be ignored. Current value: min_data_in_leaf=48\n",
            "[LightGBM] [Warning] Found boosting=goss. For backwards compatibility reasons, LightGBM interprets this as boosting=gbdt, data_sample_strategy=goss.To suppress this warning, set data_sample_strategy=goss instead.\n",
            "[LightGBM] [Warning] min_data_in_leaf is set=48, min_child_samples=20 will be ignored. Current value: min_data_in_leaf=48\n",
            "[LightGBM] [Warning] Found boosting=goss. For backwards compatibility reasons, LightGBM interprets this as boosting=gbdt, data_sample_strategy=goss.To suppress this warning, set data_sample_strategy=goss instead.\n",
            "Accuracy: 0.9860\n",
            "Precision: 0.6667\n",
            "Recall: 0.0007\n",
            "F1-Score: 0.0014\n",
            "ROC AUC: 0.8517\n",
            "Confusion Matrix:\n",
            "[[202132      1]\n",
            " [  2876      2]]\n"
          ]
        },
        {
          "output_type": "display_data",
          "data": {
            "text/plain": [
              "<Figure size 600x600 with 2 Axes>"
            ],
            "image/png": "[encoded data removed]"
          },
          "metadata": {}
        },
        {
          "output_type": "execute_result",
          "data": {
            "text/plain": [
              "({'accuracy': 0.985966606669886,\n",
              "  'precision': 0.6666666666666666,\n",
              "  'recall': 0.0006949270326615705,\n",
              "  'f1': 0.0013884068031933356,\n",
              "  'roc_auc': 0.8516971846198444},\n",
              "         predicted_class  true_class  errors\n",
              " 977566                0           0       0\n",
              " 961165                0           0       0\n",
              " 934581                0           0       0\n",
              " 962124                0           0       0\n",
              " 799429                0           0       0\n",
              " ...                 ...         ...     ...\n",
              " 831573                0           0       0\n",
              " 830588                0           0       0\n",
              " 881488                0           0       0\n",
              " 846422                0           0       0\n",
              " 912698                0           0       0\n",
              " \n",
              " [205011 rows x 3 columns])"
            ]
          },
          "metadata": {},
          "execution_count": 57
        }
      ]
    }
  ]
}