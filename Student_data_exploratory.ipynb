{
  "nbformat": 4,
  "nbformat_minor": 0,
  "metadata": {
    "colab": {
      "provenance": [],
      "authorship_tag": "ABX9TyOSCjTP73FW/bYe/9AGmnOd",
      "include_colab_link": true
    },
    "kernelspec": {
      "name": "python3",
      "display_name": "Python 3"
    },
    "language_info": {
      "name": "python"
    }
  },
  "cells": [
    {
      "cell_type": "markdown",
      "metadata": {
        "id": "view-in-github",
        "colab_type": "text"
      },
      "source": [
        "<a href=\"https://colab.research.google.com/github/MDankloff/Cluster-Bias-Disco/blob/main/Student_data_exploratory.ipynb\" target=\"_parent\"><img src=\"https://colab.research.google.com/assets/colab-badge.svg\" alt=\"Open In Colab\"/></a>"
      ]
    },
    {
      "cell_type": "code",
      "execution_count": 72,
      "metadata": {
        "id": "sMFl92cTbXBX"
      },
      "outputs": [],
      "source": [
        "import pandas as pd\n",
        "import numpy as np\n",
        "import matplotlib.pyplot as plt\n",
        "import seaborn as sns\n",
        "from sklearn.metrics import accuracy_score, confusion_matrix, roc_auc_score, roc_curve\n",
        "from sklearn.decomposition import PCA\n",
        "from sklearn.preprocessing import StandardScaler\n",
        "from sklearn.model_selection import train_test_split\n",
        "from sklearn.ensemble import RandomForestClassifier\n",
        "from sklearn import preprocessing"
      ]
    },
    {
      "cell_type": "code",
      "source": [
        "students = pd.read_csv('students.csv')\n",
        "students.info()\n",
        "#print(students.iloc[3])"
      ],
      "metadata": {
        "colab": {
          "base_uri": "https://localhost:8080/"
        },
        "id": "pheBDAsDR6vq",
        "outputId": "9af26fbd-9270-4630-b681-bcb8a19c0451"
      },
      "execution_count": 73,
      "outputs": [
        {
          "output_type": "stream",
          "name": "stdout",
          "text": [
            "<class 'pandas.core.frame.DataFrame'>\n",
            "RangeIndex: 4424 entries, 0 to 4423\n",
            "Data columns (total 35 columns):\n",
            " #   Column                                          Non-Null Count  Dtype  \n",
            "---  ------                                          --------------  -----  \n",
            " 0   Marital status                                  4424 non-null   int64  \n",
            " 1   Application mode                                4424 non-null   int64  \n",
            " 2   Application order                               4424 non-null   int64  \n",
            " 3   Course                                          4424 non-null   int64  \n",
            " 4   Daytime/evening attendance                      4424 non-null   int64  \n",
            " 5   Previous qualification                          4424 non-null   int64  \n",
            " 6   Nacionality                                     4424 non-null   int64  \n",
            " 7   Mother's qualification                          4424 non-null   int64  \n",
            " 8   Father's qualification                          4424 non-null   int64  \n",
            " 9   Mother's occupation                             4424 non-null   int64  \n",
            " 10  Father's occupation                             4424 non-null   int64  \n",
            " 11  Displaced                                       4424 non-null   int64  \n",
            " 12  Educational special needs                       4424 non-null   int64  \n",
            " 13  Debtor                                          4424 non-null   int64  \n",
            " 14  Tuition fees up to date                         4424 non-null   int64  \n",
            " 15  Gender                                          4424 non-null   int64  \n",
            " 16  Scholarship holder                              4424 non-null   int64  \n",
            " 17  Age at enrollment                               4424 non-null   int64  \n",
            " 18  International                                   4424 non-null   int64  \n",
            " 19  Curricular units 1st sem (credited)             4424 non-null   int64  \n",
            " 20  Curricular units 1st sem (enrolled)             4424 non-null   int64  \n",
            " 21  Curricular units 1st sem (evaluations)          4424 non-null   int64  \n",
            " 22  Curricular units 1st sem (approved)             4424 non-null   int64  \n",
            " 23  Curricular units 1st sem (grade)                4424 non-null   float64\n",
            " 24  Curricular units 1st sem (without evaluations)  4424 non-null   int64  \n",
            " 25  Curricular units 2nd sem (credited)             4424 non-null   int64  \n",
            " 26  Curricular units 2nd sem (enrolled)             4424 non-null   int64  \n",
            " 27  Curricular units 2nd sem (evaluations)          4424 non-null   int64  \n",
            " 28  Curricular units 2nd sem (approved)             4424 non-null   int64  \n",
            " 29  Curricular units 2nd sem (grade)                4424 non-null   float64\n",
            " 30  Curricular units 2nd sem (without evaluations)  4424 non-null   int64  \n",
            " 31  Unemployment rate                               4424 non-null   float64\n",
            " 32  Inflation rate                                  4424 non-null   float64\n",
            " 33  GDP                                             4424 non-null   float64\n",
            " 34  Target                                          4424 non-null   object \n",
            "dtypes: float64(5), int64(29), object(1)\n",
            "memory usage: 1.2+ MB\n"
          ]
        }
      ]
    },
    {
      "cell_type": "code",
      "source": [
        "print(students['Target'].unique())\n",
        "#print(students['Mother\\'s occupation'].unique())"
      ],
      "metadata": {
        "colab": {
          "base_uri": "https://localhost:8080/"
        },
        "id": "DpeQsP2oZXby",
        "outputId": "40c9e210-766d-45b4-f35f-82fa7cf46b45"
      },
      "execution_count": 74,
      "outputs": [
        {
          "output_type": "stream",
          "name": "stdout",
          "text": [
            "['Dropout' 'Graduate' 'Enrolled']\n"
          ]
        }
      ]
    },
    {
      "cell_type": "code",
      "source": [
        "# Convert 'Target' to numerical features for each class\n",
        "students['Dropout'] = (students['Target'] == 'Dropout').astype(int)\n",
        "students['Enrolled'] = (students['Target'] == 'Enrolled').astype(int)\n",
        "students['Graduate'] = (students['Target'] == 'Graduate').astype(int)\n",
        "\n",
        "# Define features (X) and target variables for each class\n",
        "x = students.drop(['Target', 'Dropout', 'Enrolled', 'Graduate'], axis=1)\n",
        "y_dropout = students['Dropout']\n",
        "y_enrolled = students['Enrolled']\n",
        "y_graduate = students['Graduate']\n"
      ],
      "metadata": {
        "id": "I4DiwmMIRtA0"
      },
      "execution_count": 75,
      "outputs": []
    },
    {
      "cell_type": "code",
      "source": [
        "print(students.iloc[3])"
      ],
      "metadata": {
        "colab": {
          "base_uri": "https://localhost:8080/"
        },
        "id": "EV0ngfXNdKL-",
        "outputId": "446681ee-f15b-4f9b-c469-9ed2eea1119f"
      },
      "execution_count": 76,
      "outputs": [
        {
          "output_type": "stream",
          "name": "stdout",
          "text": [
            "Marital status                                            1\n",
            "Application mode                                          8\n",
            "Application order                                         2\n",
            "Course                                                   15\n",
            "Daytime/evening attendance                                1\n",
            "Previous qualification                                    1\n",
            "Nacionality                                               1\n",
            "Mother's qualification                                   23\n",
            "Father's qualification                                   27\n",
            "Mother's occupation                                       6\n",
            "Father's occupation                                       4\n",
            "Displaced                                                 1\n",
            "Educational special needs                                 0\n",
            "Debtor                                                    0\n",
            "Tuition fees up to date                                   1\n",
            "Gender                                                    0\n",
            "Scholarship holder                                        0\n",
            "Age at enrollment                                        20\n",
            "International                                             0\n",
            "Curricular units 1st sem (credited)                       0\n",
            "Curricular units 1st sem (enrolled)                       6\n",
            "Curricular units 1st sem (evaluations)                    8\n",
            "Curricular units 1st sem (approved)                       6\n",
            "Curricular units 1st sem (grade)                  13.428571\n",
            "Curricular units 1st sem (without evaluations)            0\n",
            "Curricular units 2nd sem (credited)                       0\n",
            "Curricular units 2nd sem (enrolled)                       6\n",
            "Curricular units 2nd sem (evaluations)                   10\n",
            "Curricular units 2nd sem (approved)                       5\n",
            "Curricular units 2nd sem (grade)                       12.4\n",
            "Curricular units 2nd sem (without evaluations)            0\n",
            "Unemployment rate                                       9.4\n",
            "Inflation rate                                         -0.8\n",
            "GDP                                                   -3.12\n",
            "Target                                             Graduate\n",
            "Dropout                                                   0\n",
            "Enrolled                                                  0\n",
            "Graduate                                                  1\n",
            "Name: 3, dtype: object\n"
          ]
        }
      ]
    },
    {
      "cell_type": "code",
      "source": [
        "#Train RF model to predict drop out\n",
        "x_train, x_test, y_train_dropout, y_test_dropout = train_test_split(\n",
        "    x, y_dropout, test_size=0.2, shuffle=True, stratify=y_dropout\n",
        ")\n",
        "\n",
        "model_dropout = RandomForestClassifier()\n",
        "model_dropout.fit(x_train, y_train_dropout)\n",
        "\n",
        "yhat_dropout = model_dropout.predict(x_test)\n",
        "len(yhat_dropout)"
      ],
      "metadata": {
        "colab": {
          "base_uri": "https://localhost:8080/"
        },
        "id": "3vhzmok7Z1um",
        "outputId": "e68f42d2-c905-409c-cc7e-f05fee346275"
      },
      "execution_count": 77,
      "outputs": [
        {
          "output_type": "execute_result",
          "data": {
            "text/plain": [
              "885"
            ]
          },
          "metadata": {},
          "execution_count": 77
        }
      ]
    },
    {
      "cell_type": "code",
      "source": [
        "#Get the errors\n",
        "predictions = pd.DataFrame()\n",
        "predictions['predicted_class'] = yhat_dropout.tolist()\n",
        "predictions = predictions.set_index(x_test.index)\n",
        "predictions['true_class'] = y_test_dropout\n",
        "predictions['errors'] = abs(predictions['predicted_class'] - predictions['true_class'])\n",
        "\n",
        "students = x_test.merge(predictions, how= 'outer', left_index=True, right_index=True)\n",
        "errors = students['errors']\n",
        "df_out = students.drop(['predicted_class', 'true_class', 'errors'], axis=1)\n",
        "students[students['errors']==1]\n",
        "\n",
        "#accuracy\n",
        "accuracy = accuracy_score(predictions['true_class'], predictions['predicted_class'])\n",
        "print(f\"Accuracy: {accuracy:.4f}\")\n",
        "\n",
        "#confusion matrix\n",
        "cm = confusion_matrix(predictions['true_class'], predictions['predicted_class'])\n",
        "print(cm)"
      ],
      "metadata": {
        "colab": {
          "base_uri": "https://localhost:8080/"
        },
        "id": "rtojVWOc91a-",
        "outputId": "e25c954c-6ac7-4262-cc9f-ac519d84c49d"
      },
      "execution_count": 78,
      "outputs": [
        {
          "output_type": "stream",
          "name": "stdout",
          "text": [
            "Accuracy: 0.8814\n",
            "[[574  27]\n",
            " [ 78 206]]\n"
          ]
        }
      ]
    },
    {
      "cell_type": "code",
      "source": [
        "#add error labels\n",
        "def get_error_type(row):\n",
        "  true_class = row['true_class']\n",
        "  predicted_class = row['predicted_class']\n",
        "\n",
        "  if true_class == predicted_class and true_class == 1:\n",
        "      row['TP'] = 1\n",
        "      row['TN'] = 0\n",
        "      row['FN'] = 0\n",
        "      row['FP'] = 0\n",
        "  elif true_class == predicted_class and true_class == 0:\n",
        "      row['TP'] = 0\n",
        "      row['TN'] = 1\n",
        "      row['FN'] = 0\n",
        "      row['FP'] = 0\n",
        "  elif true_class != predicted_class and true_class == 1:\n",
        "      row['TP'] = 0\n",
        "      row['TN'] = 0\n",
        "      row['FN'] = 1\n",
        "      row['FP'] = 0\n",
        "  elif true_class != predicted_class and true_class == 0:\n",
        "      row['TP'] = 0\n",
        "      row['TN'] = 0\n",
        "      row['FN'] = 0\n",
        "      row['FP'] = 1\n",
        "\n",
        "  return row\n",
        "\n",
        "#apply function to rows in data\n",
        "students_werror = students.apply(get_error_type, axis=1)\n",
        "\n",
        "print(students_werror)"
      ],
      "metadata": {
        "colab": {
          "base_uri": "https://localhost:8080/"
        },
        "id": "oTS8XAvk2NFq",
        "outputId": "ddbf0430-16c7-414a-a6f0-322da013098f"
      },
      "execution_count": 79,
      "outputs": [
        {
          "output_type": "stream",
          "name": "stdout",
          "text": [
            "      Marital status  Application mode  Application order  Course  \\\n",
            "3054             1.0               8.0                1.0    10.0   \n",
            "1827             1.0               8.0                1.0     6.0   \n",
            "3944             5.0              12.0                1.0     4.0   \n",
            "3887             1.0               1.0                1.0    10.0   \n",
            "741              1.0               1.0                1.0    11.0   \n",
            "...              ...               ...                ...     ...   \n",
            "1781             1.0               1.0                5.0     5.0   \n",
            "3279             4.0              12.0                1.0     3.0   \n",
            "1877             1.0               1.0                5.0    12.0   \n",
            "1096             1.0               8.0                1.0    14.0   \n",
            "3733             2.0              12.0                1.0    10.0   \n",
            "\n",
            "      Daytime/evening attendance  Previous qualification  Nacionality  \\\n",
            "3054                         1.0                     1.0          1.0   \n",
            "1827                         1.0                     1.0          1.0   \n",
            "3944                         1.0                     1.0          1.0   \n",
            "3887                         1.0                     1.0          1.0   \n",
            "741                          1.0                     1.0          1.0   \n",
            "...                          ...                     ...          ...   \n",
            "1781                         1.0                     1.0          1.0   \n",
            "3279                         0.0                     1.0          1.0   \n",
            "1877                         1.0                     1.0          1.0   \n",
            "1096                         1.0                     3.0          1.0   \n",
            "3733                         1.0                     1.0          1.0   \n",
            "\n",
            "      Mother's qualification  Father's qualification  Mother's occupation  \\\n",
            "3054                    23.0                    28.0                 10.0   \n",
            "1827                     1.0                    28.0                  5.0   \n",
            "3944                     1.0                     1.0                  5.0   \n",
            "3887                    13.0                    28.0                 10.0   \n",
            "741                      3.0                     3.0                  3.0   \n",
            "...                      ...                     ...                  ...   \n",
            "1781                     1.0                    14.0                  4.0   \n",
            "3279                    22.0                    27.0                 10.0   \n",
            "1877                    22.0                    14.0                  5.0   \n",
            "1096                    10.0                     3.0                  6.0   \n",
            "3733                    22.0                    27.0                  8.0   \n",
            "\n",
            "      ...  Unemployment rate  Inflation rate   GDP  predicted_class  \\\n",
            "3054  ...               16.2             0.3 -0.92              0.0   \n",
            "1827  ...                9.4            -0.8 -3.12              0.0   \n",
            "3944  ...                8.9             1.4  3.51              1.0   \n",
            "3887  ...               12.4             0.5  1.79              0.0   \n",
            "741   ...                8.9             1.4  3.51              0.0   \n",
            "...   ...                ...             ...   ...              ...   \n",
            "1781  ...               11.1             0.6  2.02              0.0   \n",
            "3279  ...               16.2             0.3 -0.92              0.0   \n",
            "1877  ...                7.6             2.6  0.32              1.0   \n",
            "1096  ...               10.8             1.4  1.74              1.0   \n",
            "3733  ...                8.9             1.4  3.51              0.0   \n",
            "\n",
            "      true_class  errors   TP   TN   FN   FP  \n",
            "3054         0.0     0.0  0.0  1.0  0.0  0.0  \n",
            "1827         0.0     0.0  0.0  1.0  0.0  0.0  \n",
            "3944         1.0     0.0  1.0  0.0  0.0  0.0  \n",
            "3887         0.0     0.0  0.0  1.0  0.0  0.0  \n",
            "741          0.0     0.0  0.0  1.0  0.0  0.0  \n",
            "...          ...     ...  ...  ...  ...  ...  \n",
            "1781         0.0     0.0  0.0  1.0  0.0  0.0  \n",
            "3279         0.0     0.0  0.0  1.0  0.0  0.0  \n",
            "1877         1.0     0.0  1.0  0.0  0.0  0.0  \n",
            "1096         1.0     0.0  1.0  0.0  0.0  0.0  \n",
            "3733         1.0     1.0  0.0  0.0  1.0  0.0  \n",
            "\n",
            "[885 rows x 41 columns]\n"
          ]
        }
      ]
    },
    {
      "cell_type": "code",
      "source": [
        "errors_df = students_werror[['TP', 'TN', 'FN', 'FP']]\n",
        "students_werror['Error_type'] = errors_df.idxmax(axis=1).astype('category')\n"
      ],
      "metadata": {
        "id": "8qZL9Srq5C6u"
      },
      "execution_count": 82,
      "outputs": []
    },
    {
      "cell_type": "code",
      "source": [
        "errors_by_gender = students_werror.groupby(['Gender','Error_type']).size().unstack(fill_value=0)\n",
        "# Normalize counts along the y-axis\n",
        "error_by_gender_proportions = errors_by_gender.div(errors_by_gender.sum(axis=1), axis=0)\n",
        "\n",
        "# Plot the proportional stacked bar chart\n",
        "error_by_gender_proportions.plot(kind='bar', stacked=True, figsize=(10, 6))\n",
        "\n",
        "# Add labels and title\n",
        "plt.title('Proportional Stacked Bar Chart for Error Types per Demographic Group')\n",
        "plt.xlabel('Gender (0 male, 1 female)')\n",
        "plt.ylabel('Proportion')\n",
        "plt.legend(title='Error Type', loc='upper right')\n",
        "\n",
        "# Show the plot\n",
        "plt.show()"
      ],
      "metadata": {
        "colab": {
          "base_uri": "https://localhost:8080/",
          "height": 629
        },
        "id": "UymugkTf4RSp",
        "outputId": "1d2c5cca-38ae-4fd3-fa68-5ffb9dce560a"
      },
      "execution_count": 84,
      "outputs": [
        {
          "output_type": "stream",
          "name": "stderr",
          "text": [
            "<ipython-input-84-4507db8b139d>:1: FutureWarning: The default of observed=False is deprecated and will be changed to True in a future version of pandas. Pass observed=False to retain current behavior or observed=True to adopt the future default and silence this warning.\n",
            "  errors_by_gender = students_werror.groupby(['Gender','Error_type']).size().unstack(fill_value=0)\n"
          ]
        },
        {
          "output_type": "display_data",
          "data": {
            "text/plain": [
              "<Figure size 1000x600 with 1 Axes>"
            ],
            "image/png": "[encoded data removed]"
          },
          "metadata": {}
        }
      ]
    }
  ]
}